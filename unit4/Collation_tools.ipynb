{
 "cells": [
  {
   "cell_type": "markdown",
   "metadata": {},
   "source": [
    "# Collation tools\n",
    "\n",
    "Tools commonly used for the machine-assisted collation and visualization of witnesses with variation include the following:\n",
    "\n",
    "* Collate\n",
    "* diff/wdiff\n",
    "* TuStep\n",
    "* NMerge\n",
    "* TEIComparator\n",
    "* Juxta\n",
    "* Versioning machine\n",
    "* CollateX\n",
    "\n",
    "## Collate\n",
    "<img src=\"collate_screenshot.jpg\"/>\n",
    "**Collate** (http://www.hd.uib.no/humdata/2-91/robin.htm) was an automated collation tool that ran on early Macintosh computers. It is no longer distributed or maintained, but it is historically important as the first tool designed specifically to perform the sort of alignment, collation, and reporting undertaken by textual scholars in the preparation of critical editions.\n",
    "\n",
    "## diff/wdiff\n",
    "<img src=\"wdiff_screenshot.png\"/>\n",
    "**diff** is a command-line utility that compares two text files line by line, locates differences, and creates an output file that summarizes the line-level insertions and deletions that can be used to convert one of the files to the other programmatically. It is not strictly a collation and alignment tool, but it does identify lines in two files that differ textually, and in that way has some of the same functionality as full witness collation. **diff** is intended primarily for line-level comparisons with genres characterized by short lines, such as computer programs. In Digital Humanities work, it is common for an entire paragraph to be encoded as a single line (that is, without any internal new line characters), which means that **diff** will report that the lines differ, but won’t identify the differences. here is the output of comparing two excerpts from different editions of Charles Darwin’s *Origin of species*. It shows that one entire paragraph (= line) must be removed from one witness and a different one inserted in its place to make them agree, without reporting on the moments of variation, which are actually rather few:\n",
    "\n",
    "    1c1\n",
    "    < WHEN we look to the individuals of the same variety or sub-variety of our older cultivated plants and animals, one of the first points which strikes us, is, that they generally differ much more from each other, than do the individuals of any one species or variety in a state of nature. When we reflect on the vast diversity of the plants and animals which have been cultivated, and which have varied during all ages under the most different climates and treatment, I think we are driven to conclude that this greater variability is simply due to our domestic productions having been raised under conditions of life not so uniform as, and somewhat different from, those to which the parent-species have been exposed under nature. There is, also, I think, some probability in the view propounded by Andrew Knight, that this variability may be partly connected with excess of food. It seems pretty clear that organic beings must be exposed during several generations to the new conditions of life to cause any appreciable amount of variation; and that when the organisation has once begun to vary, it generally continues to vary for many generations. No case is on record of a variable being ceasing to be variable under cultivation. Our oldest cultivated plants, such as wheat, still often yield new varieties: our oldest domesticated animals are still capable of rapid improvement or modification.\n",
    "    ---\n",
    "    > Causes of Variability. WHEN we compare the individuals of the same variety or sub-variety of our older cultivated plants and animals, one of the first points which strikes us is, that they generally differ more from each other than do the individuals of any one species or variety in a state of nature. And if we reflect on the vast diversity of the plants and animals which have been cultivated, and which have varied during all ages under the most different climates and treatment, we are driven to conclude that this great variability is due to our domestic productions having been raised under conditions of life not so uniform as, and somewhat different from, those to which the parent-species had been exposed under nature. There is, also, some probability in the view propounded by Andrew Knight, that this variability may be partly connected with excess of food. It seems clear that organic beings must be exposed during several generations to new conditions to cause any great amount of variation; and that, when the organisation has once begun to vary, it generally continues varying for many generations. No case is on record of a variable organism ceasing to vary under cultivation. Our oldest cultivated plants, such as wheat, still yield new varieties: our oldest domesticated animals are still capable of rapid improvement or modification.\n",
    "\n",
    "“The GNU **wdiff** program is a front end to **diff** for comparing files on a word per word basis. A word is anything between whitespace. This is useful for comparing two texts in which a few words have been changed and for which paragraphs have been refilled. It works by creating two temporary files, one word per line, and then executes diff on these files. It collects the diff output and uses it to produce a nicer display of word differences between the original files.” (https://www.gnu.org/software/wdiff/) **wdiff** thus expands on the line-level orientation of **diff** to provide a word-level perspective, and it outputs a consolidated view that makes it easy to distinguish the places of agreement from the variation within a line:\n",
    "\n",
    "    {+Causes of Variability.+} WHEN we [-look to-] {+compare+} the individuals of the same variety or sub-variety of our older cultivated plants and animals, one of the first points which strikes [-us,-] {+us+} is, that they generally differ [-much-] more from each [-other,-] {+other+} than do the individuals of any one species or variety in a state of nature. [-When-] {+And if+} we reflect on the vast diversity of the plants and animals which have been cultivated, and which have varied during all ages under the most different climates and treatment, [-I think-] we are driven to conclude that this [-greater-] {+great+} variability is [-simply-] due to our domestic productions having been raised under conditions of life not so uniform as, and somewhat different from, those to which the parent-species [-have-] {+had+} been exposed under nature. There is, also, [-I think,-] some probability in the view propounded by Andrew Knight, that this variability may be partly connected with excess of food. It seems [-pretty-] clear that organic beings must be exposed during several generations to [-the-] new conditions [-of life-] to cause any [-appreciable-] {+great+} amount of variation; and [-that-] {+that,+} when the organisation has once begun to vary, it generally continues [-to vary-] {+varying+} for many generations. No case is on record of a variable [-being-] {+organism+} ceasing to [-be variable-] {+vary+} under cultivation. Our oldest cultivated plants, such as wheat, still [-often-] yield new varieties: our oldest domesticated animals are still capable of rapid improvement or modification.\n",
    "\n",
    "While the output of **wdiff** is closer to the way humanists are used to viewing textual variation than the output of **diff**, both approaches are limited by their ability to compare only two witnesses. There are graphic front ends for **diff** that highlight the differences, and an **mdiff** utility that promises to support the comparison of multiple witnesses, but currently supports word-level reporting only for two witness. Tools based on **diff** tend to have only limited support for modifying default tokenization and normalization (e.g., **diff** can be told to ignore differences in upper vs lower case).\n",
    "\n",
    "\n",
    "## TuStep\n",
    "\n",
    "## NMerge\n",
    "## TEIComparator\n",
    "## Juxta\n",
    "## Versioning machine\n",
    "## CollateX\n",
    "\n"
   ]
  }
 ],
 "metadata": {
  "kernelspec": {
   "display_name": "Python [Root]",
   "language": "python",
   "name": "Python [Root]"
  },
  "language_info": {
   "codemirror_mode": {
    "name": "ipython",
    "version": 3
   },
   "file_extension": ".py",
   "mimetype": "text/x-python",
   "name": "python",
   "nbconvert_exporter": "python",
   "pygments_lexer": "ipython3",
   "version": "3.5.2"
  }
 },
 "nbformat": 4,
 "nbformat_minor": 0
}
