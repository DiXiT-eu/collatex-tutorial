{
 "cells": [
  {
   "cell_type": "markdown",
   "metadata": {},
   "source": [
    "#CollateX and XML, Part 2\n",
    "\n",
    "David J. Birnbaum (<djbpitt@gmail.com>, <http://www.obdurodon.org>), 2015-06-29 \n",
    "\n",
    "This example collates a single line of XML from four witnesses. In Part 1 we spelled out the details step by step in a way that would not be used in a real project, but that made it easy to see how each step moves toward the final result. In Part 2 we employ three classes (WitnessSet, Line, Word) to make the code more extensible and adaptable.\n",
    "\n",
    "The sample input is still a single line for four witnesses, given as strings within the Python script. This time, though, the witness identifier (siglum) is given as an attribute on the XML input line."
   ]
  },
  {
   "cell_type": "markdown",
   "metadata": {},
   "source": [
    "Load libraries. Unchanged from Part 1."
   ]
  },
  {
   "cell_type": "code",
   "execution_count": 1,
   "metadata": {
    "collapsed": true
   },
   "outputs": [],
   "source": [
    "from collatex import *\n",
    "from lxml import etree\n",
    "import json,re"
   ]
  },
  {
   "cell_type": "markdown",
   "metadata": {},
   "source": [
    "The **WitnessSet** class represents all of the witnesses being collated. The `generate_json_input()` method returns a JSON object that is suitable for input into CollateX.\n",
    "\n",
    "At the moment each witness contains just one line (`<l>` element), so the entire witness is treated as a line. In future parts of this tutorial, the lines will be processed individually, segmenting the collation task into subtasks that collate just one line at a time."
   ]
  },
  {
   "cell_type": "code",
   "execution_count": 2,
   "metadata": {
    "collapsed": false
   },
   "outputs": [],
   "source": [
    "class WitnessSet:\n",
    "    def __init__(self,witnessList):\n",
    "        self.witnessList = witnessList\n",
    "    def generate_json_input(self):\n",
    "        json_input = {}\n",
    "        witnesses = []\n",
    "        json_input['witnesses'] = witnesses\n",
    "        for witness in self.witnessList:\n",
    "            line = Line(witness)\n",
    "            witnessData = {}\n",
    "            witnessData['id'] = line.siglum()\n",
    "            witnessTokens = {}\n",
    "            witnessData['tokens'] = line.tokens()\n",
    "            witnesses.append(witnessData)\n",
    "        return json_input"
   ]
  },
  {
   "cell_type": "markdown",
   "metadata": {},
   "source": [
    "The **Line** class contains methods applied to individual lines (note that each witness in this part of the tutorial consists of only a single line). The XSLT stylesheets and the functions to use them have been moved into the Line class, since they apply to individual lines. The `siglum()` method returns the manuscript identifier and the `tokens()` method returns a list of JSON objects, one for each word token. \n",
    "\n",
    "With a witness that contained more than one line, the siglum would be a property of the witness and the tokens would be a property of each line of the witness. In this part of the tutorial, since each witness has only one line, the siglum is recorded as an attribute of the line, rather than of an XML ancestor that contains all of the lines of the witness."
   ]
  },
  {
   "cell_type": "code",
   "execution_count": 3,
   "metadata": {
    "collapsed": false
   },
   "outputs": [],
   "source": [
    "class Line:\n",
    "    addWMilestones = etree.XML(\"\"\"\n",
    "    <xsl:stylesheet version=\"1.0\" xmlns:xsl=\"http://www.w3.org/1999/XSL/Transform\">\n",
    "        <xsl:output method=\"xml\" indent=\"no\" encoding=\"UTF-8\" omit-xml-declaration=\"yes\"/>\n",
    "        <xsl:template match=\"*|@*\">\n",
    "            <xsl:copy>\n",
    "                <xsl:apply-templates select=\"node() | @*\"/>\n",
    "            </xsl:copy>\n",
    "        </xsl:template>\n",
    "        <xsl:template match=\"/*\">\n",
    "            <xsl:copy>\n",
    "                <xsl:apply-templates select=\"@*\"/>\n",
    "                <!-- insert a <w/> milestone before the first word -->\n",
    "                <w/>\n",
    "                <xsl:apply-templates/>\n",
    "            </xsl:copy>\n",
    "        </xsl:template>\n",
    "        <!-- convert <add>, <sic>, and <crease> to milestones (and leave them that way)\n",
    "             CUSTOMIZE HERE: add other elements that may span multiple word tokens\n",
    "        -->\n",
    "        <xsl:template match=\"add | sic | crease \">\n",
    "            <xsl:element name=\"{name()}\">\n",
    "                <xsl:attribute name=\"n\">start</xsl:attribute>\n",
    "            </xsl:element>\n",
    "            <xsl:apply-templates/>\n",
    "            <xsl:element name=\"{name()}\">\n",
    "                <xsl:attribute name=\"n\">end</xsl:attribute>\n",
    "            </xsl:element>\n",
    "        </xsl:template>\n",
    "        <xsl:template match=\"note\"/>\n",
    "        <xsl:template match=\"text()\">\n",
    "            <xsl:call-template name=\"whiteSpace\">\n",
    "                <xsl:with-param name=\"input\" select=\"translate(.,'&#x0a;',' ')\"/>\n",
    "            </xsl:call-template>\n",
    "        </xsl:template>\n",
    "        <xsl:template name=\"whiteSpace\">\n",
    "            <xsl:param name=\"input\"/>\n",
    "            <xsl:choose>\n",
    "                <xsl:when test=\"not(contains($input, ' '))\">\n",
    "                    <xsl:value-of select=\"$input\"/>\n",
    "                </xsl:when>\n",
    "                <xsl:when test=\"starts-with($input,' ')\">\n",
    "                    <xsl:call-template name=\"whiteSpace\">\n",
    "                        <xsl:with-param name=\"input\" select=\"substring($input,2)\"/>\n",
    "                    </xsl:call-template>\n",
    "                </xsl:when>\n",
    "                <xsl:otherwise>\n",
    "                    <xsl:value-of select=\"substring-before($input, ' ')\"/>\n",
    "                    <w/>\n",
    "                    <xsl:call-template name=\"whiteSpace\">\n",
    "                        <xsl:with-param name=\"input\" select=\"substring-after($input,' ')\"/>\n",
    "                    </xsl:call-template>\n",
    "                </xsl:otherwise>\n",
    "            </xsl:choose>\n",
    "        </xsl:template>\n",
    "    </xsl:stylesheet>\n",
    "    \"\"\")\n",
    "    transformAddW = etree.XSLT(addWMilestones)\n",
    "    xsltWrapW = etree.XML('''\n",
    "    <xsl:stylesheet xmlns:xsl=\"http://www.w3.org/1999/XSL/Transform\" version=\"1.0\">\n",
    "        <xsl:output method=\"xml\" indent=\"no\" omit-xml-declaration=\"yes\"/>\n",
    "        <xsl:template match=\"/*\">\n",
    "            <xsl:copy>\n",
    "                <xsl:apply-templates select=\"w\"/>\n",
    "            </xsl:copy>\n",
    "        </xsl:template>\n",
    "        <xsl:template match=\"w\">\n",
    "            <!-- faking <xsl:for-each-group> as well as the \"<<\" and except\" operators -->\n",
    "            <xsl:variable name=\"tooFar\" select=\"following-sibling::w[1] | following-sibling::w[1]/following::node()\"/>\n",
    "            <w>\n",
    "                <xsl:copy-of select=\"following-sibling::node()[count(. | $tooFar) != count($tooFar)]\"/>\n",
    "            </w>\n",
    "        </xsl:template>\n",
    "    </xsl:stylesheet>\n",
    "    ''')\n",
    "    transformWrapW = etree.XSLT(xsltWrapW)\n",
    "    def __init__(self,line):\n",
    "        self.line = line\n",
    "    def siglum(self):\n",
    "        return str(etree.XML(self.line).xpath('/l/@wit')[0])\n",
    "    def tokens(self):\n",
    "        return [Word(token).createToken() for token in Line.transformWrapW(Line.transformAddW(etree.XML(self.line))).xpath('//w')]\n",
    "        "
   ]
  },
  {
   "cell_type": "markdown",
   "metadata": {},
   "source": [
    "The **Word** class contains methods that apply to individual words. `unwrap()` and `normalize()` are private; they are used by `createToken()` to return a JSON object with the \"t\" and \"n\" properties for a word token."
   ]
  },
  {
   "cell_type": "code",
   "execution_count": 4,
   "metadata": {
    "collapsed": true
   },
   "outputs": [],
   "source": [
    "class Word:\n",
    "    unwrapRegex = re.compile('<w>(.*)</w>')\n",
    "    stripTagsRegex = re.compile('<.*?>')\n",
    "    def __init__(self,word):\n",
    "        self.word = word\n",
    "    def unwrap(self):\n",
    "        return Word.unwrapRegex.match(etree.tostring(self.word,encoding='unicode')).group(1)\n",
    "    def normalize(self):\n",
    "        return Word.stripTagsRegex.sub('',self.unwrap().lower())\n",
    "    def createToken(self):\n",
    "        token = {}\n",
    "        token['t'] = self.unwrap()\n",
    "        token['n'] = self.normalize()\n",
    "        return token"
   ]
  },
  {
   "cell_type": "markdown",
   "metadata": {},
   "source": [
    "Create XML data and assign to a `witnessSet` variable"
   ]
  },
  {
   "cell_type": "code",
   "execution_count": 5,
   "metadata": {
    "collapsed": true
   },
   "outputs": [],
   "source": [
    "A = \"\"\"<l wit='A'><abbrev>Et</abbrev>cil i partent seulement</l>\"\"\"\n",
    "B = \"\"\"<l wit='B'><abbrev>Et</abbrev>cil i p<abbrev>er</abbrev>dent ausem<abbrev>en</abbrev>t</l>\"\"\"\n",
    "C = \"\"\"<l wit='C'><abbrev>Et</abbrev>cil i p<abbrev>ar</abbrev>tent seulema<abbrev>n</abbrev>t</l>\"\"\"\n",
    "D = \"\"\"<l wit='D'>E cil i partent sulement</l>\"\"\"\n",
    "\n",
    "witnessSet = WitnessSet([A,B,C,D])"
   ]
  },
  {
   "cell_type": "markdown",
   "metadata": {},
   "source": [
    "Generate JSON from the data and examine it"
   ]
  },
  {
   "cell_type": "code",
   "execution_count": 6,
   "metadata": {
    "collapsed": false
   },
   "outputs": [
    {
     "name": "stdout",
     "output_type": "stream",
     "text": [
      "{'witnesses': [{'tokens': [{'t': '<abbrev>Et</abbrev>cil', 'n': 'etcil'}, {'t': 'i', 'n': 'i'}, {'t': 'partent', 'n': 'partent'}, {'t': 'seulement', 'n': 'seulement'}], 'id': 'A'}, {'tokens': [{'t': '<abbrev>Et</abbrev>cil', 'n': 'etcil'}, {'t': 'i', 'n': 'i'}, {'t': 'p<abbrev>er</abbrev>dent', 'n': 'perdent'}, {'t': 'ausem<abbrev>en</abbrev>t', 'n': 'ausement'}], 'id': 'B'}, {'tokens': [{'t': '<abbrev>Et</abbrev>cil', 'n': 'etcil'}, {'t': 'i', 'n': 'i'}, {'t': 'p<abbrev>ar</abbrev>tent', 'n': 'partent'}, {'t': 'seulema<abbrev>n</abbrev>t', 'n': 'seulemant'}], 'id': 'C'}, {'tokens': [{'t': 'E', 'n': 'e'}, {'t': 'cil', 'n': 'cil'}, {'t': 'i', 'n': 'i'}, {'t': 'partent', 'n': 'partent'}, {'t': 'sulement', 'n': 'sulement'}], 'id': 'D'}]}\n"
     ]
    }
   ],
   "source": [
    "json_input = witnessSet.generate_json_input()\n",
    "print(json_input)"
   ]
  },
  {
   "cell_type": "markdown",
   "metadata": {},
   "source": [
    "Collate and output the results as a plain-text alignment table, as JSON, and as colored HTML"
   ]
  },
  {
   "cell_type": "code",
   "execution_count": 7,
   "metadata": {
    "collapsed": false
   },
   "outputs": [
    {
     "name": "stdout",
     "output_type": "stream",
     "text": [
      "+----------------------+----------------------+----------------------+----------+\n",
      "|          A           |          B           |          C           |    D     |\n",
      "+----------------------+----------------------+----------------------+----------+\n",
      "| <abbrev>Et</abbrev>c | <abbrev>Et</abbrev>c | <abbrev>Et</abbrev>c |    E     |\n",
      "|          il          |          il          |          il          |          |\n",
      "+----------------------+----------------------+----------------------+----------+\n",
      "|          -           |          -           |          -           |   cil    |\n",
      "+----------------------+----------------------+----------------------+----------+\n",
      "|          i           |          i           |          i           |    i     |\n",
      "+----------------------+----------------------+----------------------+----------+\n",
      "|       partent        | p<abbrev>er</abbrev> | p<abbrev>ar</abbrev> | partent  |\n",
      "|                      |         dent         |         tent         |          |\n",
      "+----------------------+----------------------+----------------------+----------+\n",
      "|      seulement       | ausem<abbrev>en</abb | seulema<abbrev>n</ab | sulement |\n",
      "|                      |        rev>t         |        brev>t        |          |\n",
      "+----------------------+----------------------+----------------------+----------+\n",
      "{\"table\": [[[{\"n\": \"etcil\", \"t\": \"<abbrev>Et</abbrev>cil\"}], [null], [{\"n\": \"i\", \"t\": \"i\"}], [{\"n\": \"partent\", \"t\": \"partent\"}], [{\"n\": \"seulement\", \"t\": \"seulement\"}]], [[{\"n\": \"etcil\", \"t\": \"<abbrev>Et</abbrev>cil\"}], [null], [{\"n\": \"i\", \"t\": \"i\"}], [{\"n\": \"perdent\", \"t\": \"p<abbrev>er</abbrev>dent\"}], [{\"n\": \"ausement\", \"t\": \"ausem<abbrev>en</abbrev>t\"}]], [[{\"n\": \"etcil\", \"t\": \"<abbrev>Et</abbrev>cil\"}], [null], [{\"n\": \"i\", \"t\": \"i\"}], [{\"n\": \"partent\", \"t\": \"p<abbrev>ar</abbrev>tent\"}], [{\"n\": \"seulemant\", \"t\": \"seulema<abbrev>n</abbrev>t\"}]], [[{\"n\": \"e\", \"t\": \"E\"}], [{\"n\": \"cil\", \"t\": \"cil\"}], [{\"n\": \"i\", \"t\": \"i\"}], [{\"n\": \"partent\", \"t\": \"partent\"}], [{\"n\": \"sulement\", \"t\": \"sulement\"}]]], \"witnesses\": [\"A\", \"B\", \"C\", \"D\"]}\n"
     ]
    },
    {
     "data": {
      "text/html": [
       "<TABLE cellpadding=\"4\" border=\"1\" style=\"border: 1px solid #000000; border-collapse: collapse;\">\n",
       " <TR>\n",
       "  <TH>A</TH>\n",
       "  <TH>B</TH>\n",
       "  <TH>C</TH>\n",
       "  <TH>D</TH>\n",
       " </TR>\n",
       " <TR>\n",
       "  <TD bgcolor=\"FF0000\">etcil</TD>\n",
       "  <TD bgcolor=\"FF0000\">etcil</TD>\n",
       "  <TD bgcolor=\"FF0000\">etcil</TD>\n",
       "  <TD bgcolor=\"FF0000\">e</TD>\n",
       " </TR>\n",
       " <TR>\n",
       "  <TD bgcolor=\"FF0000\">-</TD>\n",
       "  <TD bgcolor=\"FF0000\">-</TD>\n",
       "  <TD bgcolor=\"FF0000\">-</TD>\n",
       "  <TD bgcolor=\"FF0000\">cil</TD>\n",
       " </TR>\n",
       " <TR>\n",
       "  <TD bgcolor=\"00FF00\">i</TD>\n",
       "  <TD bgcolor=\"00FF00\">i</TD>\n",
       "  <TD bgcolor=\"00FF00\">i</TD>\n",
       "  <TD bgcolor=\"00FF00\">i</TD>\n",
       " </TR>\n",
       " <TR>\n",
       "  <TD bgcolor=\"FF0000\">partent</TD>\n",
       "  <TD bgcolor=\"FF0000\">perdent</TD>\n",
       "  <TD bgcolor=\"FF0000\">partent</TD>\n",
       "  <TD bgcolor=\"FF0000\">partent</TD>\n",
       " </TR>\n",
       " <TR>\n",
       "  <TD bgcolor=\"FF0000\">seulement</TD>\n",
       "  <TD bgcolor=\"FF0000\">ausement</TD>\n",
       "  <TD bgcolor=\"FF0000\">seulemant</TD>\n",
       "  <TD bgcolor=\"FF0000\">sulement</TD>\n",
       " </TR>\n",
       "</TABLE>"
      ],
      "text/plain": [
       "<IPython.core.display.HTML object>"
      ]
     },
     "metadata": {},
     "output_type": "display_data"
    }
   ],
   "source": [
    "collationText = collate_pretokenized_json(json_input,output='table',layout='vertical')\n",
    "print(collationText)\n",
    "collationJSON = collate_pretokenized_json(json_input,output='json')\n",
    "print(collationJSON)\n",
    "collationHTML2 = collate_pretokenized_json(json_input,output='html2')"
   ]
  }
 ],
 "metadata": {
  "anaconda-cloud": {},
  "kernelspec": {
   "display_name": "Python [Root]",
   "language": "python",
   "name": "Python [Root]"
  },
  "language_info": {
   "codemirror_mode": {
    "name": "ipython",
    "version": 3
   },
   "file_extension": ".py",
   "mimetype": "text/x-python",
   "name": "python",
   "nbconvert_exporter": "python",
   "pygments_lexer": "ipython3",
   "version": "3.5.2"
  }
 },
 "nbformat": 4,
 "nbformat_minor": 0
}
