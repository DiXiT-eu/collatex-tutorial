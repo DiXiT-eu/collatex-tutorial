{
 "cells": [
  {
   "cell_type": "markdown",
   "metadata": {},
   "source": [
    "# Using the command line\n",
    "\n",
    "## Overview\n",
    "\n",
    "The *command line* (sometimes called the *shell* or *command prompt*) \n",
    "\n",
    "In this workshop we use the command line primarily for three things: to install software, to change directory, and to run Python programs. This tutorial describes each of these briefly. \n",
    "\n",
    "\n",
    "\n",
    "Command line (install, change directory, run completed Python scripts)\n"
   ]
  }
 ],
 "metadata": {
  "anaconda-cloud": {},
  "kernelspec": {
   "display_name": "Python [Root]",
   "language": "python",
   "name": "Python [Root]"
  },
  "language_info": {
   "codemirror_mode": {
    "name": "ipython",
    "version": 3
   },
   "file_extension": ".py",
   "mimetype": "text/x-python",
   "name": "python",
   "nbconvert_exporter": "python",
   "pygments_lexer": "ipython3",
   "version": "3.5.2"
  }
 },
 "nbformat": 4,
 "nbformat_minor": 0
}
