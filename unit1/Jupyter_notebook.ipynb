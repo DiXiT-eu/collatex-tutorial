{
 "cells": [
  {
   "cell_type": "markdown",
   "metadata": {
    "collapsed": true
   },
   "source": [
    "\n",
    "## Starting Jupyter notebook\n",
    "\n",
    "To launch Jupyter notebook, open your terminal (that is your command line; if you don't know what it is, read the [Command line tutorial](http://nbviewer.jupyter.org/github/DiXiT-eu/collatex-tutorial/blob/master/unit1/Command_line.ipynb)) and type:\n",
    "\n",
    "    jupyter notebook\n",
    "\n",
    "Then wait for a window to open in your Web browser. You can ignore the command line after that; your interaction with Jupyter will happen entirely in the Web browser window. In the browser you can navigate into your local files; note that the directory displayed in the broswer when you launch Jupyter corresponds to the directory where you are when typing the command `jupyter notebook`; this means that if you open the terminal and launch Jupyter, the Home directory will appear to you.\n",
    "\n",
    "If, for whatever reason, nothing happens in your Web browser, then once you see a pair of lines in the command-line terminal like:\n",
    "\n",
    "    [I 23:14:13.260 NotebookApp] The Jupyter Notebook is running at: http://localhost:8888/\n",
    "    [I 23:14:13.260 NotebookApp] Use Control-C to stop this server and shut down all kernels (twice to skip confirmation).\n",
    "\n",
    "you can navigate in a browser to http://localhost:8888/\n",
    "\n",
    "In rare cases some users may already be running another application that uses that address, in which case IPython notebook will refuse to start. You can tell IPython notebook to use a different address with:\n",
    "\n",
    "    jupyter notebook --port 8889\n",
    "\n",
    "Numbers between 8889 and 8899 are likely to be free.\n",
    "\n",
    "<!--\n",
    "Commented out 2016-07-25 djb, under the assumption that the Anaconda distribution has fixed this bug\n",
    "\n",
    "#### Troubleshooting a Windows installation\n",
    "\n",
    "There is an esoteric bug in Python that can sometimes cause the launch of IPython notebook on a Windows machine to fail at this point. The symptoms are that the browser opens an unhelpful window that does not look like the IPython notebook workspace described below, and the Power Shell or bash command-line terminal in which you started IPython displays several screens of error messages. The bug has been fixed in Python, and although the new version is not yet part of the Anaconda distribution, you can download it separately and copy the fix over the broken file. To do that, open https://raw.githubusercontent.com/python/cpython/master/Lib/mimetypes.py in a web browser and save the file (with the filename mimetypes.py) somewhere convenient, such as your desktop. Then navigate to the Lib directory under your anaconda installation, which should already have a file called mimetypes.py. Move that file to your desktop or somewhere else out of the anaconda hierarchy (change the name, so that you don’t overwrite the file you just downloaded!) and put the newly downloaded copy of the file into the Lib directory in place of the old one. If all goes well, that should enable you to start IPython notebook successfully.\n",
    "-->\n",
    "\n",
    "## Create a \n",
    "\n",
    "## Using IPython notebook\n",
    "\n",
    "To work with IPython notebook, on the web page that opens when you launch the program drop down the button labeled “New” in the upper right and select “Python 3”. We’ll describe how to use IPython notebook in the workshop, but if you already know a bit of Python, you can type Python commands into an empty cell and click the Run button (right-pointing triangle in the menu bar) or type Shift-Enter. The results of running your program will appear immediately below your code. For example, try typing the following into a cell in IPython notebook:"
   ]
  },
  {
   "cell_type": "code",
   "execution_count": null,
   "metadata": {
    "collapsed": true
   },
   "outputs": [],
   "source": [
    " from collatex import *\n",
    "    collation = Collation()\n",
    "    collation.add_plain_witness(\"A\", \"The quick brown fox jumps over the dog.\")\n",
    "    collation.add_plain_witness(\"B\", \"The brown fox jumps over the lazy dog.\")\n",
    "    alignment_table = collate(collation)\n",
    "    print(alignment_table)"
   ]
  },
  {
   "cell_type": "markdown",
   "metadata": {},
   "source": [
    "When you click the Run button, the results appear below the cell, and a new empty cell opens below that. To test your Graphviz integration, type:"
   ]
  },
  {
   "cell_type": "code",
   "execution_count": null,
   "metadata": {
    "collapsed": true
   },
   "outputs": [],
   "source": [
    "collate(collation,output=\"svg\")"
   ]
  },
  {
   "cell_type": "markdown",
   "metadata": {},
   "source": [
    "into the next cell and click Run again, and a graphic representation of the collation should appear below the cell (your font may look different from the one in the Tutorial).\n",
    "\n",
    "**If you run the cells in an IPython notebook in order, they know about one another**, so the graph is drawn using the information you typed into the first cell to create the collation and add the witnesses, and all you have to do to get SVG output is collate it with the *output* parameter set to “svg”."
   ]
  }
 ],
 "metadata": {
  "kernelspec": {
   "display_name": "Python 3",
   "language": "python",
   "name": "python3"
  },
  "language_info": {
   "codemirror_mode": {
    "name": "ipython",
    "version": 3
   },
   "file_extension": ".py",
   "mimetype": "text/x-python",
   "name": "python",
   "nbconvert_exporter": "python",
   "pygments_lexer": "ipython3",
   "version": "3.4.3"
  }
 },
 "nbformat": 4,
 "nbformat_minor": 0
}
