{
 "cells": [
  {
   "cell_type": "markdown",
   "metadata": {
    "collapsed": true
   },
   "source": [
    "# Jupyter notebook\n",
    "\n",
    "- Start Jupyter notebook\n",
    "- Create a new directory\n",
    "- Create a new notebook\n",
    "- Editing modes\n",
    "    - Markdown Cells\n",
    "    - Code cells\n",
    "- Save\n",
    "- Quit Jupyter\n",
    "- More (optional)\n",
    "---\n",
    "\n",
    "## Start Jupyter notebook\n",
    "\n",
    "To launch Jupyter notebook, open your terminal (that is your command line; if you don't know what it is, read the [Command line tutorial](http://nbviewer.jupyter.org/github/DiXiT-eu/collatex-tutorial/blob/master/unit1/Command_line.ipynb)) and type:\n",
    "\n",
    "    jupyter notebook\n",
    "\n",
    "Then wait for a window to open in your Web browser. You can ignore the command line after that; your interaction with Jupyter will happen entirely in the Web browser window. In the browser you can navigate into your local files; note that the directory displayed in the broswer when you launch Jupyter corresponds to the directory where you are when typing the command `jupyter notebook`; this means that if you open the terminal and launch Jupyter, the Home directory will appear to you.\n",
    "\n",
    "If, for whatever reason, nothing happens in your Web browser, then once you see a pair of lines in the command-line terminal like:\n",
    "\n",
    "    [I 23:14:13.260 NotebookApp] The Jupyter Notebook is running at: http://localhost:8888/\n",
    "    [I 23:14:13.260 NotebookApp] Use Control-C to stop this server and shut down all kernels (twice to skip confirmation).\n",
    "\n",
    "you can navigate in a browser to http://localhost:8888/\n",
    "\n",
    "In rare cases some users may already be running another application that uses that address, in which case IPython notebook will refuse to start. You can tell IPython notebook to use a different address with:\n",
    "\n",
    "    jupyter notebook --port 8889\n",
    "\n",
    "Numbers between 8889 and 8899 are likely to be free.\n",
    "\n",
    "<!--\n",
    "Commented out 2016-07-25 djb, under the assumption that the Anaconda distribution has fixed this bug\n",
    "\n",
    "#### Troubleshooting a Windows installation\n",
    "\n",
    "There is an esoteric bug in Python that can sometimes cause the launch of IPython notebook on a Windows machine to fail at this point. The symptoms are that the browser opens an unhelpful window that does not look like the IPython notebook workspace described below, and the Power Shell or bash command-line terminal in which you started IPython displays several screens of error messages. The bug has been fixed in Python, and although the new version is not yet part of the Anaconda distribution, you can download it separately and copy the fix over the broken file. To do that, open https://raw.githubusercontent.com/python/cpython/master/Lib/mimetypes.py in a web browser and save the file (with the filename mimetypes.py) somewhere convenient, such as your desktop. Then navigate to the Lib directory under your anaconda installation, which should already have a file called mimetypes.py. Move that file to your desktop or somewhere else out of the anaconda hierarchy (change the name, so that you don’t overwrite the file you just downloaded!) and put the newly downloaded copy of the file into the Lib directory in place of the old one. If all goes well, that should enable you to start IPython notebook successfully.\n",
    "-->\n",
    "\n",
    "## Create a new directory\n",
    "\n",
    "During the workshop we will work with Jupyter and we will need to create new notebooks. We probably want to organize these new notebooks in a directory: remember that [we created a directory for the workshop](http://nbviewer.jupyter.org/github/DiXiT-eu/collatex-tutorial/blob/master/unit1/Command_line.ipynb#Create-a-directory-for-this-workshop), we can now create a sub-directory.\n",
    "\n",
    "We have now launched Jupyter and can see our Home directory in the Web browser. Go to the 'Workshop' directory. For creating a new sub-directory, press the button *New* at the top right and select *Folder*. This will create a new directory, called 'Untitled folder'. Check it and rename it 'Notebooks', as in the image below.\n",
    "<img src=\"images/rename-dir.png\" width=\"80%\" style=\"border:1px solid\">\n",
    "\n",
    "\n",
    "## Create a new notebook\n",
    "\n",
    "Now we have Jupyter running and we have a new directory for our notebooks. Navigate to the new directory (the one that you renamed as 'Workshop' or 'Notebooks') and press the *New* button again: this time select *Python 3* from the menu.\n",
    "\n",
    "<img src=\"images/new-notebook.png\" alt=\"New notebook\" width=\"80%\" style=\"border:1px solid\"/>\n",
    "\n",
    "By default this will create a new notebook with a name like \"Untitled\" - we can rename it immediately by clicking on the name at the top (beside the Jupyter logo) and providing another name in the dialog box that appears. This is the actual filename (without the file extension) and we'll use the file naming conventions explained in the [Command line tutorial](naming ).\n",
    "\n",
    "This is probably as good a time as any to step through the \"User Interface Tour\" that's available from the Help menu of the Jupyter (the File menu within the notebook page, not the File menu of the browser).\n",
    "\n",
    "\n",
    "## Editing modes\n",
    "\n",
    "We've created a new notebook and had a quick tour of the Juypter interface, now we're ready to edit. Jupyter has two main editing modes:\n",
    "\n",
    "1. **Markdown**: this is the styled text mode that we use when we're not writing python code\n",
    "1. **Code**: this is the default mode used for python code and we'll see it in the next section\n",
    "\n",
    "\n",
    "### Markdown Cells\n",
    "\n",
    "Markdown is the format used for text (not code) in Jupyter. Markdown is intended to be more succinct and simpler to read and write than HTML (Markdown is converted to HTML for display in the browser). For instance, we can easily create headers by using one or more hash (#) symbols at the beginning of a line, we can easily have text appear in \\**bold*\\* or \\__italics_\\_, paragraphs are created from newlines, and links like http://python.org/ appear automatically as links. Another powerful feature is the creation of lists. For instance, we can create a bulleted list by having an asterisk in front of every item or a numbered list by putting 1. in front of each item (the numbering will increase automatically).\n",
    "\n",
    "We will now go to the first editing box and select _Markdown_ mode from the format menu, then type the following text, as in the image below:\n",
    "\n",
    "    # Getting started!\n",
    "    This is _Hello World!_, my first iPython Notebook.\n",
    "\n",
    "<img src=\"images/markdown-cell.png\" alt=\"Markdown cell\" width=\"50%\" style=\"border:1px solid\"/>\n",
    "\n",
    "Now you can render the markdown, which is the same as run the code. You have multiple options for the command \"run cell, select below\":\n",
    "- press the corresponding button on the toolbar (right-pointing triangle)\n",
    "- select *run cells* or *run cells and select below* from the Menu Cell\n",
    "- hit Shift+Enter\n",
    "\n",
    "\n",
    "### Code Cells\n",
    "\n",
    "Go to the following editing box (or insert another one using *Insert cell below* from the Insert Menu or pressing the button '+' in the toolbar). The default mode for an editing box is *Code*, so you don't need to change the editing mode as we have done for Markdown. \n",
    "\n",
    "Our first bit of code is going to follow tradition, what better place to start than the classic [_Hello World!_](http://en.wikipedia.org/wiki/%22Hello,_world!%22_program_) program. It's easy to describe what we want to do for our _Hello World!_ program: we want to write code that will display the string (or sequence of characters) \"Hello World!\".\n",
    "Let's use the `print` function and indicate that 'Hello world' is a string using the double quotes:\n",
    "\n",
    "    print(\"Hello world!\")\n",
    "\n",
    "The result should appear, as here below."
   ]
  },
  {
   "cell_type": "code",
   "execution_count": 14,
   "metadata": {
    "collapsed": false
   },
   "outputs": [
    {
     "name": "stdout",
     "output_type": "stream",
     "text": [
      "Hello world!\n"
     ]
    }
   ],
   "source": [
    "print(\"Hello world!\")"
   ]
  },
  {
   "cell_type": "markdown",
   "metadata": {},
   "source": [
    "Yay, our first program! That was easy, wasn't it? :)\n",
    "\n",
    "Try to remove the double quotes around *Hello world* and run the code again:\n",
    "\n",
    "    print(Hello world!)\n",
    "\n",
    "You will get an error message, because the syntax of your code is not correct.\n",
    "\n",
    "The sequence above shows a key aspect of Jupyter code cells: there's an **input section** and an **output section**: the input section is where you write the code and is indicated on the left of the editing box with 'In' + a number; the output section is where the result of running your code will appear, below the input section."
   ]
  },
  {
   "cell_type": "markdown",
   "metadata": {},
   "source": [
    "## Save\n",
    "\n",
    "If we have been working on a notebook, we would of course want to save our work before quitting. For saving the notebook you are working on, you have again several options:\n",
    "- press the file icon, that is the first button on the left\n",
    "- select *Save and checkpoint* from the File menu\n",
    "- hit Ctrl+s\n",
    "\n",
    "\n",
    "## Quit Jupyter\n",
    "\n",
    "The browser window opened when Jupyter was launched is just a regular window. For quitting Jupyter we can close the browser window(s) opened by Jupyter, then switch to the terminal and follow the instruction:\n",
    "\n",
    "    Use Control-C to stop this server and shut down all kernels (twice to skip confirmation).\n",
    "    \n",
    "    \n",
    "## Where are my notebooks\n",
    "\n",
    "Now that we quit Jupyter, the directory that we created using the Jupyter interface is still there where we put it, probably in a subdirectory of your Home directory, called 'Workshop' or 'Notebooks', and we can access it as any other directory. The new notebook is inside. Go and check!\n",
    "\n",
    "To summarize, everything that we do through the Jupyter interface is stored locally on our computer. Just remember that in order to open and edit the notebooks, we have to launch Jupyter again!"
   ]
  },
  {
   "cell_type": "markdown",
   "metadata": {},
   "source": [
    "## More (optional)\n",
    "\n",
    "During the workshop we will run commands as the following. You can give it a try: copy paste the code in a new code cell, run it and see the result.\n",
    "\n",
    "<!-- commented out, because it was for the previous version of the tutorial.\n",
    "\n",
    "To work with IPython notebook, on the web page that opens when you launch the program drop down the button labeled “New” in the upper right and select “Python 3”. We’ll describe how to use IPython notebook in the workshop, but if you already know a bit of Python, you can type Python commands into an empty cell and click the Run button (right-pointing triangle in the menu bar) or type Shift-Enter. The results of running your program will appear immediately below your code. For example, try typing the following into a cell in IPython notebook: -->"
   ]
  },
  {
   "cell_type": "code",
   "execution_count": 15,
   "metadata": {
    "collapsed": false
   },
   "outputs": [
    {
     "name": "stdout",
     "output_type": "stream",
     "text": [
      "+---+-----+-------+--------------------------+------+------+\n",
      "| A | The | quick | brown fox jumps over the | -    | dog. |\n",
      "| B | The | -     | brown fox jumps over the | lazy | dog. |\n",
      "+---+-----+-------+--------------------------+------+------+\n"
     ]
    }
   ],
   "source": [
    "from collatex import *\n",
    "collation = Collation()\n",
    "collation.add_plain_witness(\"A\", \"The quick brown fox jumps over the dog.\")\n",
    "collation.add_plain_witness(\"B\", \"The brown fox jumps over the lazy dog.\")\n",
    "alignment_table = collate(collation)\n",
    "print(alignment_table)"
   ]
  },
  {
   "cell_type": "markdown",
   "metadata": {},
   "source": [
    "To test your Graphviz integration, type into another code cell the following and run the code:"
   ]
  },
  {
   "cell_type": "code",
   "execution_count": 16,
   "metadata": {
    "collapsed": false
   },
   "outputs": [
    {
     "data": {
      "image/svg+xml": [
       "<svg height=\"113pt\" viewBox=\"0.00 0.00 1050.00 113.00\" width=\"1050pt\" xmlns=\"http://www.w3.org/2000/svg\" xmlns:xlink=\"http://www.w3.org/1999/xlink\">\n",
       "<g class=\"graph\" id=\"graph0\" transform=\"scale(1 1) rotate(0) translate(4 109)\">\n",
       "<title>%3</title>\n",
       "<polygon fill=\"white\" points=\"-4,4 -4,-109 1046,-109 1046,4 -4,4\" stroke=\"none\"/>\n",
       "<!-- 1 -->\n",
       "<g class=\"node\" id=\"node1\"><title>1</title>\n",
       "<polygon fill=\"none\" points=\"925,-91 834,-91 834,-39 925,-39 925,-91\" stroke=\"black\"/>\n",
       "<polygon fill=\"none\" points=\"843.5,-65 843.5,-86 879.5,-86 879.5,-65 843.5,-65\" stroke=\"black\"/>\n",
       "<text font-family=\"Times New Roman,serif\" font-size=\"14.00\" font-weight=\"bold\" text-anchor=\"start\" x=\"846.5\" y=\"-72.8\">dog.</text>\n",
       "<polygon fill=\"none\" points=\"879.5,-65 879.5,-86 916.5,-86 916.5,-65 879.5,-65\" stroke=\"black\"/>\n",
       "<text font-family=\"Times New Roman,serif\" font-size=\"14.00\" font-weight=\"bold\" text-anchor=\"start\" x=\"882.5\" y=\"-72.8\">Sigla</text>\n",
       "<polygon fill=\"none\" points=\"843.5,-44 843.5,-65 879.5,-65 879.5,-44 843.5,-44\" stroke=\"black\"/>\n",
       "<text font-family=\"Bukyvede\" font-size=\"14.00\" text-anchor=\"start\" x=\"846.5\" y=\"-50.8\">dog.</text>\n",
       "<polygon fill=\"none\" points=\"879.5,-44 879.5,-65 916.5,-65 916.5,-44 879.5,-44\" stroke=\"black\"/>\n",
       "<text font-family=\"Times New Roman,serif\" font-size=\"14.00\" text-anchor=\"start\" x=\"882.5\" y=\"-50.8\">B, A</text>\n",
       "<polygon fill=\"none\" points=\"842,-43 842,-87 917,-87 917,-43 842,-43\" stroke=\"black\"/>\n",
       "</g>\n",
       "<!-- 3 -->\n",
       "<g class=\"node\" id=\"node3\"><title>3</title>\n",
       "<polygon fill=\"none\" points=\"1042,-83 988,-83 988,-47 1042,-47 1042,-83\" stroke=\"black\"/>\n",
       "<text font-family=\"Times New Roman,serif\" font-size=\"14.00\" text-anchor=\"middle\" x=\"1015\" y=\"-61.3\">3</text>\n",
       "</g>\n",
       "<!-- 1&#45;&gt;3 -->\n",
       "<g class=\"edge\" id=\"edge1\"><title>1-&gt;3</title>\n",
       "<path d=\"M925.325,-65C942.351,-65 961.517,-65 977.664,-65\" fill=\"none\" stroke=\"black\"/>\n",
       "<polygon fill=\"black\" points=\"977.785,-68.5001 987.785,-65 977.785,-61.5001 977.785,-68.5001\" stroke=\"black\"/>\n",
       "<text font-family=\"Times New Roman,serif\" font-size=\"14.00\" text-anchor=\"middle\" x=\"956.5\" y=\"-68.8\">A, B</text>\n",
       "</g>\n",
       "<!-- 2 -->\n",
       "<g class=\"node\" id=\"node2\"><title>2</title>\n",
       "<polygon fill=\"none\" points=\"788,-52 693,-52 693,-0 788,-0 788,-52\" stroke=\"black\"/>\n",
       "<polygon fill=\"none\" points=\"702.5,-26 702.5,-47 742.5,-47 742.5,-26 702.5,-26\" stroke=\"black\"/>\n",
       "<text font-family=\"Times New Roman,serif\" font-size=\"14.00\" font-weight=\"bold\" text-anchor=\"start\" x=\"705.5\" y=\"-33.8\">lazy</text>\n",
       "<polygon fill=\"none\" points=\"742.5,-26 742.5,-47 779.5,-47 779.5,-26 742.5,-26\" stroke=\"black\"/>\n",
       "<text font-family=\"Times New Roman,serif\" font-size=\"14.00\" font-weight=\"bold\" text-anchor=\"start\" x=\"745.5\" y=\"-33.8\">Sigla</text>\n",
       "<polygon fill=\"none\" points=\"702.5,-5 702.5,-26 742.5,-26 742.5,-5 702.5,-5\" stroke=\"black\"/>\n",
       "<text font-family=\"Bukyvede\" font-size=\"14.00\" text-anchor=\"start\" x=\"705.5\" y=\"-11.8\">lazy </text>\n",
       "<polygon fill=\"none\" points=\"742.5,-5 742.5,-26 779.5,-26 779.5,-5 742.5,-5\" stroke=\"black\"/>\n",
       "<text font-family=\"Times New Roman,serif\" font-size=\"14.00\" text-anchor=\"start\" x=\"745.5\" y=\"-11.8\">B</text>\n",
       "<polygon fill=\"none\" points=\"701,-4 701,-48 780,-48 780,-4 701,-4\" stroke=\"black\"/>\n",
       "</g>\n",
       "<!-- 2&#45;&gt;1 -->\n",
       "<g class=\"edge\" id=\"edge2\"><title>2-&gt;1</title>\n",
       "<path d=\"M788.264,-39.3125C799.771,-42.588 812.19,-46.1233 824.025,-49.4925\" fill=\"none\" stroke=\"black\"/>\n",
       "<polygon fill=\"black\" points=\"823.22,-52.9025 833.797,-52.2742 825.137,-46.1699 823.22,-52.9025\" stroke=\"black\"/>\n",
       "<text font-family=\"Times New Roman,serif\" font-size=\"14.00\" text-anchor=\"middle\" x=\"811\" y=\"-50.8\">B</text>\n",
       "</g>\n",
       "<!-- 4 -->\n",
       "<g class=\"node\" id=\"node4\"><title>4</title>\n",
       "<polygon fill=\"none\" points=\"54,-97 0,-97 0,-61 54,-61 54,-97\" stroke=\"black\"/>\n",
       "<text font-family=\"Times New Roman,serif\" font-size=\"14.00\" text-anchor=\"middle\" x=\"27\" y=\"-75.3\">4</text>\n",
       "</g>\n",
       "<!-- 5 -->\n",
       "<g class=\"node\" id=\"node5\"><title>5</title>\n",
       "<polygon fill=\"none\" points=\"209,-105 117,-105 117,-53 209,-53 209,-105\" stroke=\"black\"/>\n",
       "<polygon fill=\"none\" points=\"126,-79 126,-100 163,-100 163,-79 126,-79\" stroke=\"black\"/>\n",
       "<text font-family=\"Times New Roman,serif\" font-size=\"14.00\" font-weight=\"bold\" text-anchor=\"start\" x=\"129\" y=\"-86.8\">The</text>\n",
       "<polygon fill=\"none\" points=\"163,-79 163,-100 200,-100 200,-79 163,-79\" stroke=\"black\"/>\n",
       "<text font-family=\"Times New Roman,serif\" font-size=\"14.00\" font-weight=\"bold\" text-anchor=\"start\" x=\"166\" y=\"-86.8\">Sigla</text>\n",
       "<polygon fill=\"none\" points=\"126,-58 126,-79 163,-79 163,-58 126,-58\" stroke=\"black\"/>\n",
       "<text font-family=\"Bukyvede\" font-size=\"14.00\" text-anchor=\"start\" x=\"129\" y=\"-64.8\">The </text>\n",
       "<polygon fill=\"none\" points=\"163,-58 163,-79 200,-79 200,-58 163,-58\" stroke=\"black\"/>\n",
       "<text font-family=\"Times New Roman,serif\" font-size=\"14.00\" text-anchor=\"start\" x=\"166\" y=\"-64.8\">B, A</text>\n",
       "<polygon fill=\"none\" points=\"125,-57 125,-101 201,-101 201,-57 125,-57\" stroke=\"black\"/>\n",
       "</g>\n",
       "<!-- 4&#45;&gt;5 -->\n",
       "<g class=\"edge\" id=\"edge3\"><title>4-&gt;5</title>\n",
       "<path d=\"M54.1547,-79C69.1228,-79 88.4892,-79 106.672,-79\" fill=\"none\" stroke=\"black\"/>\n",
       "<polygon fill=\"black\" points=\"106.907,-82.5001 116.907,-79 106.907,-75.5001 106.907,-82.5001\" stroke=\"black\"/>\n",
       "<text font-family=\"Times New Roman,serif\" font-size=\"14.00\" text-anchor=\"middle\" x=\"85.5\" y=\"-82.8\">A, B</text>\n",
       "</g>\n",
       "<!-- 6 -->\n",
       "<g class=\"node\" id=\"node6\"><title>6</title>\n",
       "<polygon fill=\"none\" points=\"647,-98 403,-98 403,-46 647,-46 647,-98\" stroke=\"black\"/>\n",
       "<polygon fill=\"none\" points=\"412,-72 412,-93 601,-93 601,-72 412,-72\" stroke=\"black\"/>\n",
       "<text font-family=\"Times New Roman,serif\" font-size=\"14.00\" font-weight=\"bold\" text-anchor=\"start\" x=\"415\" y=\"-79.8\">brown fox jumps over the</text>\n",
       "<polygon fill=\"none\" points=\"601,-72 601,-93 638,-93 638,-72 601,-72\" stroke=\"black\"/>\n",
       "<text font-family=\"Times New Roman,serif\" font-size=\"14.00\" font-weight=\"bold\" text-anchor=\"start\" x=\"604\" y=\"-79.8\">Sigla</text>\n",
       "<polygon fill=\"none\" points=\"412,-51 412,-72 601,-72 601,-51 412,-51\" stroke=\"black\"/>\n",
       "<text font-family=\"Bukyvede\" font-size=\"14.00\" text-anchor=\"start\" x=\"415\" y=\"-57.8\">brown fox jumps over the </text>\n",
       "<polygon fill=\"none\" points=\"601,-51 601,-72 638,-72 638,-51 601,-51\" stroke=\"black\"/>\n",
       "<text font-family=\"Times New Roman,serif\" font-size=\"14.00\" text-anchor=\"start\" x=\"604\" y=\"-57.8\">B, A</text>\n",
       "<polygon fill=\"none\" points=\"411,-50 411,-94 639,-94 639,-50 411,-50\" stroke=\"black\"/>\n",
       "</g>\n",
       "<!-- 5&#45;&gt;6 -->\n",
       "<g class=\"edge\" id=\"edge4\"><title>5-&gt;6</title>\n",
       "<path d=\"M209.23,-78.1205C255.119,-77.2282 328.353,-75.8043 392.638,-74.5543\" fill=\"none\" stroke=\"black\"/>\n",
       "<polygon fill=\"black\" points=\"392.943,-78.0491 402.873,-74.3552 392.807,-71.0504 392.943,-78.0491\" stroke=\"black\"/>\n",
       "<text font-family=\"Times New Roman,serif\" font-size=\"14.00\" text-anchor=\"middle\" x=\"306\" y=\"-81.8\">B</text>\n",
       "</g>\n",
       "<!-- 7 -->\n",
       "<g class=\"node\" id=\"node7\"><title>7</title>\n",
       "<polygon fill=\"none\" points=\"357,-59 255,-59 255,-7 357,-7 357,-59\" stroke=\"black\"/>\n",
       "<polygon fill=\"none\" points=\"264,-33 264,-54 311,-54 311,-33 264,-33\" stroke=\"black\"/>\n",
       "<text font-family=\"Times New Roman,serif\" font-size=\"14.00\" font-weight=\"bold\" text-anchor=\"start\" x=\"267\" y=\"-40.8\">quick</text>\n",
       "<polygon fill=\"none\" points=\"311,-33 311,-54 348,-54 348,-33 311,-33\" stroke=\"black\"/>\n",
       "<text font-family=\"Times New Roman,serif\" font-size=\"14.00\" font-weight=\"bold\" text-anchor=\"start\" x=\"314\" y=\"-40.8\">Sigla</text>\n",
       "<polygon fill=\"none\" points=\"264,-12 264,-33 311,-33 311,-12 264,-12\" stroke=\"black\"/>\n",
       "<text font-family=\"Bukyvede\" font-size=\"14.00\" text-anchor=\"start\" x=\"267\" y=\"-18.8\">quick </text>\n",
       "<polygon fill=\"none\" points=\"311,-12 311,-33 348,-33 348,-12 311,-12\" stroke=\"black\"/>\n",
       "<text font-family=\"Times New Roman,serif\" font-size=\"14.00\" text-anchor=\"start\" x=\"314\" y=\"-18.8\">A</text>\n",
       "<polygon fill=\"none\" points=\"263,-11 263,-55 349,-55 349,-11 263,-11\" stroke=\"black\"/>\n",
       "</g>\n",
       "<!-- 5&#45;&gt;7 -->\n",
       "<g class=\"edge\" id=\"edge5\"><title>5-&gt;7</title>\n",
       "<path d=\"M209.001,-64.3188C220.448,-60.5844 232.932,-56.5117 244.996,-52.5759\" fill=\"none\" stroke=\"black\"/>\n",
       "<polygon fill=\"black\" points=\"246.132,-55.8869 254.553,-49.4579 243.961,-49.2321 246.132,-55.8869\" stroke=\"black\"/>\n",
       "<text font-family=\"Times New Roman,serif\" font-size=\"14.00\" text-anchor=\"middle\" x=\"232\" y=\"-61.8\">A</text>\n",
       "</g>\n",
       "<!-- 6&#45;&gt;1 -->\n",
       "<g class=\"edge\" id=\"edge6\"><title>6-&gt;1</title>\n",
       "<path d=\"M647.311,-69.591C707.299,-68.3997 776.721,-67.0211 823.715,-66.0879\" fill=\"none\" stroke=\"black\"/>\n",
       "<polygon fill=\"black\" points=\"824.05,-69.5821 833.978,-65.8841 823.911,-62.5834 824.05,-69.5821\" stroke=\"black\"/>\n",
       "<text font-family=\"Times New Roman,serif\" font-size=\"14.00\" text-anchor=\"middle\" x=\"740.5\" y=\"-72.8\">A</text>\n",
       "</g>\n",
       "<!-- 6&#45;&gt;2 -->\n",
       "<g class=\"edge\" id=\"edge7\"><title>6-&gt;2</title>\n",
       "<path d=\"M646.787,-45.9756C659.212,-43.2986 671.379,-40.6772 682.598,-38.2599\" fill=\"none\" stroke=\"black\"/>\n",
       "<polygon fill=\"black\" points=\"683.577,-41.6294 692.616,-36.1016 682.103,-34.7864 683.577,-41.6294\" stroke=\"black\"/>\n",
       "<text font-family=\"Times New Roman,serif\" font-size=\"14.00\" text-anchor=\"middle\" x=\"670\" y=\"-44.8\">B</text>\n",
       "</g>\n",
       "<!-- 7&#45;&gt;6 -->\n",
       "<g class=\"edge\" id=\"edge8\"><title>7-&gt;6</title>\n",
       "<path d=\"M357.057,-41.9964C368.019,-43.9666 380.117,-46.1408 392.64,-48.3915\" fill=\"none\" stroke=\"black\"/>\n",
       "<polygon fill=\"black\" points=\"392.3,-51.8863 402.761,-50.2105 393.538,-44.9967 392.3,-51.8863\" stroke=\"black\"/>\n",
       "<text font-family=\"Times New Roman,serif\" font-size=\"14.00\" text-anchor=\"middle\" x=\"380\" y=\"-50.8\">A</text>\n",
       "</g>\n",
       "</g>\n",
       "</svg>"
      ],
      "text/plain": [
       "<IPython.core.display.SVG object>"
      ]
     },
     "metadata": {},
     "output_type": "display_data"
    }
   ],
   "source": [
    "collate(collation,output=\"svg\")"
   ]
  },
  {
   "cell_type": "markdown",
   "metadata": {},
   "source": [
    "A graphic representation of the collation should appear below the cell (your font may look different from the one in the tutorial)."
   ]
  },
  {
   "cell_type": "markdown",
   "metadata": {},
   "source": [
    "## More about Jupyter notebook\n",
    "available through the official [Jupyter](https://jupyter.org/) page."
   ]
  },
  {
   "cell_type": "markdown",
   "metadata": {},
   "source": [
    "---\n",
    "Note: this tutorial is built upon the IPython section in the [CollateX workshop](http://collatex.obdurodon.org/) Installation tutorial and upon the first chapters (*Getting setup* and *Getting started*) of [The Art of Literary Text Analysis](http://nbviewer.jupyter.org/github/sgsinclair/alta/blob/master/ipynb/ArtOfLiteraryTextAnalysis.ipynb) by Stéfan Sinclair & Geoffrey Rockwell, with modifications.\n",
    "\n",
    "[CC BY-SA](https://creativecommons.org/licenses/by-sa/4.0/) From DiXiT Code and collation workshop.<br/>\n",
    "Created October 10, 2016 and last modified October 12, 2016"
   ]
  }
 ],
 "metadata": {
  "kernelspec": {
   "display_name": "Python 3",
   "language": "python",
   "name": "python3"
  },
  "language_info": {
   "codemirror_mode": {
    "name": "ipython",
    "version": 3
   },
   "file_extension": ".py",
   "mimetype": "text/x-python",
   "name": "python",
   "nbconvert_exporter": "python",
   "pygments_lexer": "ipython3",
   "version": "3.4.3"
  }
 },
 "nbformat": 4,
 "nbformat_minor": 0
}
