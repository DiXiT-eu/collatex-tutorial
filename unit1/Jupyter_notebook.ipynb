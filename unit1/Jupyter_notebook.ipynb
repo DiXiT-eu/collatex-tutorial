{
 "cells": [
  {
   "cell_type": "markdown",
   "metadata": {
    "collapsed": true
   },
   "source": [
    "# Jupyter notebook\n",
    "\n",
    "- What is it?\n",
    "- Start Jupyter notebook\n",
    "- Create a new directory\n",
    "- Create a new notebook\n",
    "- Editing modes\n",
    "    - Markdown Cells\n",
    "    - Code cells\n",
    "- Save\n",
    "- Download\n",
    "- Quit Jupyter\n",
    "- More (optional)\n",
    "---\n",
    "\n",
    "## What is it?\n",
    "\n",
    "From [Project Jupyter](https://jupyter.org/) website:\n",
    "<img src=\"images/jupyter-notebook.png\" width=\"80%\">\n",
    "The majority of the tutorials in this workshop, including the one you reading right now, are Jupyter notebooks.\n",
    "\n",
    "\n",
    "## Start Jupyter notebook\n",
    "\n",
    "To launch Jupyter notebook, open your terminal (that is your command line; if you don't know what it is, read the [Command line tutorial](http://nbviewer.jupyter.org/github/DiXiT-eu/collatex-tutorial/blob/master/unit1/Command_line.ipynb)) and type:\n",
    "\n",
    "    jupyter notebook\n",
    "\n",
    "Then wait for a window to open in your Web browser. You can ignore the command line after that; your interaction with Jupyter will happen entirely in the Web browser window. In the browser you can navigate into your local files; note that the directory displayed in the broswer when you launch Jupyter corresponds to the directory where you are when typing the command `jupyter notebook`; this means that if you open the terminal and launch Jupyter, the Home directory will appear to you.\n",
    "\n",
    "If, for whatever reason, nothing happens in your Web browser, then once you see a pair of lines in the command-line terminal like:\n",
    "\n",
    "    [I 23:14:13.260 NotebookApp] The Jupyter Notebook is running at: http://localhost:8888/\n",
    "    [I 23:14:13.260 NotebookApp] Use Control-C to stop this server and shut down all kernels (twice to skip confirmation).\n",
    "\n",
    "you can navigate in a browser to http://localhost:8888/\n",
    "\n",
    "In rare cases some users may already be running another application that uses that address, in which case IPython notebook will refuse to start. You can tell IPython notebook to use a different address with:\n",
    "\n",
    "    jupyter notebook --port 8889\n",
    "\n",
    "Numbers between 8889 and 8899 are likely to be free.\n",
    "\n",
    "<!--\n",
    "Commented out 2016-07-25 djb, under the assumption that the Anaconda distribution has fixed this bug\n",
    "\n",
    "#### Troubleshooting a Windows installation\n",
    "\n",
    "There is an esoteric bug in Python that can sometimes cause the launch of IPython notebook on a Windows machine to fail at this point. The symptoms are that the browser opens an unhelpful window that does not look like the IPython notebook workspace described below, and the Power Shell or bash command-line terminal in which you started IPython displays several screens of error messages. The bug has been fixed in Python, and although the new version is not yet part of the Anaconda distribution, you can download it separately and copy the fix over the broken file. To do that, open https://raw.githubusercontent.com/python/cpython/master/Lib/mimetypes.py in a web browser and save the file (with the filename mimetypes.py) somewhere convenient, such as your desktop. Then navigate to the Lib directory under your anaconda installation, which should already have a file called mimetypes.py. Move that file to your desktop or somewhere else out of the anaconda hierarchy (change the name, so that you don’t overwrite the file you just downloaded!) and put the newly downloaded copy of the file into the Lib directory in place of the old one. If all goes well, that should enable you to start IPython notebook successfully.\n",
    "-->\n",
    "\n",
    "## Create a new directory\n",
    "\n",
    "During the workshop we will work with Jupyter and we will need to create new notebooks. We probably want to organize these new notebooks in a directory: remember that [we created a directory for the workshop](http://nbviewer.jupyter.org/github/DiXiT-eu/collatex-tutorial/blob/master/unit1/Command_line.ipynb#Create-a-directory-for-this-workshop), we can now create a sub-directory.\n",
    "\n",
    "We have now launched Jupyter and can see our Home directory in the Web browser. Go to the 'Workshop' directory. For creating a new sub-directory, press the button *New* at the top right and select *Folder*. This will create a new directory, called 'Untitled folder'. Check it and rename it 'Notebooks', as in the image below.\n",
    "<img src=\"images/rename-dir.png\" width=\"80%\" style=\"border:1px solid\">\n",
    "\n",
    "\n",
    "## Create a new notebook\n",
    "\n",
    "Now we have Jupyter running and we have a new directory for our notebooks. Navigate to the new directory (the one that you renamed as 'Workshop' or 'Notebooks') and press the *New* button again: this time select *Python 3* from the menu.\n",
    "\n",
    "<img src=\"images/new-notebook.png\" alt=\"New notebook\" width=\"80%\" style=\"border:1px solid\"/>\n",
    "\n",
    "By default this will create a new notebook with a name like \"Untitled\" - we can rename it immediately by clicking on the name at the top (beside the Jupyter logo) and providing another name in the dialog box that appears. This is the actual filename (without the file extension) and we'll use the file naming conventions explained in the [Command line tutorial](naming ).\n",
    "\n",
    "This is probably as good a time as any to step through the \"User Interface Tour\" that's available from the Help menu of the Jupyter (the File menu within the notebook page, not the File menu of the browser).\n",
    "\n",
    "\n",
    "## Editing modes\n",
    "\n",
    "We've created a new notebook and had a quick tour of the Juypter interface, now we're ready to edit. Jupyter has two main editing modes:\n",
    "\n",
    "1. **Markdown**: this is the styled text mode that we use when we're not writing python code\n",
    "1. **Code**: this is the default mode used for python code and we'll see it in the next section\n",
    "\n",
    "\n",
    "### Markdown Cells\n",
    "\n",
    "Markdown is the format used for text (not code) in Jupyter. Markdown is intended to be more succinct and simpler to read and write than HTML (Markdown is converted to HTML for display in the browser). For instance, we can easily create headers by using one or more hash (#) symbols at the beginning of a line, we can easily have text appear in \\**bold*\\* or \\__italics_\\_, paragraphs are created from newlines, and links like http://python.org/ appear automatically as links. Another powerful feature is the creation of lists. For instance, we can create a bulleted list by having an asterisk in front of every item or a numbered list by putting 1. in front of each item (the numbering will increase automatically).\n",
    "\n",
    "We will now go to the first editing box and select _Markdown_ mode from the format menu, then type the following text, as in the image below:\n",
    "\n",
    "    # Getting started!\n",
    "    This is _Hello World!_, my first iPython Notebook.\n",
    "\n",
    "<img src=\"images/markdown-cell.png\" alt=\"Markdown cell\" width=\"50%\" style=\"border:1px solid\"/>\n",
    "\n",
    "Now you can render the markdown, which is the same as run the code. You have multiple options for the command \"run cell, select below\":\n",
    "- press the corresponding button on the toolbar (right-pointing triangle)\n",
    "- select *run cells* or *run cells and select below* from the Menu Cell\n",
    "- hit Shift+Enter\n",
    "\n",
    "\n",
    "### Code Cells\n",
    "\n",
    "Go to the following editing box (or insert another one using *Insert cell below* from the Insert Menu or pressing the button '+' in the toolbar). The default mode for an editing box is *Code*, so you don't need to change the editing mode as we have done for Markdown. \n",
    "\n",
    "Our first bit of code is going to follow tradition, what better place to start than the classic [_Hello World!_](http://en.wikipedia.org/wiki/%22Hello,_world!%22_program_) program. It's easy to describe what we want to do for our _Hello World!_ program: we want to write code that will display the string (or sequence of characters) \"Hello World!\".\n",
    "Let's use the `print` function and indicate that 'Hello world' is a string using the double quotes:\n",
    "\n",
    "    print(\"Hello world!\")\n",
    "\n",
    "The result should appear, as here below."
   ]
  },
  {
   "cell_type": "code",
   "execution_count": 1,
   "metadata": {
    "collapsed": false
   },
   "outputs": [
    {
     "name": "stdout",
     "output_type": "stream",
     "text": [
      "Hello world!\n"
     ]
    }
   ],
   "source": [
    "print(\"Hello world!\")"
   ]
  },
  {
   "cell_type": "markdown",
   "metadata": {},
   "source": [
    "Yay, our first program! That was easy, wasn't it? :)\n",
    "\n",
    "Try to remove the double quotes around *Hello world* and run the code again:\n",
    "\n",
    "    print(Hello world!)\n",
    "\n",
    "You will get an error message, because the syntax of your code is not correct.\n",
    "\n",
    "The sequence above shows a key aspect of Jupyter code cells: there's an **input section** and an **output section**: the input section is where you write the code and is indicated on the left of the editing box with 'In' + a number; the output section is where the result of running your code will appear, below the input section."
   ]
  },
  {
   "cell_type": "markdown",
   "metadata": {},
   "source": [
    "## Save\n",
    "\n",
    "If we have been working on a notebook, we would of course want to save our work before quitting. For saving the notebook you are working on, you have again several options:\n",
    "- press the file icon, that is the first button on the left\n",
    "- select *Save and checkpoint* from the File menu\n",
    "- hit Ctrl+s\n",
    "\n",
    "## Download\n",
    "\n",
    "You can download the notebook in different formats (menu File > Download as).\n",
    "\n",
    "\n",
    "## Quit Jupyter\n",
    "\n",
    "The browser window opened when Jupyter was launched is just a regular window. For quitting Jupyter we can close the browser window(s) opened by Jupyter, then switch to the terminal and follow the instruction:\n",
    "\n",
    "    Use Control-C to stop this server and shut down all kernels (twice to skip confirmation).\n",
    "    \n",
    "    \n",
    "## Where are my notebooks\n",
    "\n",
    "Now that we quit Jupyter, the directory that we created using the Jupyter interface is still there where we put it: in the subdirectory 'Notebooks' of your 'Workshop' directory, and we can access it as any other directory. The new notebook is inside. Go and check!\n",
    "\n",
    "To summarize, everything that we do through the Jupyter interface is stored locally on our computer. Just remember that in order to open and edit the notebooks, we have to launch Jupyter again!"
   ]
  },
  {
   "cell_type": "markdown",
   "metadata": {},
   "source": [
    "## More (optional)\n",
    "\n",
    "During the workshop we will run commands as the following. You can give it a try: copy paste the code in a new code cell, run it and see the result.\n",
    "\n",
    "<!-- commented out, because it was for the previous version of the tutorial.\n",
    "\n",
    "To work with IPython notebook, on the web page that opens when you launch the program drop down the button labeled “New” in the upper right and select “Python 3”. We’ll describe how to use IPython notebook in the workshop, but if you already know a bit of Python, you can type Python commands into an empty cell and click the Run button (right-pointing triangle in the menu bar) or type Shift-Enter. The results of running your program will appear immediately below your code. For example, try typing the following into a cell in IPython notebook: -->"
   ]
  },
  {
   "cell_type": "code",
   "execution_count": 2,
   "metadata": {
    "collapsed": false
   },
   "outputs": [
    {
     "name": "stdout",
     "output_type": "stream",
     "text": [
      "+---+-----+-------+--------------------------+------+------+\n",
      "| A | The | quick | brown fox jumps over the | -    | dog. |\n",
      "| B | The | -     | brown fox jumps over the | lazy | dog. |\n",
      "+---+-----+-------+--------------------------+------+------+\n"
     ]
    }
   ],
   "source": [
    "from collatex import *\n",
    "collation = Collation()\n",
    "collation.add_plain_witness(\"A\", \"The quick brown fox jumps over the dog.\")\n",
    "collation.add_plain_witness(\"B\", \"The brown fox jumps over the lazy dog.\")\n",
    "alignment_table = collate(collation)\n",
    "print(alignment_table)"
   ]
  },
  {
   "cell_type": "markdown",
   "metadata": {},
   "source": [
    "To test your Graphviz integration, type into another code cell the following and run the code:"
   ]
  },
  {
   "cell_type": "code",
   "execution_count": 3,
   "metadata": {
    "collapsed": false
   },
   "outputs": [
    {
     "ename": "NameError",
     "evalue": "name 'Digraph' is not defined",
     "output_type": "error",
     "traceback": [
      "\u001b[0;31m---------------------------------------------------------------------------\u001b[0m",
      "\u001b[0;31mNameError\u001b[0m                                 Traceback (most recent call last)",
      "\u001b[0;32m<ipython-input-3-facf47758363>\u001b[0m in \u001b[0;36m<module>\u001b[0;34m()\u001b[0m\n\u001b[0;32m----> 1\u001b[0;31m \u001b[0mcollate\u001b[0m\u001b[1;33m(\u001b[0m\u001b[0mcollation\u001b[0m\u001b[1;33m,\u001b[0m\u001b[0moutput\u001b[0m\u001b[1;33m=\u001b[0m\u001b[1;34m\"svg\"\u001b[0m\u001b[1;33m)\u001b[0m\u001b[1;33m\u001b[0m\u001b[0m\n\u001b[0m",
      "\u001b[0;32mc:\\users\\elena\\python35\\lib\\site-packages\\collatex\\core_functions.py\u001b[0m in \u001b[0;36mcollate\u001b[0;34m(collation, output, layout, segmentation, near_match, astar, detect_transpositions, debug_scores, properties_filter, svg_output, indent)\u001b[0m\n\u001b[1;32m     42\u001b[0m     \u001b[1;31m# check which output format is requested: graph or table\u001b[0m\u001b[1;33m\u001b[0m\u001b[1;33m\u001b[0m\u001b[0m\n\u001b[1;32m     43\u001b[0m     \u001b[1;32mif\u001b[0m \u001b[0moutput\u001b[0m \u001b[1;33m==\u001b[0m \u001b[1;34m\"svg\"\u001b[0m\u001b[1;33m:\u001b[0m\u001b[1;33m\u001b[0m\u001b[0m\n\u001b[0;32m---> 44\u001b[0;31m         \u001b[1;32mreturn\u001b[0m \u001b[0mdisplay_variant_graph_as_SVG\u001b[0m\u001b[1;33m(\u001b[0m\u001b[0mgraph\u001b[0m\u001b[1;33m,\u001b[0m \u001b[0msvg_output\u001b[0m\u001b[1;33m)\u001b[0m\u001b[1;33m\u001b[0m\u001b[0m\n\u001b[0m\u001b[1;32m     45\u001b[0m     \u001b[1;32mif\u001b[0m \u001b[0moutput\u001b[0m \u001b[1;33m==\u001b[0m \u001b[1;34m\"graph\"\u001b[0m\u001b[1;33m:\u001b[0m\u001b[1;33m\u001b[0m\u001b[0m\n\u001b[1;32m     46\u001b[0m         \u001b[1;32mreturn\u001b[0m \u001b[0mgraph\u001b[0m\u001b[1;33m\u001b[0m\u001b[0m\n",
      "\u001b[0;32mc:\\users\\elena\\python35\\lib\\site-packages\\collatex\\display_module.py\u001b[0m in \u001b[0;36mdisplay_variant_graph_as_SVG\u001b[0;34m(graph, svg_output)\u001b[0m\n\u001b[1;32m     47\u001b[0m \u001b[1;32mdef\u001b[0m \u001b[0mdisplay_variant_graph_as_SVG\u001b[0m\u001b[1;33m(\u001b[0m\u001b[0mgraph\u001b[0m\u001b[1;33m,\u001b[0m\u001b[0msvg_output\u001b[0m\u001b[1;33m)\u001b[0m\u001b[1;33m:\u001b[0m\u001b[1;33m\u001b[0m\u001b[0m\n\u001b[1;32m     48\u001b[0m         \u001b[1;31m# create new Digraph\u001b[0m\u001b[1;33m\u001b[0m\u001b[1;33m\u001b[0m\u001b[0m\n\u001b[0;32m---> 49\u001b[0;31m         \u001b[0mdot\u001b[0m \u001b[1;33m=\u001b[0m \u001b[0mDigraph\u001b[0m\u001b[1;33m(\u001b[0m\u001b[0mformat\u001b[0m\u001b[1;33m=\u001b[0m\u001b[1;34m\"svg\"\u001b[0m\u001b[1;33m,\u001b[0m \u001b[0mgraph_attr\u001b[0m\u001b[1;33m=\u001b[0m\u001b[1;33m{\u001b[0m\u001b[1;34m'rankdir'\u001b[0m\u001b[1;33m:\u001b[0m \u001b[1;34m'LR'\u001b[0m\u001b[1;33m}\u001b[0m\u001b[1;33m)\u001b[0m\u001b[1;33m\u001b[0m\u001b[0m\n\u001b[0m\u001b[1;32m     50\u001b[0m         \u001b[1;31m# add nodes\u001b[0m\u001b[1;33m\u001b[0m\u001b[1;33m\u001b[0m\u001b[0m\n\u001b[1;32m     51\u001b[0m         \u001b[0mcounter\u001b[0m \u001b[1;33m=\u001b[0m \u001b[1;36m0\u001b[0m\u001b[1;33m\u001b[0m\u001b[0m\n",
      "\u001b[0;31mNameError\u001b[0m: name 'Digraph' is not defined"
     ]
    }
   ],
   "source": [
    "collate(collation,output=\"svg\")"
   ]
  },
  {
   "cell_type": "markdown",
   "metadata": {},
   "source": [
    "A graphic representation of the collation should appear below the cell (your font may look different from the one in the tutorial)."
   ]
  },
  {
   "cell_type": "markdown",
   "metadata": {},
   "source": [
    "## More about Jupyter notebook\n",
    "available through the official [Jupyter](https://jupyter.org/) page."
   ]
  },
  {
   "cell_type": "markdown",
   "metadata": {},
   "source": [
    "---\n",
    "Note: this tutorial is built upon the IPython section in the [CollateX workshop](http://collatex.obdurodon.org/) Installation tutorial and upon the first chapters (*Getting setup* and *Getting started*) of [The Art of Literary Text Analysis](http://nbviewer.jupyter.org/github/sgsinclair/alta/blob/master/ipynb/ArtOfLiteraryTextAnalysis.ipynb) by Stéfan Sinclair & Geoffrey Rockwell, with modifications.\n",
    "\n",
    "[CC BY-SA](https://creativecommons.org/licenses/by-sa/4.0/) From DiXiT Code and collation workshop.<br/>\n",
    "Created October 10, 2016 and last modified October 12, 2016"
   ]
  }
 ],
 "metadata": {
  "kernelspec": {
   "display_name": "Python 3",
   "language": "python",
   "name": "python3"
  },
  "language_info": {
   "codemirror_mode": {
    "name": "ipython",
    "version": 3
   },
   "file_extension": ".py",
   "mimetype": "text/x-python",
   "name": "python",
   "nbconvert_exporter": "python",
   "pygments_lexer": "ipython3",
   "version": "3.5.2"
  }
 },
 "nbformat": 4,
 "nbformat_minor": 0
}
