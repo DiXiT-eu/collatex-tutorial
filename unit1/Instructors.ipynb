{
 "cells": [
  {
   "cell_type": "markdown",
   "metadata": {},
   "source": [
    "# Code and collation\n",
    "## Training textual scholars\n",
    "Amsterdam, 2–4 November 2016\n",
    "### Instructors\n",
    "* Tara Andrews (University of Vienna)\n",
    "* Gioele Barabucci (University of Cologne, http://svario.it/gioele/uni)\n",
    "* David J. Birnbaum (University of Pittsburgh, http://www.obdurodon.org)\n",
    "* Elli Bleeker (University of Antwerp, https://www.uantwerpen.be/en/staff/elli-bleeker/)\n",
    "* Ronald Haentjens Dekker (Huygens ING, https://www.huygens.knaw.nl/dekker/?lang=en)\n",
    "* Leif-Jöran Olsson (University of Gothenburg, http://svenska.gu.se/om-oss/personal?userId=xollei)\n",
    "* Elena Spadini (Huygens ING, https://www.huygens.knaw.nl/elena-spadini/?lang=en)\n",
    "* Joris van Zundert (Huygens ING, https://www.huygens.knaw.nl/vanzundert/)"
   ]
  }
 ],
 "metadata": {
  "anaconda-cloud": {},
  "kernelspec": {
   "display_name": "Python [Root]",
   "language": "python",
   "name": "Python [Root]"
  },
  "language_info": {
   "codemirror_mode": {
    "name": "ipython",
    "version": 3
   },
   "file_extension": ".py",
   "mimetype": "text/x-python",
   "name": "python",
   "nbconvert_exporter": "python",
   "pygments_lexer": "ipython3",
   "version": "3.5.2"
  }
 },
 "nbformat": 4,
 "nbformat_minor": 0
}
