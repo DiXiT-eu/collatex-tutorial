{
 "cells": [
  {
   "cell_type": "markdown",
   "metadata": {},
   "source": [
    "# Code and collation\n",
    "## Training textual scholars\n",
    "Amsterdam, 2–4 November 2016\n",
    "### Instructors\n",
    "* Tara Andrews (University of Vienna, http://www.univie.ac.at/Geschichte/htdocs2/site/arti.php/91079)\n",
    "* Gioele Barabucci (University of Cologne, http://svario.it/gioele/uni)\n",
    "* David J. Birnbaum (University of Pittsburgh, http://www.obdurodon.org)\n",
    "* Elli Bleeker (University of Antwerp, https://www.uantwerpen.be/en/staff/elli-bleeker/)\n",
    "* Ronald Haentjens Dekker (Huygens ING, https://www.huygens.knaw.nl/dekker/?lang=en)\n",
    "* Leif-Jöran Olsson (University of Gothenburg, http://svenska.gu.se/om-oss/personal?userId=xollei)\n",
    "* Catherine Smith (University of Birmingham, http://www.birmingham.ac.uk/staff/profiles/tr/smith-catherine.aspx)\n",
    "* Elena Spadini (Huygens ING, https://www.huygens.knaw.nl/elena-spadini/?lang=en)\n",
    "* Joris van Zundert (Huygens ING, https://www.huygens.knaw.nl/vanzundert/)"
   ]
  }
 ],
 "metadata": {
  "anaconda-cloud": {},
  "kernelspec": {
   "display_name": "Python 3",
   "language": "python",
   "name": "python3"
  },
  "language_info": {
   "codemirror_mode": {
    "name": "ipython",
    "version": 3
   },
   "file_extension": ".py",
   "mimetype": "text/x-python",
   "name": "python",
   "nbconvert_exporter": "python",
   "pygments_lexer": "ipython3",
   "version": "3.4.3"
  }
 },
 "nbformat": 4,
 "nbformat_minor": 0
}
