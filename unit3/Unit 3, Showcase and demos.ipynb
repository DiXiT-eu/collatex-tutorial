{
 "cells": [
  {
   "cell_type": "markdown",
   "metadata": {},
   "source": [
    "# Unit 3: Showcase and demos"
   ]
  },
  {
   "cell_type": "markdown",
   "metadata": {},
   "source": [
    "<img src=\"images/Radzivill_chronicle_074.jpg\" align=\"right\" width=\"40%\"/>\n",
    "## Rus′ primary chronicle (Povest′ vremennyx let, PVL)\n",
    "\n",
    "### What is the PVL?\n",
    "\n",
    "* Principal indigenous historical record of the Eastern Slavs (ancestors of modern Russia, Ukraine, Belarus)\n",
    "* Incorporates Byzantine chronicles (beginning with the division of the earth among the sons of Noah) and Rusian oral tradition\n",
    "* Multiple redactions produced in different monasteries (under the patronage of different princes) through the early 12th century\n",
    "* Five principal extant manuscripts, the earliest dated to 1377\n",
    "* Traditional scholarship favors the oldest *manuscript*, although stemmatic analysis suggests that it does not always provide the best *text*\n",
    "* Important in literary, linguistic, and historical study\n",
    "\n",
    "### The Harvard Ukrainian Research Institute edition\n",
    "<img src=\"images/huri_pvl.png\" align=\"right\" width=\"40%\"/>\n",
    "\n",
    "#### Editorial method\n",
    "\n",
    "* Full interlinear collation based on new diplomatic transcriptions of all principal witness, augmented by others where the principal ones are defective\n",
    "* *Dynamic critical text* (*paradosis* ‘best reading’)\n",
    "\n",
    "#### Workflow\n",
    "\n",
    "* Typeset in troff in the 1980s for paper publication (2004)\n",
    "* Converted to SGML, then XML, then HTML for web publication in the 1990s\n",
    "* Original collation is *line-level* and was performed by hand\n",
    "* Now using CollateX to introduce *word-level* collation\n",
    "* No funding (= must automate as much as possible)\n",
    "\n",
    "### HTML output\n",
    "<img src=\"images/collation_line_html.png\" align=\"left\" width=\"49%\"/>\n",
    "<img src=\"images/collation_word_html.png\" align=\"right\" width=\"49%\"/>"
   ]
  },
  {
   "cell_type": "markdown",
   "metadata": {},
   "source": [
    "### Issues\n",
    "\n",
    "#### Textual\n",
    "\n",
    "* What to align (word division? punctuation? page and line breaks?) (Gothenburg **tokenization**)\n",
    "* Diplomatic transcription means lots of insignificant variation (Gothenburg **normalization** and **analysis**)\n",
    "\n",
    "#### Structural\n",
    "\n",
    "* Internal markup (deletions, additions, corrections, choices)\n",
    "* Text is already subdivided into ~8200 *blocks* (line-level collation sets), which can be regarded as individual collation tasks for word-level alignment\n",
    "___\n",
    "For more information, including the full digital edition, see http://pvl.obdurodon.org."
   ]
  }
 ],
 "metadata": {
  "kernelspec": {
   "display_name": "Python [default]",
   "language": "python",
   "name": "python3"
  },
  "language_info": {
   "codemirror_mode": {
    "name": "ipython",
    "version": 3
   },
   "file_extension": ".py",
   "mimetype": "text/x-python",
   "name": "python",
   "nbconvert_exporter": "python",
   "pygments_lexer": "ipython3",
   "version": "3.5.2"
  }
 },
 "nbformat": 4,
 "nbformat_minor": 1
}
