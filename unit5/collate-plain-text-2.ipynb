{
 "cells": [
  {
   "cell_type": "markdown",
   "metadata": {},
   "source": [
    "## Collating for real with Collatex\n",
    "We can here repeat the same steps done in the previous exercise, with a new and slightly more complicated text case.\n",
    "\n",
    "We will be using different editions of Virginia Woolf's \"To the lighthourse\":\n",
    "- USA = New York: Harcourt, Brace & Company, 1927 (1st USA edition)\n",
    "- UK = Londond: R & R Clark Limited, 1827 (1st UK edition)\n",
    "- EM (EVERYMAN) = London: J. M. Dent & Sons LTD, 1938 (reprint 1952)"
   ]
  },
  {
   "cell_type": "code",
   "execution_count": null,
   "metadata": {
    "collapsed": true
   },
   "outputs": [],
   "source": [
    "from collatex import *\n",
    "collation = Collation()\n",
    "witness_USA = open( \"./fixtures/Darwin/txt/darwin1859_par1.txt\", encoding='utf-8' ).read()\n",
    "witness_UK = open( \"./fixtures/Darwin/txt/darwin1860_par1.txt\", encoding='utf-8' ).read()\n",
    "witness_EM = open( \"./fixtures/Darwin/txt/darwin1861_par1.txt\", encoding='utf-8' ).read()\n",
    "collation.add_plain_witness( \"USA\", witness_USA )\n",
    "collation.add_plain_witness( \"UK\", witness_UK )\n",
    "collation.add_plain_witness( \"EM\", witness_EM )\n",
    "alignment_table = collate(collation, layout='vertical', output='html')"
   ]
  }
 ],
 "metadata": {
  "kernelspec": {
   "display_name": "Python 3",
   "language": "python",
   "name": "python3"
  },
  "language_info": {
   "codemirror_mode": {
    "name": "ipython",
    "version": 3
   },
   "file_extension": ".py",
   "mimetype": "text/x-python",
   "name": "python",
   "nbconvert_exporter": "python",
   "pygments_lexer": "ipython3",
   "version": "3.4.3"
  }
 },
 "nbformat": 4,
 "nbformat_minor": 0
}
