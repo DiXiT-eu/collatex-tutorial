{
 "cells": [
  {
   "cell_type": "markdown",
   "metadata": {},
   "source": [
    "## Collating for real with Collatex (2)\n",
    "We can here repeat the same steps done in the previous exercise, with a new and slightly more complicated text case.\n",
    "\n",
    "We will be using different editions of Virginia Woolf's \"To the lighthouse\":\n",
    "- USA = New York: Harcourt, Brace & Company, 1927 (1st USA edition)\n",
    "- UK = Londond: R & R Clark Limited, 1827 (1st UK edition)\n",
    "- EM (EVERYMAN) = London: J. M. Dent & Sons LTD, 1938 (reprint 1952)\n",
    "\n",
    "The facsimiles and trascriptions of the editions are available at http://woolfonline.com/ "
   ]
  },
  {
   "cell_type": "markdown",
   "metadata": {},
   "source": [
    "### First exercise\n",
    "Try to reproduce what you have done with the Darwin's text."
   ]
  },
  {
   "cell_type": "markdown",
   "metadata": {},
   "source": [
    "Call the *collatex* Python library"
   ]
  },
  {
   "cell_type": "code",
   "execution_count": 3,
   "metadata": {
    "collapsed": true
   },
   "outputs": [],
   "source": [
    "from collatex import *"
   ]
  },
  {
   "cell_type": "markdown",
   "metadata": {},
   "source": [
    "Create a collation object"
   ]
  },
  {
   "cell_type": "code",
   "execution_count": 4,
   "metadata": {
    "collapsed": true
   },
   "outputs": [],
   "source": [
    "collation = Collation()"
   ]
  },
  {
   "cell_type": "markdown",
   "metadata": {},
   "source": [
    "Now open the texts in \"../fixtures/Woolf/Lighthouse-1\" and let Python read them"
   ]
  },
  {
   "cell_type": "code",
   "execution_count": 5,
   "metadata": {
    "collapsed": true
   },
   "outputs": [],
   "source": [
    "witness_USA = open( \"../fixtures/Woolf/Lighthouse-1/Lighthouse-1-USA.txt\", encoding='utf-8' ).read()\n",
    "witness_UK = open( \"../fixtures/Woolf/Lighthouse-1/Lighthouse-1-UK.txt\", encoding='utf-8' ).read()\n",
    "witness_EM = open( \"../fixtures/Woolf/Lighthouse-1/Lighthouse-1-EM.txt\", encoding='utf-8' ).read()"
   ]
  },
  {
   "cell_type": "markdown",
   "metadata": {},
   "source": [
    "Add them as witnesses"
   ]
  },
  {
   "cell_type": "code",
   "execution_count": 6,
   "metadata": {
    "collapsed": true
   },
   "outputs": [],
   "source": [
    "collation.add_plain_witness( \"USA\", witness_USA )\n",
    "collation.add_plain_witness( \"UK\", witness_UK )\n",
    "collation.add_plain_witness( \"EM\", witness_EM )"
   ]
  },
  {
   "cell_type": "markdown",
   "metadata": {},
   "source": [
    "Align, using the HTML option"
   ]
  },
  {
   "cell_type": "code",
   "execution_count": null,
   "metadata": {
    "collapsed": false
   },
   "outputs": [
    {
     "data": {
      "text/html": [
       "<table>\n",
       "    <tr>\n",
       "        <th>USA</th>\n",
       "        <th>UK</th>\n",
       "        <th>EM</th>\n",
       "    </tr>\n",
       "    <tr>\n",
       "        <td>When she looked in<br>the glass and saw<br>her hair grey , her<br>cheek sunk , at<br>fifty , she thought<br>, possibly she might<br>have managed things<br>better — her husband<br>; money ; his books<br>. But for her own<br>part she would never<br>for a single second<br>regret her decision<br>, evade difficulties<br>, or slur over<br>duties . She was now<br>formidable to behold<br>, and it was only in<br>silence , looking up<br>from their plates ,<br>after she had spoken<br>so severely about<br>Charles Tansley ,<br>that her daughters</td>\n",
       "        <td>When she looked in<br>the glass and saw<br>her hair grey , her<br>cheek sunk , at<br>fifty , she thought<br>, possibly she might<br>have managed things<br>better — her husband<br>; money ; his books<br>. But for her own<br>part she would never<br>for a single second<br>regret her decision<br>, evade difficulties<br>, or slur over<br>duties . She was now<br>formidable to behold<br>, and it was only in<br>silence , looking up<br>from their plates ,<br>after she had spoken<br>so severely about<br>Charles Tansley ,<br>that her daughters</td>\n",
       "        <td>When she looked in<br>the glass and saw<br>her hair grey , her<br>cheek sunk , at<br>fifty , she thought<br>, possibly she might<br>have managed things<br>better — her husband<br>; money ; his books<br>. But for her own<br>part she would never<br>for a single second<br>regret her decision<br>, evade difficulties<br>, or slur over<br>duties . She was now<br>formidable to behold<br>, and it was only in<br>silence , looking up<br>from their plates ,<br>after she had spoken<br>so severely about<br>Charles Tansley ,<br>that her daughters</td>\n",
       "    </tr>\n",
       "    <tr>\n",
       "        <td>,</td>\n",
       "        <td>—</td>\n",
       "        <td>—</td>\n",
       "    </tr>\n",
       "    <tr>\n",
       "        <td>Prue , Nancy , Rose<br>— could sport with<br>infidel ideas which<br>they had brewed for<br>themselves of a life<br>different from hers<br>; in Paris , perhaps<br>; a wilder life ;<br>not always taking<br>care of some man or<br>other ; for there<br>was in all their<br>minds a mute<br>questioning of<br>deference and<br>chivalry , of the<br>Bank of England and<br>the Indian Empire ,<br>of ringed fingers<br>and lace , though to<br>them all there was<br>something in this of<br>the essence of<br>beauty , which<br>called out the<br>manliness in their<br>girlish hearts , and<br>made them , as they<br>sat at table beneath<br>their mother ’ s<br>eyes , honour her<br>strange severity ,<br>her extreme courtesy<br>, like a</td>\n",
       "        <td>Prue , Nancy , Rose<br>— could sport with<br>infidel ideas which<br>they had brewed for<br>themselves of a life<br>different from hers<br>; in Paris , perhaps<br>; a wilder life ;<br>not always taking<br>care of some man or<br>other ; for there<br>was in all their<br>minds a mute<br>questioning of<br>deference and<br>chivalry , of the<br>Bank of England and<br>the Indian Empire ,<br>of ringed fingers<br>and lace , though to<br>them all there was<br>something in this of<br>the essence of<br>beauty , which<br>called out the<br>manliness in their<br>girlish hearts , and<br>made them , as they<br>sat at table beneath<br>their mother ’ s<br>eyes , honour her<br>strange severity ,<br>her extreme courtesy<br>, like a</td>\n",
       "        <td>Prue , Nancy , Rose<br>— could sport with<br>infidel ideas which<br>they had brewed for<br>themselves of a life<br>different from hers<br>; in Paris , perhaps<br>; a wilder life ;<br>not always taking<br>care of some man or<br>other ; for there<br>was in all their<br>minds a mute<br>questioning of<br>deference and<br>chivalry , of the<br>Bank of England and<br>the Indian Empire ,<br>of ringed fingers<br>and lace , though to<br>them all there was<br>something in this of<br>the essence of<br>beauty , which<br>called out the<br>manliness in their<br>girlish hearts , and<br>made them , as they<br>sat at table beneath<br>their mother ’ s<br>eyes , honour her<br>strange severity ,<br>her extreme courtesy<br>, like a</td>\n",
       "    </tr>\n",
       "    <tr>\n",
       "        <td>Queen</td>\n",
       "        <td>Queen</td>\n",
       "        <td>queen</td>\n",
       "    </tr>\n",
       "    <tr>\n",
       "        <td>’ s raising from the<br>mud</td>\n",
       "        <td>’ s raising from the<br>mud</td>\n",
       "        <td>’ s raising from the<br>mud</td>\n",
       "    </tr>\n",
       "    <tr>\n",
       "        <td>to wash</td>\n",
       "        <td>-</td>\n",
       "        <td>-</td>\n",
       "    </tr>\n",
       "    <tr>\n",
       "        <td>a beggar</td>\n",
       "        <td>a beggar</td>\n",
       "        <td>a beggar</td>\n",
       "    </tr>\n",
       "    <tr>\n",
       "        <td>’</td>\n",
       "        <td>’</td>\n",
       "        <td>&#x27;</td>\n",
       "    </tr>\n",
       "    <tr>\n",
       "        <td>s dirty foot</td>\n",
       "        <td>s dirty foot</td>\n",
       "        <td>s dirty foot</td>\n",
       "    </tr>\n",
       "    <tr>\n",
       "        <td>-</td>\n",
       "        <td>and washing</td>\n",
       "        <td>and washing</td>\n",
       "    </tr>\n",
       "    <tr>\n",
       "        <td>-</td>\n",
       "        <td>-</td>\n",
       "        <td>it</td>\n",
       "    </tr>\n",
       "    <tr>\n",
       "        <td>, when she thus<br>admonished them so<br>very severely about<br>that wretched<br>atheist who had<br>chased them</td>\n",
       "        <td>, when she thus<br>admonished them so<br>very severely about<br>that wretched<br>atheist who had<br>chased them</td>\n",
       "        <td>, when she thus<br>admonished them so<br>very severely about<br>that wretched<br>atheist who had<br>chased them</td>\n",
       "    </tr>\n",
       "    <tr>\n",
       "        <td>-</td>\n",
       "        <td>-</td>\n",
       "        <td>to</td>\n",
       "    </tr>\n",
       "    <tr>\n",
       "        <td>— or , speaking<br>accurately , been<br>invited to stay with<br>them</td>\n",
       "        <td>— or , speaking<br>accurately , been<br>invited to stay with<br>them</td>\n",
       "        <td>— or , speaking<br>accurately , been<br>invited to stay with<br>them</td>\n",
       "    </tr>\n",
       "    <tr>\n",
       "        <td>-</td>\n",
       "        <td>-</td>\n",
       "        <td>in</td>\n",
       "    </tr>\n",
       "    <tr>\n",
       "        <td>—</td>\n",
       "        <td>—</td>\n",
       "        <td>—</td>\n",
       "    </tr>\n",
       "    <tr>\n",
       "        <td>in the</td>\n",
       "        <td>in the</td>\n",
       "        <td>the</td>\n",
       "    </tr>\n",
       "    <tr>\n",
       "        <td>Isles</td>\n",
       "        <td>Isle</td>\n",
       "        <td>Isle</td>\n",
       "    </tr>\n",
       "    <tr>\n",
       "        <td>of Skye .</td>\n",
       "        <td>of Skye .</td>\n",
       "        <td>of Skye .</td>\n",
       "    </tr>\n",
       "</table>"
      ],
      "text/plain": [
       "<IPython.core.display.HTML object>"
      ]
     },
     "metadata": {},
     "output_type": "display_data"
    }
   ],
   "source": [
    "alignment_table = collate(collation, layout='vertical', output='html')"
   ]
  },
  {
   "cell_type": "markdown",
   "metadata": {},
   "source": [
    "If you want to know more about this text:\n",
    "\n",
    "Look at the sources\n",
    "- USA, p. 14\n",
    "http://woolfonline.com/?node=content/text/transcriptions&project=1&parent=2&taxa=19&content=2817&pos=15\n",
    "- UK, pp. 16-17\n",
    "http://woolfonline.com/?node=content/text/transcriptions&project=1&parent=2&taxa=20&content=3139&pos=19\n",
    "- EVERYMAN, p. 7\n",
    "http://woolfonline.com/?node=content/text/transcriptions&project=1&parent=2&taxa=22&content=3804&pos=24\n",
    "\n",
    "Start thinking about how to handle situation like the following (proof with corrections in the margin)\n",
    "- http://woolfonline.com/?node=content/text/transcriptions&project=1&parent=2&taxa=18&content=4172&pos=14\n"
   ]
  },
  {
   "cell_type": "markdown",
   "metadata": {},
   "source": [
    "### Second exercise\n",
    "In the second exercise, repeat the previous steps, now using the texts at \"../fixtures/Woolf/Lighthouse-2\" and visualizing the output with the more sophisticated HTML option (HTML2).\n"
   ]
  },
  {
   "cell_type": "code",
   "execution_count": null,
   "metadata": {
    "collapsed": false
   },
   "outputs": [],
   "source": [
    "collation = Collation()\n",
    "witness_USA = open( \"../fixtures/Woolf/Lighthouse-2/Lighthouse-2-USA.txt\", encoding='utf-8' ).read()\n",
    "witness_UK = open( \"../fixtures/Woolf/Lighthouse-2/Lighthouse-2-UK.txt\", encoding='utf-8' ).read()\n",
    "witness_EM = open( \"../fixtures/Woolf/Lighthouse-2/Lighthouse-2-EM.txt\", encoding='utf-8' ).read()\n",
    "collation.add_plain_witness( \"USA\", witness_USA )\n",
    "collation.add_plain_witness( \"UK\", witness_UK )\n",
    "collation.add_plain_witness( \"EM\", witness_EM )\n",
    "alignment_table = collate(collation, layout='vertical', output='html2')"
   ]
  },
  {
   "cell_type": "markdown",
   "metadata": {},
   "source": [
    "### What's next?\n",
    "\n",
    "Look at the results above and think about what do you want to consider in your collation.\n",
    "\n",
    "- Do you want, for example, to consider punctuation? We will talk about how to prepare and normalize the witnesses in Unit 6.\n",
    "\n",
    "- What about if you consider a messy manuscript as one of the witnesses for the collation ... Something like this\n",
    "http://woolfonline.com/?node=content/text/transcriptions&project=1&parent=6&taxa=26&content=5473&pos=8&search=Not%20a%20breath%20of%20wind%20blew&exact ... Do you recognize it? Is another witness of the text used in Exercise 2.    In order to register *all the texts* on this page, scholars use markup, and in particular XML-TEI. We will talk about collation of XML documents in Unit 7.\n",
    "\n",
    "\n",
    "\n"
   ]
  },
  {
   "cell_type": "code",
   "execution_count": null,
   "metadata": {
    "collapsed": true
   },
   "outputs": [],
   "source": []
  }
 ],
 "metadata": {
  "kernelspec": {
   "display_name": "Python 3",
   "language": "python",
   "name": "python3"
  },
  "language_info": {
   "codemirror_mode": {
    "name": "ipython",
    "version": 3
   },
   "file_extension": ".py",
   "mimetype": "text/x-python",
   "name": "python",
   "nbconvert_exporter": "python",
   "pygments_lexer": "ipython3",
   "version": "3.4.3"
  }
 },
 "nbformat": 4,
 "nbformat_minor": 0
}
