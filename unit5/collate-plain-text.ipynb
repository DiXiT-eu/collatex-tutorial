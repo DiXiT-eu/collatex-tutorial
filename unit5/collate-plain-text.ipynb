{
 "cells": [
  {
   "cell_type": "markdown",
   "metadata": {},
   "source": [
    "##Collating for real with CollateX\n",
    "\n",
    "Okay, let's do some serious hands-on collation.\n",
    "\n",
    "First of all we want to make sure that you have the latest version of CollateX. That's why we do…"
   ]
  },
  {
   "cell_type": "code",
   "execution_count": 1,
   "metadata": {
    "collapsed": false
   },
   "outputs": [
    {
     "name": "stdout",
     "output_type": "stream",
     "text": [
      "Requirement already up-to-date: collatex in c:\\python34\\lib\\site-packages\n",
      "Requirement already up-to-date: networkx in c:\\python34\\lib\\site-packages (from collatex)\n",
      "Requirement already up-to-date: prettytable in c:\\python34\\lib\\site-packages (from collatex)\n",
      "Requirement already up-to-date: decorator>=3.4.0 in c:\\python34\\lib\\site-packages (from networkx->collatex)\n"
     ]
    }
   ],
   "source": [
    "!pip install --pre --upgrade collatex"
   ]
  },
  {
   "cell_type": "markdown",
   "metadata": {},
   "source": [
    "You don't need to do this every time, but make sure you do it regularly.\n",
    "\n",
    "Next we need to tell Python that we will be needing the Python library that holds the code for CollateX…"
   ]
  },
  {
   "cell_type": "code",
   "execution_count": 2,
   "metadata": {
    "collapsed": true
   },
   "outputs": [],
   "source": [
    "from collatex import *"
   ]
  },
  {
   "cell_type": "markdown",
   "metadata": {},
   "source": [
    "Now we're ready to make a collation object. We do this with the slightly hermetic line of code: \n",
    "\n",
    "    collation = Collation()\n",
    "    \n",
    "Here the small caps `collation` is the arbitrary named variable that refers to a copy (officially it is called an *instance*) of the CollateX collation engine. We simply tell the collation library to create a new instance by saying `Collation()`."
   ]
  },
  {
   "cell_type": "code",
   "execution_count": 3,
   "metadata": {
    "collapsed": true
   },
   "outputs": [],
   "source": [
    "collation = Collation()"
   ]
  },
  {
   "cell_type": "markdown",
   "metadata": {},
   "source": [
    "Now we add some witnesses. Each witness gets a letter or name that will identify them, and for each we add the literal text of the witness to the collation object, like so…"
   ]
  },
  {
   "cell_type": "code",
   "execution_count": 4,
   "metadata": {
    "collapsed": true
   },
   "outputs": [],
   "source": [
    "collation.add_plain_witness( \"A\", \"The quick brown fox jumped over the lazy dog.\")\n",
    "collation.add_plain_witness( \"B\", \"The brown fox jumped over the dog.\" )\n",
    "collation.add_plain_witness( \"C\", \"The bad fox jumped over the lazy dog.\" )"
   ]
  },
  {
   "cell_type": "markdown",
   "metadata": {},
   "source": [
    "And now we can let CollateX do its work of collating these witnesses and sit back for about 0.001 seconds. The result will be an alignment table, so we'll refer to the result with a variable named `alignment_table`."
   ]
  },
  {
   "cell_type": "code",
   "execution_count": 5,
   "metadata": {
    "collapsed": true
   },
   "outputs": [],
   "source": [
    "alignment_table = collate(collation, layout='vertical', segmentation=False )"
   ]
  },
  {
   "cell_type": "markdown",
   "metadata": {},
   "source": [
    "Well, that worked nicely it seems. But there's no printout, no visualization. That's okay, we can come up with a printout of the alignment table too:"
   ]
  },
  {
   "cell_type": "code",
   "execution_count": 6,
   "metadata": {
    "collapsed": false
   },
   "outputs": [
    {
     "name": "stdout",
     "output_type": "stream",
     "text": [
      "+--------+--------+--------+\n",
      "|   A    |   B    |   C    |\n",
      "+--------+--------+--------+\n",
      "|  The   |  The   |  The   |\n",
      "+--------+--------+--------+\n",
      "| quick  |   -    |  bad   |\n",
      "+--------+--------+--------+\n",
      "| brown  | brown  |   -    |\n",
      "+--------+--------+--------+\n",
      "|  fox   |  fox   |  fox   |\n",
      "+--------+--------+--------+\n",
      "| jumped | jumped | jumped |\n",
      "+--------+--------+--------+\n",
      "|  over  |  over  |  over  |\n",
      "+--------+--------+--------+\n",
      "|  the   |  the   |  the   |\n",
      "+--------+--------+--------+\n",
      "|  lazy  |   -    |  lazy  |\n",
      "+--------+--------+--------+\n",
      "|  dog   |  dog   |  dog   |\n",
      "+--------+--------+--------+\n",
      "|   .    |   .    |   .    |\n",
      "+--------+--------+--------+\n"
     ]
    }
   ],
   "source": [
    "print( alignment_table )"
   ]
  },
  {
   "cell_type": "markdown",
   "metadata": {},
   "source": [
    "Usually you will want those segments that run parallel to be collected and displayed together. Since this is what most people seem to want, CollateX does that by default. We switched this option off in the example above for a moment because the result then shows you more clearly what the underlying primary structure is that CollateX returns. But for all practicle purposes you will probabably lose that `segmentation=False` option. So, let's get rid of that, and collate again…"
   ]
  },
  {
   "cell_type": "code",
   "execution_count": 7,
   "metadata": {
    "collapsed": true
   },
   "outputs": [],
   "source": [
    "alignment_table = collate(collation, layout='vertical' )"
   ]
  },
  {
   "cell_type": "code",
   "execution_count": 8,
   "metadata": {
    "collapsed": false
   },
   "outputs": [
    {
     "name": "stdout",
     "output_type": "stream",
     "text": [
      "+---------------------+---------------------+---------------------+\n",
      "|          A          |          B          |          C          |\n",
      "+---------------------+---------------------+---------------------+\n",
      "|         The         |         The         |         The         |\n",
      "+---------------------+---------------------+---------------------+\n",
      "|        quick        |          -          |         bad         |\n",
      "+---------------------+---------------------+---------------------+\n",
      "|        brown        |        brown        |          -          |\n",
      "+---------------------+---------------------+---------------------+\n",
      "| fox jumped over the | fox jumped over the | fox jumped over the |\n",
      "+---------------------+---------------------+---------------------+\n",
      "|         lazy        |          -          |         lazy        |\n",
      "+---------------------+---------------------+---------------------+\n",
      "|         dog.        |         dog.        |         dog.        |\n",
      "+---------------------+---------------------+---------------------+\n"
     ]
    }
   ],
   "source": [
    "print( alignment_table )"
   ]
  },
  {
   "cell_type": "markdown",
   "metadata": {},
   "source": [
    "The aligment table visualization is CollateX's default way of rendering a collation result. There are various ways in which one can depict collated results of course. The output in alignment table form can be a good basis for further visualizations. CollateX can also format your collation as a variant graph. This is a visualization that lets you trace from left to right through a directed network, to follow which witness carries what readings."
   ]
  },
  {
   "cell_type": "code",
   "execution_count": 9,
   "metadata": {
    "collapsed": false
   },
   "outputs": [
    {
     "data": {
      "image/svg+xml": [
       "<svg height=\"165pt\" viewBox=\"0.00 0.00 1374.00 165.00\" width=\"1374pt\" xmlns=\"http://www.w3.org/2000/svg\" xmlns:xlink=\"http://www.w3.org/1999/xlink\">\n",
       "<g class=\"graph\" id=\"graph0\" transform=\"scale(1 1) rotate(0) translate(4 161)\">\n",
       "<title>%3</title>\n",
       "<polygon fill=\"white\" points=\"-4,4 -4,-161 1370,-161 1370,4 -4,4\" stroke=\"none\"/>\n",
       "<!-- 1 -->\n",
       "<g class=\"node\" id=\"node1\"><title>1</title>\n",
       "<polygon fill=\"none\" points=\"387,-157 285,-157 285,-105 387,-105 387,-157\" stroke=\"black\"/>\n",
       "<polygon fill=\"none\" points=\"294,-131 294,-152 341,-152 341,-131 294,-131\" stroke=\"black\"/>\n",
       "<text font-family=\"Times New Roman,serif\" font-size=\"14.00\" font-weight=\"bold\" text-anchor=\"start\" x=\"297\" y=\"-138.8\">quick</text>\n",
       "<polygon fill=\"none\" points=\"341,-131 341,-152 378,-152 378,-131 341,-131\" stroke=\"black\"/>\n",
       "<text font-family=\"Times New Roman,serif\" font-size=\"14.00\" font-weight=\"bold\" text-anchor=\"start\" x=\"344\" y=\"-138.8\">Sigla</text>\n",
       "<polygon fill=\"none\" points=\"294,-110 294,-131 341,-131 341,-110 294,-110\" stroke=\"black\"/>\n",
       "<text font-family=\"Bukyvede\" font-size=\"14.00\" text-anchor=\"start\" x=\"297\" y=\"-116.8\">quick </text>\n",
       "<polygon fill=\"none\" points=\"341,-110 341,-131 378,-131 378,-110 341,-110\" stroke=\"black\"/>\n",
       "<text font-family=\"Times New Roman,serif\" font-size=\"14.00\" text-anchor=\"start\" x=\"344\" y=\"-116.8\">A</text>\n",
       "<polygon fill=\"none\" points=\"293,-109 293,-153 379,-153 379,-109 293,-109\" stroke=\"black\"/>\n",
       "</g>\n",
       "<!-- 2 -->\n",
       "<g class=\"node\" id=\"node2\"><title>2</title>\n",
       "<polygon fill=\"none\" points=\"624,-111 514,-111 514,-59 624,-59 624,-111\" stroke=\"black\"/>\n",
       "<polygon fill=\"none\" points=\"523,-85 523,-106 578,-106 578,-85 523,-85\" stroke=\"black\"/>\n",
       "<text font-family=\"Times New Roman,serif\" font-size=\"14.00\" font-weight=\"bold\" text-anchor=\"start\" x=\"526\" y=\"-92.8\">brown</text>\n",
       "<polygon fill=\"none\" points=\"578,-85 578,-106 615,-106 615,-85 578,-85\" stroke=\"black\"/>\n",
       "<text font-family=\"Times New Roman,serif\" font-size=\"14.00\" font-weight=\"bold\" text-anchor=\"start\" x=\"581\" y=\"-92.8\">Sigla</text>\n",
       "<polygon fill=\"none\" points=\"523,-64 523,-85 578,-85 578,-64 523,-64\" stroke=\"black\"/>\n",
       "<text font-family=\"Bukyvede\" font-size=\"14.00\" text-anchor=\"start\" x=\"526\" y=\"-70.8\">brown </text>\n",
       "<polygon fill=\"none\" points=\"578,-64 578,-85 615,-85 615,-64 578,-64\" stroke=\"black\"/>\n",
       "<text font-family=\"Times New Roman,serif\" font-size=\"14.00\" text-anchor=\"start\" x=\"581\" y=\"-70.8\">A, B</text>\n",
       "<polygon fill=\"none\" points=\"522,-63 522,-107 616,-107 616,-63 522,-63\" stroke=\"black\"/>\n",
       "</g>\n",
       "<!-- 1&#45;&gt;2 -->\n",
       "<g class=\"edge\" id=\"edge1\"><title>1-&gt;2</title>\n",
       "<path d=\"M387.124,-121.019C421.327,-114.208 466.936,-105.125 503.798,-97.7849\" fill=\"none\" stroke=\"black\"/>\n",
       "<polygon fill=\"black\" points=\"504.822,-101.15 513.946,-95.7641 503.455,-94.2846 504.822,-101.15\" stroke=\"black\"/>\n",
       "<text font-family=\"Times New Roman,serif\" font-size=\"14.00\" text-anchor=\"middle\" x=\"450.5\" y=\"-120.8\">A</text>\n",
       "</g>\n",
       "<!-- 3 -->\n",
       "<g class=\"node\" id=\"node3\"><title>3</title>\n",
       "<polygon fill=\"none\" points=\"905,-75 687,-75 687,-23 905,-23 905,-75\" stroke=\"black\"/>\n",
       "<polygon fill=\"none\" points=\"696,-49 696,-70 846,-70 846,-49 696,-49\" stroke=\"black\"/>\n",
       "<text font-family=\"Times New Roman,serif\" font-size=\"14.00\" font-weight=\"bold\" text-anchor=\"start\" x=\"699\" y=\"-56.8\">fox jumped over the</text>\n",
       "<polygon fill=\"none\" points=\"846,-49 846,-70 896,-70 896,-49 846,-49\" stroke=\"black\"/>\n",
       "<text font-family=\"Times New Roman,serif\" font-size=\"14.00\" font-weight=\"bold\" text-anchor=\"start\" x=\"849\" y=\"-56.8\">Sigla</text>\n",
       "<polygon fill=\"none\" points=\"696,-28 696,-49 846,-49 846,-28 696,-28\" stroke=\"black\"/>\n",
       "<text font-family=\"Bukyvede\" font-size=\"14.00\" text-anchor=\"start\" x=\"699\" y=\"-34.8\">fox jumped over the </text>\n",
       "<polygon fill=\"none\" points=\"846,-28 846,-49 896,-49 896,-28 846,-28\" stroke=\"black\"/>\n",
       "<text font-family=\"Times New Roman,serif\" font-size=\"14.00\" text-anchor=\"start\" x=\"849\" y=\"-34.8\">A, B, C</text>\n",
       "<polygon fill=\"none\" points=\"695,-27 695,-71 897,-71 897,-27 695,-27\" stroke=\"black\"/>\n",
       "</g>\n",
       "<!-- 2&#45;&gt;3 -->\n",
       "<g class=\"edge\" id=\"edge2\"><title>2-&gt;3</title>\n",
       "<path d=\"M624.179,-76.3313C640.162,-73.7741 658.315,-70.8696 676.676,-67.9319\" fill=\"none\" stroke=\"black\"/>\n",
       "<polygon fill=\"black\" points=\"677.262,-71.3826 686.584,-66.3466 676.156,-64.4706 677.262,-71.3826\" stroke=\"black\"/>\n",
       "<text font-family=\"Times New Roman,serif\" font-size=\"14.00\" text-anchor=\"middle\" x=\"655.5\" y=\"-76.8\">A, B</text>\n",
       "</g>\n",
       "<!-- 5 -->\n",
       "<g class=\"node\" id=\"node5\"><title>5</title>\n",
       "<polygon fill=\"none\" points=\"1064,-118 969,-118 969,-66 1064,-66 1064,-118\" stroke=\"black\"/>\n",
       "<polygon fill=\"none\" points=\"978.5,-92 978.5,-113 1018.5,-113 1018.5,-92 978.5,-92\" stroke=\"black\"/>\n",
       "<text font-family=\"Times New Roman,serif\" font-size=\"14.00\" font-weight=\"bold\" text-anchor=\"start\" x=\"981.5\" y=\"-99.8\">lazy</text>\n",
       "<polygon fill=\"none\" points=\"1018.5,-92 1018.5,-113 1055.5,-113 1055.5,-92 1018.5,-92\" stroke=\"black\"/>\n",
       "<text font-family=\"Times New Roman,serif\" font-size=\"14.00\" font-weight=\"bold\" text-anchor=\"start\" x=\"1021.5\" y=\"-99.8\">Sigla</text>\n",
       "<polygon fill=\"none\" points=\"978.5,-71 978.5,-92 1018.5,-92 1018.5,-71 978.5,-71\" stroke=\"black\"/>\n",
       "<text font-family=\"Bukyvede\" font-size=\"14.00\" text-anchor=\"start\" x=\"981.5\" y=\"-77.8\">lazy </text>\n",
       "<polygon fill=\"none\" points=\"1018.5,-71 1018.5,-92 1055.5,-92 1055.5,-71 1018.5,-71\" stroke=\"black\"/>\n",
       "<text font-family=\"Times New Roman,serif\" font-size=\"14.00\" text-anchor=\"start\" x=\"1021.5\" y=\"-77.8\">A, C</text>\n",
       "<polygon fill=\"none\" points=\"977,-70 977,-114 1056,-114 1056,-70 977,-70\" stroke=\"black\"/>\n",
       "</g>\n",
       "<!-- 3&#45;&gt;5 -->\n",
       "<g class=\"edge\" id=\"edge3\"><title>3-&gt;5</title>\n",
       "<path d=\"M905.29,-70.311C923.863,-73.9662 942.473,-77.6286 958.973,-80.8757\" fill=\"none\" stroke=\"black\"/>\n",
       "<polygon fill=\"black\" points=\"958.467,-84.3431 968.954,-82.84 959.818,-77.4749 958.467,-84.3431\" stroke=\"black\"/>\n",
       "<text font-family=\"Times New Roman,serif\" font-size=\"14.00\" text-anchor=\"middle\" x=\"937\" y=\"-82.8\">A, C</text>\n",
       "</g>\n",
       "<!-- 7 -->\n",
       "<g class=\"node\" id=\"node7\"><title>7</title>\n",
       "<polygon fill=\"none\" points=\"1232,-82 1128,-82 1128,-30 1232,-30 1232,-82\" stroke=\"black\"/>\n",
       "<polygon fill=\"none\" points=\"1137,-56 1137,-77 1173,-77 1173,-56 1137,-56\" stroke=\"black\"/>\n",
       "<text font-family=\"Times New Roman,serif\" font-size=\"14.00\" font-weight=\"bold\" text-anchor=\"start\" x=\"1140\" y=\"-63.8\">dog.</text>\n",
       "<polygon fill=\"none\" points=\"1173,-56 1173,-77 1223,-77 1223,-56 1173,-56\" stroke=\"black\"/>\n",
       "<text font-family=\"Times New Roman,serif\" font-size=\"14.00\" font-weight=\"bold\" text-anchor=\"start\" x=\"1176\" y=\"-63.8\">Sigla</text>\n",
       "<polygon fill=\"none\" points=\"1137,-35 1137,-56 1173,-56 1173,-35 1137,-35\" stroke=\"black\"/>\n",
       "<text font-family=\"Bukyvede\" font-size=\"14.00\" text-anchor=\"start\" x=\"1140\" y=\"-41.8\">dog.</text>\n",
       "<polygon fill=\"none\" points=\"1173,-35 1173,-56 1223,-56 1223,-35 1173,-35\" stroke=\"black\"/>\n",
       "<text font-family=\"Times New Roman,serif\" font-size=\"14.00\" text-anchor=\"start\" x=\"1176\" y=\"-41.8\">A, B, C</text>\n",
       "<polygon fill=\"none\" points=\"1136,-34 1136,-78 1224,-78 1224,-34 1136,-34\" stroke=\"black\"/>\n",
       "</g>\n",
       "<!-- 3&#45;&gt;7 -->\n",
       "<g class=\"edge\" id=\"edge4\"><title>3-&gt;7</title>\n",
       "<path d=\"M905.223,-41.9045C953.804,-39.8159 1011.81,-38.8351 1064,-42 1081.54,-43.0636 1100.5,-45.0314 1117.87,-47.1626\" fill=\"none\" stroke=\"black\"/>\n",
       "<polygon fill=\"black\" points=\"1117.52,-50.6474 1127.89,-48.4307 1118.4,-43.7028 1117.52,-50.6474\" stroke=\"black\"/>\n",
       "<text font-family=\"Times New Roman,serif\" font-size=\"14.00\" text-anchor=\"middle\" x=\"1016.5\" y=\"-45.8\">B</text>\n",
       "</g>\n",
       "<!-- 4 -->\n",
       "<g class=\"node\" id=\"node4\"><title>4</title>\n",
       "<polygon fill=\"none\" points=\"239,-98 134,-98 134,-46 239,-46 239,-98\" stroke=\"black\"/>\n",
       "<polygon fill=\"none\" points=\"143.5,-72 143.5,-93 180.5,-93 180.5,-72 143.5,-72\" stroke=\"black\"/>\n",
       "<text font-family=\"Times New Roman,serif\" font-size=\"14.00\" font-weight=\"bold\" text-anchor=\"start\" x=\"146.5\" y=\"-79.8\">The</text>\n",
       "<polygon fill=\"none\" points=\"180.5,-72 180.5,-93 230.5,-93 230.5,-72 180.5,-72\" stroke=\"black\"/>\n",
       "<text font-family=\"Times New Roman,serif\" font-size=\"14.00\" font-weight=\"bold\" text-anchor=\"start\" x=\"183.5\" y=\"-79.8\">Sigla</text>\n",
       "<polygon fill=\"none\" points=\"143.5,-51 143.5,-72 180.5,-72 180.5,-51 143.5,-51\" stroke=\"black\"/>\n",
       "<text font-family=\"Bukyvede\" font-size=\"14.00\" text-anchor=\"start\" x=\"146.5\" y=\"-57.8\">The </text>\n",
       "<polygon fill=\"none\" points=\"180.5,-51 180.5,-72 230.5,-72 230.5,-51 180.5,-51\" stroke=\"black\"/>\n",
       "<text font-family=\"Times New Roman,serif\" font-size=\"14.00\" text-anchor=\"start\" x=\"183.5\" y=\"-57.8\">A, B, C</text>\n",
       "<polygon fill=\"none\" points=\"142,-50 142,-94 231,-94 231,-50 142,-50\" stroke=\"black\"/>\n",
       "</g>\n",
       "<!-- 4&#45;&gt;1 -->\n",
       "<g class=\"edge\" id=\"edge5\"><title>4-&gt;1</title>\n",
       "<path d=\"M239.088,-92.6353C250.757,-97.3026 263.241,-102.296 275.215,-107.086\" fill=\"none\" stroke=\"black\"/>\n",
       "<polygon fill=\"black\" points=\"274.099,-110.409 284.684,-110.873 276.699,-103.91 274.099,-110.409\" stroke=\"black\"/>\n",
       "<text font-family=\"Times New Roman,serif\" font-size=\"14.00\" text-anchor=\"middle\" x=\"262\" y=\"-106.8\">A</text>\n",
       "</g>\n",
       "<!-- 4&#45;&gt;2 -->\n",
       "<g class=\"edge\" id=\"edge7\"><title>4-&gt;2</title>\n",
       "<path d=\"M239.212,-73.7668C307.912,-76.1139 429.251,-80.2596 503.752,-82.8049\" fill=\"none\" stroke=\"black\"/>\n",
       "<polygon fill=\"black\" points=\"503.829,-86.3095 513.943,-83.1531 504.068,-79.3136 503.829,-86.3095\" stroke=\"black\"/>\n",
       "<text font-family=\"Times New Roman,serif\" font-size=\"14.00\" text-anchor=\"middle\" x=\"336\" y=\"-81.8\">B</text>\n",
       "</g>\n",
       "<!-- 6 -->\n",
       "<g class=\"node\" id=\"node6\"><title>6</title>\n",
       "<polygon fill=\"none\" points=\"496,-52 405,-52 405,-0 496,-0 496,-52\" stroke=\"black\"/>\n",
       "<polygon fill=\"none\" points=\"414.5,-26 414.5,-47 450.5,-47 450.5,-26 414.5,-26\" stroke=\"black\"/>\n",
       "<text font-family=\"Times New Roman,serif\" font-size=\"14.00\" font-weight=\"bold\" text-anchor=\"start\" x=\"417.5\" y=\"-33.8\">bad</text>\n",
       "<polygon fill=\"none\" points=\"450.5,-26 450.5,-47 487.5,-47 487.5,-26 450.5,-26\" stroke=\"black\"/>\n",
       "<text font-family=\"Times New Roman,serif\" font-size=\"14.00\" font-weight=\"bold\" text-anchor=\"start\" x=\"453.5\" y=\"-33.8\">Sigla</text>\n",
       "<polygon fill=\"none\" points=\"414.5,-5 414.5,-26 450.5,-26 450.5,-5 414.5,-5\" stroke=\"black\"/>\n",
       "<text font-family=\"Bukyvede\" font-size=\"14.00\" text-anchor=\"start\" x=\"417.5\" y=\"-11.8\">bad </text>\n",
       "<polygon fill=\"none\" points=\"450.5,-5 450.5,-26 487.5,-26 487.5,-5 450.5,-5\" stroke=\"black\"/>\n",
       "<text font-family=\"Times New Roman,serif\" font-size=\"14.00\" text-anchor=\"start\" x=\"453.5\" y=\"-11.8\">C</text>\n",
       "<polygon fill=\"none\" points=\"413,-4 413,-48 488,-48 488,-4 413,-4\" stroke=\"black\"/>\n",
       "</g>\n",
       "<!-- 4&#45;&gt;6 -->\n",
       "<g class=\"edge\" id=\"edge6\"><title>4-&gt;6</title>\n",
       "<path d=\"M239.286,-48.3784C245.176,-46.298 251.161,-44.4395 257,-43 302.602,-31.7586 355.894,-27.7281 394.829,-26.3837\" fill=\"none\" stroke=\"black\"/>\n",
       "<polygon fill=\"black\" points=\"395.015,-29.8798 404.907,-26.0844 394.807,-22.8829 395.015,-29.8798\" stroke=\"black\"/>\n",
       "<text font-family=\"Times New Roman,serif\" font-size=\"14.00\" text-anchor=\"middle\" x=\"262\" y=\"-46.8\">C</text>\n",
       "</g>\n",
       "<!-- 5&#45;&gt;7 -->\n",
       "<g class=\"edge\" id=\"edge8\"><title>5-&gt;7</title>\n",
       "<path d=\"M1064.21,-81.5873C1080.88,-77.8725 1099.91,-73.6299 1117.62,-69.6819\" fill=\"none\" stroke=\"black\"/>\n",
       "<polygon fill=\"black\" points=\"1118.87,-72.9895 1127.87,-67.3976 1117.35,-66.1572 1118.87,-72.9895\" stroke=\"black\"/>\n",
       "<text font-family=\"Times New Roman,serif\" font-size=\"14.00\" text-anchor=\"middle\" x=\"1096\" y=\"-80.8\">A, C</text>\n",
       "</g>\n",
       "<!-- 6&#45;&gt;3 -->\n",
       "<g class=\"edge\" id=\"edge9\"><title>6-&gt;3</title>\n",
       "<path d=\"M496.198,-27.9691C531.035,-29.5915 580.614,-32.0928 624,-35 641.018,-36.1404 658.979,-37.471 676.609,-38.8498\" fill=\"none\" stroke=\"black\"/>\n",
       "<polygon fill=\"black\" points=\"676.696,-42.3675 686.941,-39.6661 677.248,-35.3893 676.696,-42.3675\" stroke=\"black\"/>\n",
       "<text font-family=\"Times New Roman,serif\" font-size=\"14.00\" text-anchor=\"middle\" x=\"569\" y=\"-38.8\">C</text>\n",
       "</g>\n",
       "<!-- 9 -->\n",
       "<g class=\"node\" id=\"node9\"><title>9</title>\n",
       "<polygon fill=\"none\" points=\"1366,-74 1312,-74 1312,-38 1366,-38 1366,-74\" stroke=\"black\"/>\n",
       "<text font-family=\"Times New Roman,serif\" font-size=\"14.00\" text-anchor=\"middle\" x=\"1339\" y=\"-52.3\">9</text>\n",
       "</g>\n",
       "<!-- 7&#45;&gt;9 -->\n",
       "<g class=\"edge\" id=\"edge10\"><title>7-&gt;9</title>\n",
       "<path d=\"M1232.41,-56C1254.95,-56 1280.89,-56 1301.42,-56\" fill=\"none\" stroke=\"black\"/>\n",
       "<polygon fill=\"black\" points=\"1301.61,-59.5001 1311.61,-56 1301.61,-52.5001 1301.61,-59.5001\" stroke=\"black\"/>\n",
       "<text font-family=\"Times New Roman,serif\" font-size=\"14.00\" text-anchor=\"middle\" x=\"1272\" y=\"-59.8\">A, B, C</text>\n",
       "</g>\n",
       "<!-- 8 -->\n",
       "<g class=\"node\" id=\"node8\"><title>8</title>\n",
       "<polygon fill=\"none\" points=\"54,-90 0,-90 0,-54 54,-54 54,-90\" stroke=\"black\"/>\n",
       "<text font-family=\"Times New Roman,serif\" font-size=\"14.00\" text-anchor=\"middle\" x=\"27\" y=\"-68.3\">8</text>\n",
       "</g>\n",
       "<!-- 8&#45;&gt;4 -->\n",
       "<g class=\"edge\" id=\"edge11\"><title>8-&gt;4</title>\n",
       "<path d=\"M54.0079,-72C72.9676,-72 99.476,-72 123.729,-72\" fill=\"none\" stroke=\"black\"/>\n",
       "<polygon fill=\"black\" points=\"123.956,-75.5001 133.956,-72 123.956,-68.5001 123.956,-75.5001\" stroke=\"black\"/>\n",
       "<text font-family=\"Times New Roman,serif\" font-size=\"14.00\" text-anchor=\"middle\" x=\"94\" y=\"-75.8\">A, B, C</text>\n",
       "</g>\n",
       "</g>\n",
       "</svg>"
      ],
      "text/plain": [
       "<IPython.core.display.SVG object>"
      ]
     },
     "metadata": {},
     "output_type": "display_data"
    }
   ],
   "source": [
    "graph = collate( collation, output=\"svg\", segmentation=True )"
   ]
  },
  {
   "cell_type": "markdown",
   "metadata": {},
   "source": [
    "Okay, that's all good and nice, but that's just tiny fragments—we want decent chunks of text to collate! Well, we can do that too, although is requires a little more work. Specifically for reading in text files from the file system. If we didn't do it that way, we would have to key in all characters of each witness, and that's just a lot of unnecessary work if we have done those texts already in a file. The below code uses the `open` command to open each text file and appoint the contents to a variable with an appropriately chosen name.\n",
    "\n",
    "The `encoding=\"utf-8\"` bit is needed because you should always tell Python which encoding your data uses. This is probably the only place and time where you will use that encoding directive: when you open a (text) file."
   ]
  },
  {
   "cell_type": "code",
   "execution_count": 10,
   "metadata": {
    "collapsed": false
   },
   "outputs": [
    {
     "ename": "FileNotFoundError",
     "evalue": "[Errno 2] No such file or directory: './fixtures/Darwin/txt/darwin1859_par1.txt'",
     "output_type": "error",
     "traceback": [
      "\u001b[0;31m---------------------------------------------------------------------------\u001b[0m",
      "\u001b[0;31mFileNotFoundError\u001b[0m                         Traceback (most recent call last)",
      "\u001b[0;32m<ipython-input-10-47d150570756>\u001b[0m in \u001b[0;36m<module>\u001b[0;34m()\u001b[0m\n\u001b[1;32m      1\u001b[0m \u001b[0mcollation\u001b[0m \u001b[0;34m=\u001b[0m \u001b[0mCollation\u001b[0m\u001b[0;34m(\u001b[0m\u001b[0;34m)\u001b[0m\u001b[0;34m\u001b[0m\u001b[0m\n\u001b[0;32m----> 2\u001b[0;31m \u001b[0mwitness_1859\u001b[0m \u001b[0;34m=\u001b[0m \u001b[0mopen\u001b[0m\u001b[0;34m(\u001b[0m \u001b[0;34m\"./fixtures/Darwin/txt/darwin1859_par1.txt\"\u001b[0m\u001b[0;34m,\u001b[0m \u001b[0mencoding\u001b[0m\u001b[0;34m=\u001b[0m\u001b[0;34m'utf-8'\u001b[0m \u001b[0;34m)\u001b[0m\u001b[0;34m.\u001b[0m\u001b[0mread\u001b[0m\u001b[0;34m(\u001b[0m\u001b[0;34m)\u001b[0m\u001b[0;34m\u001b[0m\u001b[0m\n\u001b[0m\u001b[1;32m      3\u001b[0m \u001b[0mwitness_1860\u001b[0m \u001b[0;34m=\u001b[0m \u001b[0mopen\u001b[0m\u001b[0;34m(\u001b[0m \u001b[0;34m\"./fixtures/Darwin/txt/darwin1860_par1.txt\"\u001b[0m\u001b[0;34m,\u001b[0m \u001b[0mencoding\u001b[0m\u001b[0;34m=\u001b[0m\u001b[0;34m'utf-8'\u001b[0m \u001b[0;34m)\u001b[0m\u001b[0;34m.\u001b[0m\u001b[0mread\u001b[0m\u001b[0;34m(\u001b[0m\u001b[0;34m)\u001b[0m\u001b[0;34m\u001b[0m\u001b[0m\n\u001b[1;32m      4\u001b[0m \u001b[0mwitness_1861\u001b[0m \u001b[0;34m=\u001b[0m \u001b[0mopen\u001b[0m\u001b[0;34m(\u001b[0m \u001b[0;34m\"./fixtures/Darwin/txt/darwin1861_par1.txt\"\u001b[0m\u001b[0;34m,\u001b[0m \u001b[0mencoding\u001b[0m\u001b[0;34m=\u001b[0m\u001b[0;34m'utf-8'\u001b[0m \u001b[0;34m)\u001b[0m\u001b[0;34m.\u001b[0m\u001b[0mread\u001b[0m\u001b[0;34m(\u001b[0m\u001b[0;34m)\u001b[0m\u001b[0;34m\u001b[0m\u001b[0m\n\u001b[1;32m      5\u001b[0m \u001b[0mwitness_1866\u001b[0m \u001b[0;34m=\u001b[0m \u001b[0mopen\u001b[0m\u001b[0;34m(\u001b[0m \u001b[0;34m\"./fixtures/Darwin/txt/darwin1866_par1.txt\"\u001b[0m\u001b[0;34m,\u001b[0m \u001b[0mencoding\u001b[0m\u001b[0;34m=\u001b[0m\u001b[0;34m'utf-8'\u001b[0m \u001b[0;34m)\u001b[0m\u001b[0;34m.\u001b[0m\u001b[0mread\u001b[0m\u001b[0;34m(\u001b[0m\u001b[0;34m)\u001b[0m\u001b[0;34m\u001b[0m\u001b[0m\n",
      "\u001b[0;31mFileNotFoundError\u001b[0m: [Errno 2] No such file or directory: './fixtures/Darwin/txt/darwin1859_par1.txt'"
     ]
    }
   ],
   "source": [
    "collation = Collation()\n",
    "witness_1859 = open( \"./fixtures/Darwin/txt/darwin1859_par1.txt\", encoding='utf-8' ).read()\n",
    "witness_1860 = open( \"./fixtures/Darwin/txt/darwin1860_par1.txt\", encoding='utf-8' ).read()\n",
    "witness_1861 = open( \"./fixtures/Darwin/txt/darwin1861_par1.txt\", encoding='utf-8' ).read()\n",
    "witness_1866 = open( \"./fixtures/Darwin/txt/darwin1866_par1.txt\", encoding='utf-8' ).read()\n",
    "witness_1869 = open( \"./fixtures/Darwin/txt/darwin1869_par1.txt\", encoding='utf-8' ).read()\n",
    "witness_1872 = open( \"./fixtures/Darwin/txt/darwin1872_par1.txt\", encoding='utf-8' ).read()\n",
    "collation.add_plain_witness( \"1859\", witness_1859 )\n",
    "collation.add_plain_witness( \"1860\", witness_1860 )\n",
    "collation.add_plain_witness( \"1861\", witness_1861 )\n",
    "collation.add_plain_witness( \"1866\", witness_1866 )\n",
    "collation.add_plain_witness( \"1869\", witness_1869 )\n",
    "collation.add_plain_witness( \"1872\", witness_1872 )"
   ]
  },
  {
   "cell_type": "markdown",
   "metadata": {},
   "source": [
    "Now let's check if these witnesses actually contain some text."
   ]
  },
  {
   "cell_type": "code",
   "execution_count": null,
   "metadata": {
    "collapsed": false
   },
   "outputs": [],
   "source": [
    "print( witness_1859 )"
   ]
  },
  {
   "cell_type": "code",
   "execution_count": null,
   "metadata": {
    "collapsed": false
   },
   "outputs": [],
   "source": [
    "print( witness_1860 )"
   ]
  },
  {
   "cell_type": "markdown",
   "metadata": {},
   "source": [
    "And now let's collate those witnesses and let's put the result up as an HTML-formatted alignment table…"
   ]
  },
  {
   "cell_type": "code",
   "execution_count": null,
   "metadata": {
    "collapsed": false
   },
   "outputs": [],
   "source": [
    "alignment_table = collate(collation, layout='vertical', output='html')"
   ]
  },
  {
   "cell_type": "markdown",
   "metadata": {},
   "source": [
    "Hmm… but that's still a little hard to read. Wouldn't it be nice if we got a hint where the actual differences are? Sure, try…"
   ]
  },
  {
   "cell_type": "code",
   "execution_count": null,
   "metadata": {
    "collapsed": false
   },
   "outputs": [],
   "source": [
    "alignment_table = collate(collation, layout='vertical', output='html2')"
   ]
  },
  {
   "cell_type": "markdown",
   "metadata": {},
   "source": [
    "And finally, we can also generate the variant graph for this collation…"
   ]
  },
  {
   "cell_type": "code",
   "execution_count": null,
   "metadata": {
    "collapsed": false,
    "scrolled": true
   },
   "outputs": [],
   "source": [
    "graph = collate( collation, output=\"svg\" )"
   ]
  },
  {
   "cell_type": "code",
   "execution_count": null,
   "metadata": {
    "collapsed": true
   },
   "outputs": [],
   "source": []
  }
 ],
 "metadata": {
  "kernelspec": {
   "display_name": "Python 3",
   "language": "python",
   "name": "python3"
  },
  "language_info": {
   "codemirror_mode": {
    "name": "ipython",
    "version": 3
   },
   "file_extension": ".py",
   "mimetype": "text/x-python",
   "name": "python",
   "nbconvert_exporter": "python",
   "pygments_lexer": "ipython3",
   "version": "3.4.3"
  }
 },
 "nbformat": 4,
 "nbformat_minor": 0
}
