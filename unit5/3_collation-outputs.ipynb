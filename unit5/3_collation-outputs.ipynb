{
 "cells": [
  {
   "cell_type": "markdown",
   "metadata": {},
   "source": [
    "# Collation outputs\n",
    "\n",
    "In this tutorial we will be trying different outputs for our collation, meaning different graphical representations, format and visualizations of the result.\n",
    "\n",
    "The visualization of the collation result is an open discussion: several possibilities have been suggested and used and new ones are proposed. When the output is print, it is rare to see something different from the traditional critical apparatus. Since the output became digital, collation tool tend to offer more than one visualization. This is the case, nowadays, for Juxta and CollateX. The different visualizations are not concurrent; on the contrary, they can be complementary, highlighting different aspects of the result and suitable for different users and moments of the workflow.\n",
    "\n",
    "The importance of the output of the collation result can be summarized in a sentence written by one of the pioneer of automatic collation: \"As I look back, our method of precedure was interesting. It is not as difficult to compare texts by computer as it is to record the results of the comparison in a way that will be easy and unambiguous to read. My desires as to the print-out determined how Mr. Bland [the programmer] chose to do the comparison\" (Dearing 1970, p. 257).\n",
    "\n",
    "In the previous tutorials we met the alignment table and the graph. The alignment table, in use since the 60's, is the equivalent of the matrix of bioinformatic for sequence alignment (for example, strings of DNA). The graph is meant to represent the fluidity of the text and its variation: you can refer to [this video](https://vimeo.com/114242362), for a presentation on *Apparatus vs. Graph – an Interface as Scholarly Argument* by Tara Andrews and Joris van Zundert.\n",
    "Other outputs, as the histogram and the side-by-side visualization offered by Juxta, allows to visualize the result of the comparison between two witnesses only. This reflects the way the algorithm is built and shows that a graphical representation is connected with the approach to collation that informs the software.\n",
    "\n",
    "CollateX has two main ways to conceive the collation result: as a **table** and as a **graph**. Each of them can be exported in different formats:\n",
    "- the table, in\n",
    "    - plain text table (no need to specify the output)\n",
    "    - HTML table (output='**html**')\n",
    "    - HTML vertical table with colors (output='**html2**')\n",
    "    - JSON (output='**json**')\n",
    "    - XML (output='**xml**')\n",
    "    - XML/TEI (output='**tei**')\n",
    "- the graph, in\n",
    "    - SVG (output='**svg**')"
   ]
  },
  {
   "cell_type": "markdown",
   "metadata": {},
   "source": [
    "## In practice\n",
    "\n",
    "We will use the notebook to produce some of these outputs, while we will create separate python scripts for others.\n",
    "\n",
    "### Table and graph: HTML and SVG in the notebook\n",
    "\n",
    "Let's start creating 'html2' and 'svg' outputs in the notebook. Even if we have already encountered these outputs, it is worth going through them one other time and focus on the last part of our code. \n",
    "\n",
    "In this tutorial we will use some simple texts already used in the previous tutorial: the *fox and dog* example."
   ]
  },
  {
   "cell_type": "code",
   "execution_count": 11,
   "metadata": {
    "collapsed": true
   },
   "outputs": [],
   "source": [
    "from collatex import *\n",
    "collation = Collation()\n",
    "collation.add_plain_witness( \"A\", \"The quick brown fox jumped over the lazy dog.\")\n",
    "collation.add_plain_witness( \"B\", \"The brown fox jumped over the dog.\" )\n",
    "collation.add_plain_witness( \"C\", \"The bad fox jumped over the lazy dog.\" )"
   ]
  },
  {
   "cell_type": "markdown",
   "metadata": {},
   "source": [
    "Now we are ready to specify the desired output. \n",
    "\n",
    "Let's start with a table, exported in HTML format, displayed vertically with nice colors (note that you can name this object anyway you like, but as a convention we call it *alignment_table* or *table* and *graph*):"
   ]
  },
  {
   "cell_type": "code",
   "execution_count": 12,
   "metadata": {
    "collapsed": false
   },
   "outputs": [
    {
     "data": {
      "text/html": [
       "<TABLE border=\"1\" cellpadding=\"4\" style=\"border: 1px solid #000000; border-collapse: collapse;\">\n",
       " <TR>\n",
       "  <TH>A</TH>\n",
       "  <TH>B</TH>\n",
       "  <TH>C</TH>\n",
       " </TR>\n",
       " <TR>\n",
       "  <TD bgcolor=\"00FF00\">The</TD>\n",
       "  <TD bgcolor=\"00FF00\">The</TD>\n",
       "  <TD bgcolor=\"00FF00\">The</TD>\n",
       " </TR>\n",
       " <TR>\n",
       "  <TD bgcolor=\"FF0000\">quick</TD>\n",
       "  <TD bgcolor=\"FF0000\">-</TD>\n",
       "  <TD bgcolor=\"FF0000\">bad</TD>\n",
       " </TR>\n",
       " <TR>\n",
       "  <TD bgcolor=\"FF0000\">brown</TD>\n",
       "  <TD bgcolor=\"FF0000\">brown</TD>\n",
       "  <TD bgcolor=\"FF0000\">-</TD>\n",
       " </TR>\n",
       " <TR>\n",
       "  <TD bgcolor=\"00FF00\">fox jumped over the</TD>\n",
       "  <TD bgcolor=\"00FF00\">fox jumped over the</TD>\n",
       "  <TD bgcolor=\"00FF00\">fox jumped over the</TD>\n",
       " </TR>\n",
       " <TR>\n",
       "  <TD bgcolor=\"FF0000\">lazy</TD>\n",
       "  <TD bgcolor=\"FF0000\">-</TD>\n",
       "  <TD bgcolor=\"FF0000\">lazy</TD>\n",
       " </TR>\n",
       " <TR>\n",
       "  <TD bgcolor=\"00FF00\">dog.</TD>\n",
       "  <TD bgcolor=\"00FF00\">dog.</TD>\n",
       "  <TD bgcolor=\"00FF00\">dog.</TD>\n",
       " </TR>\n",
       "</TABLE>"
      ],
      "text/plain": [
       "<IPython.core.display.HTML object>"
      ]
     },
     "metadata": {},
     "output_type": "display_data"
    }
   ],
   "source": [
    "table = collate(collation, output='html2')"
   ]
  },
  {
   "cell_type": "markdown",
   "metadata": {},
   "source": [
    "Then try with the graph, exported in the SVG format:"
   ]
  },
  {
   "cell_type": "code",
   "execution_count": 13,
   "metadata": {
    "collapsed": false
   },
   "outputs": [
    {
     "data": {
      "image/svg+xml": [
       "<svg height=\"188pt\" viewBox=\"0.00 0.00 1374.00 188.00\" width=\"1374pt\" xmlns=\"http://www.w3.org/2000/svg\" xmlns:xlink=\"http://www.w3.org/1999/xlink\">\n",
       "<g class=\"graph\" id=\"graph0\" transform=\"scale(1 1) rotate(0) translate(4 184)\">\n",
       "<title>%3</title>\n",
       "<polygon fill=\"white\" points=\"-4,4 -4,-184 1370,-184 1370,4 -4,4\" stroke=\"none\"/>\n",
       "<!-- 1 -->\n",
       "<g class=\"node\" id=\"node1\"><title>1</title>\n",
       "<polygon fill=\"none\" points=\"387,-180 285,-180 285,-128 387,-128 387,-180\" stroke=\"black\"/>\n",
       "<polygon fill=\"none\" points=\"294,-154 294,-175 341,-175 341,-154 294,-154\" stroke=\"black\"/>\n",
       "<text font-family=\"Times New Roman,serif\" font-size=\"14.00\" font-weight=\"bold\" text-anchor=\"start\" x=\"297\" y=\"-161.8\">quick</text>\n",
       "<polygon fill=\"none\" points=\"341,-154 341,-175 378,-175 378,-154 341,-154\" stroke=\"black\"/>\n",
       "<text font-family=\"Times New Roman,serif\" font-size=\"14.00\" font-weight=\"bold\" text-anchor=\"start\" x=\"344\" y=\"-161.8\">Sigla</text>\n",
       "<polygon fill=\"none\" points=\"294,-133 294,-154 341,-154 341,-133 294,-133\" stroke=\"black\"/>\n",
       "<text font-family=\"Bukyvede\" font-size=\"14.00\" text-anchor=\"start\" x=\"297\" y=\"-139.8\">quick </text>\n",
       "<polygon fill=\"none\" points=\"341,-133 341,-154 378,-154 378,-133 341,-133\" stroke=\"black\"/>\n",
       "<text font-family=\"Times New Roman,serif\" font-size=\"14.00\" text-anchor=\"start\" x=\"344\" y=\"-139.8\">A</text>\n",
       "<polygon fill=\"none\" points=\"293,-132 293,-176 379,-176 379,-132 293,-132\" stroke=\"black\"/>\n",
       "</g>\n",
       "<!-- 3 -->\n",
       "<g class=\"node\" id=\"node3\"><title>3</title>\n",
       "<polygon fill=\"none\" points=\"624,-134 514,-134 514,-82 624,-82 624,-134\" stroke=\"black\"/>\n",
       "<polygon fill=\"none\" points=\"523,-108 523,-129 578,-129 578,-108 523,-108\" stroke=\"black\"/>\n",
       "<text font-family=\"Times New Roman,serif\" font-size=\"14.00\" font-weight=\"bold\" text-anchor=\"start\" x=\"526\" y=\"-115.8\">brown</text>\n",
       "<polygon fill=\"none\" points=\"578,-108 578,-129 615,-129 615,-108 578,-108\" stroke=\"black\"/>\n",
       "<text font-family=\"Times New Roman,serif\" font-size=\"14.00\" font-weight=\"bold\" text-anchor=\"start\" x=\"581\" y=\"-115.8\">Sigla</text>\n",
       "<polygon fill=\"none\" points=\"523,-87 523,-108 578,-108 578,-87 523,-87\" stroke=\"black\"/>\n",
       "<text font-family=\"Bukyvede\" font-size=\"14.00\" text-anchor=\"start\" x=\"526\" y=\"-93.8\">brown </text>\n",
       "<polygon fill=\"none\" points=\"578,-87 578,-108 615,-108 615,-87 578,-87\" stroke=\"black\"/>\n",
       "<text font-family=\"Times New Roman,serif\" font-size=\"14.00\" text-anchor=\"start\" x=\"581\" y=\"-93.8\">A, B</text>\n",
       "<polygon fill=\"none\" points=\"522,-86 522,-130 616,-130 616,-86 522,-86\" stroke=\"black\"/>\n",
       "</g>\n",
       "<!-- 1&#45;&gt;3 -->\n",
       "<g class=\"edge\" id=\"edge1\"><title>1-&gt;3</title>\n",
       "<path d=\"M387.124,-144.019C421.327,-137.208 466.936,-128.125 503.798,-120.785\" fill=\"none\" stroke=\"black\"/>\n",
       "<polygon fill=\"black\" points=\"504.822,-124.15 513.946,-118.764 503.455,-117.285 504.822,-124.15\" stroke=\"black\"/>\n",
       "<text font-family=\"Times New Roman,serif\" font-size=\"14.00\" text-anchor=\"middle\" x=\"450.5\" y=\"-143.8\">A</text>\n",
       "</g>\n",
       "<!-- 2 -->\n",
       "<g class=\"node\" id=\"node2\"><title>2</title>\n",
       "<polygon fill=\"none\" points=\"905,-98 687,-98 687,-46 905,-46 905,-98\" stroke=\"black\"/>\n",
       "<polygon fill=\"none\" points=\"696,-72 696,-93 846,-93 846,-72 696,-72\" stroke=\"black\"/>\n",
       "<text font-family=\"Times New Roman,serif\" font-size=\"14.00\" font-weight=\"bold\" text-anchor=\"start\" x=\"699\" y=\"-79.8\">fox jumped over the</text>\n",
       "<polygon fill=\"none\" points=\"846,-72 846,-93 896,-93 896,-72 846,-72\" stroke=\"black\"/>\n",
       "<text font-family=\"Times New Roman,serif\" font-size=\"14.00\" font-weight=\"bold\" text-anchor=\"start\" x=\"849\" y=\"-79.8\">Sigla</text>\n",
       "<polygon fill=\"none\" points=\"696,-51 696,-72 846,-72 846,-51 696,-51\" stroke=\"black\"/>\n",
       "<text font-family=\"Bukyvede\" font-size=\"14.00\" text-anchor=\"start\" x=\"699\" y=\"-57.8\">fox jumped over the </text>\n",
       "<polygon fill=\"none\" points=\"846,-51 846,-72 896,-72 896,-51 846,-51\" stroke=\"black\"/>\n",
       "<text font-family=\"Times New Roman,serif\" font-size=\"14.00\" text-anchor=\"start\" x=\"849\" y=\"-57.8\">A, B, C</text>\n",
       "<polygon fill=\"none\" points=\"695,-50 695,-94 897,-94 897,-50 695,-50\" stroke=\"black\"/>\n",
       "</g>\n",
       "<!-- 8 -->\n",
       "<g class=\"node\" id=\"node8\"><title>8</title>\n",
       "<polygon fill=\"none\" points=\"1232,-91 1128,-91 1128,-39 1232,-39 1232,-91\" stroke=\"black\"/>\n",
       "<polygon fill=\"none\" points=\"1137,-65 1137,-86 1173,-86 1173,-65 1137,-65\" stroke=\"black\"/>\n",
       "<text font-family=\"Times New Roman,serif\" font-size=\"14.00\" font-weight=\"bold\" text-anchor=\"start\" x=\"1140\" y=\"-72.8\">dog.</text>\n",
       "<polygon fill=\"none\" points=\"1173,-65 1173,-86 1223,-86 1223,-65 1173,-65\" stroke=\"black\"/>\n",
       "<text font-family=\"Times New Roman,serif\" font-size=\"14.00\" font-weight=\"bold\" text-anchor=\"start\" x=\"1176\" y=\"-72.8\">Sigla</text>\n",
       "<polygon fill=\"none\" points=\"1137,-44 1137,-65 1173,-65 1173,-44 1137,-44\" stroke=\"black\"/>\n",
       "<text font-family=\"Bukyvede\" font-size=\"14.00\" text-anchor=\"start\" x=\"1140\" y=\"-50.8\">dog.</text>\n",
       "<polygon fill=\"none\" points=\"1173,-44 1173,-65 1223,-65 1223,-44 1173,-44\" stroke=\"black\"/>\n",
       "<text font-family=\"Times New Roman,serif\" font-size=\"14.00\" text-anchor=\"start\" x=\"1176\" y=\"-50.8\">A, B, C</text>\n",
       "<polygon fill=\"none\" points=\"1136,-43 1136,-87 1224,-87 1224,-43 1136,-43\" stroke=\"black\"/>\n",
       "</g>\n",
       "<!-- 2&#45;&gt;8 -->\n",
       "<g class=\"edge\" id=\"edge2\"><title>2-&gt;8</title>\n",
       "<path d=\"M905.287,-70.6166C965.561,-69.7595 1041.95,-68.5298 1110,-67 1112.52,-66.9434 1115.08,-66.8827 1117.68,-66.8189\" fill=\"none\" stroke=\"black\"/>\n",
       "<polygon fill=\"black\" points=\"1117.85,-70.3156 1127.76,-66.5594 1117.67,-63.318 1117.85,-70.3156\" stroke=\"black\"/>\n",
       "<text font-family=\"Times New Roman,serif\" font-size=\"14.00\" text-anchor=\"middle\" x=\"1016.5\" y=\"-73.8\">B</text>\n",
       "</g>\n",
       "<!-- 9 -->\n",
       "<g class=\"node\" id=\"node9\"><title>9</title>\n",
       "<polygon fill=\"none\" points=\"1064,-52 969,-52 969,-0 1064,-0 1064,-52\" stroke=\"black\"/>\n",
       "<polygon fill=\"none\" points=\"978.5,-26 978.5,-47 1018.5,-47 1018.5,-26 978.5,-26\" stroke=\"black\"/>\n",
       "<text font-family=\"Times New Roman,serif\" font-size=\"14.00\" font-weight=\"bold\" text-anchor=\"start\" x=\"981.5\" y=\"-33.8\">lazy</text>\n",
       "<polygon fill=\"none\" points=\"1018.5,-26 1018.5,-47 1055.5,-47 1055.5,-26 1018.5,-26\" stroke=\"black\"/>\n",
       "<text font-family=\"Times New Roman,serif\" font-size=\"14.00\" font-weight=\"bold\" text-anchor=\"start\" x=\"1021.5\" y=\"-33.8\">Sigla</text>\n",
       "<polygon fill=\"none\" points=\"978.5,-5 978.5,-26 1018.5,-26 1018.5,-5 978.5,-5\" stroke=\"black\"/>\n",
       "<text font-family=\"Bukyvede\" font-size=\"14.00\" text-anchor=\"start\" x=\"981.5\" y=\"-11.8\">lazy </text>\n",
       "<polygon fill=\"none\" points=\"1018.5,-5 1018.5,-26 1055.5,-26 1055.5,-5 1018.5,-5\" stroke=\"black\"/>\n",
       "<text font-family=\"Times New Roman,serif\" font-size=\"14.00\" text-anchor=\"start\" x=\"1021.5\" y=\"-11.8\">A, C</text>\n",
       "<polygon fill=\"none\" points=\"977,-4 977,-48 1056,-48 1056,-4 977,-4\" stroke=\"black\"/>\n",
       "</g>\n",
       "<!-- 2&#45;&gt;9 -->\n",
       "<g class=\"edge\" id=\"edge3\"><title>2-&gt;9</title>\n",
       "<path d=\"M905.29,-49.2021C923.863,-45.292 942.473,-41.3741 958.973,-37.9004\" fill=\"none\" stroke=\"black\"/>\n",
       "<polygon fill=\"black\" points=\"959.89,-41.2842 968.954,-35.7991 958.448,-34.4343 959.89,-41.2842\" stroke=\"black\"/>\n",
       "<text font-family=\"Times New Roman,serif\" font-size=\"14.00\" text-anchor=\"middle\" x=\"937\" y=\"-48.8\">A, C</text>\n",
       "</g>\n",
       "<!-- 3&#45;&gt;2 -->\n",
       "<g class=\"edge\" id=\"edge4\"><title>3-&gt;2</title>\n",
       "<path d=\"M624.179,-99.3313C640.162,-96.7741 658.315,-93.8696 676.676,-90.9319\" fill=\"none\" stroke=\"black\"/>\n",
       "<polygon fill=\"black\" points=\"677.262,-94.3826 686.584,-89.3466 676.156,-87.4706 677.262,-94.3826\" stroke=\"black\"/>\n",
       "<text font-family=\"Times New Roman,serif\" font-size=\"14.00\" text-anchor=\"middle\" x=\"655.5\" y=\"-99.8\">A, B</text>\n",
       "</g>\n",
       "<!-- 4 -->\n",
       "<g class=\"node\" id=\"node4\"><title>4</title>\n",
       "<polygon fill=\"none\" points=\"54,-113 0,-113 0,-77 54,-77 54,-113\" stroke=\"black\"/>\n",
       "<text font-family=\"Times New Roman,serif\" font-size=\"14.00\" text-anchor=\"middle\" x=\"27\" y=\"-91.3\">4</text>\n",
       "</g>\n",
       "<!-- 6 -->\n",
       "<g class=\"node\" id=\"node6\"><title>6</title>\n",
       "<polygon fill=\"none\" points=\"239,-121 134,-121 134,-69 239,-69 239,-121\" stroke=\"black\"/>\n",
       "<polygon fill=\"none\" points=\"143.5,-95 143.5,-116 180.5,-116 180.5,-95 143.5,-95\" stroke=\"black\"/>\n",
       "<text font-family=\"Times New Roman,serif\" font-size=\"14.00\" font-weight=\"bold\" text-anchor=\"start\" x=\"146.5\" y=\"-102.8\">The</text>\n",
       "<polygon fill=\"none\" points=\"180.5,-95 180.5,-116 230.5,-116 230.5,-95 180.5,-95\" stroke=\"black\"/>\n",
       "<text font-family=\"Times New Roman,serif\" font-size=\"14.00\" font-weight=\"bold\" text-anchor=\"start\" x=\"183.5\" y=\"-102.8\">Sigla</text>\n",
       "<polygon fill=\"none\" points=\"143.5,-74 143.5,-95 180.5,-95 180.5,-74 143.5,-74\" stroke=\"black\"/>\n",
       "<text font-family=\"Bukyvede\" font-size=\"14.00\" text-anchor=\"start\" x=\"146.5\" y=\"-80.8\">The </text>\n",
       "<polygon fill=\"none\" points=\"180.5,-74 180.5,-95 230.5,-95 230.5,-74 180.5,-74\" stroke=\"black\"/>\n",
       "<text font-family=\"Times New Roman,serif\" font-size=\"14.00\" text-anchor=\"start\" x=\"183.5\" y=\"-80.8\">A, B, C</text>\n",
       "<polygon fill=\"none\" points=\"142,-73 142,-117 231,-117 231,-73 142,-73\" stroke=\"black\"/>\n",
       "</g>\n",
       "<!-- 4&#45;&gt;6 -->\n",
       "<g class=\"edge\" id=\"edge5\"><title>4-&gt;6</title>\n",
       "<path d=\"M54.0079,-95C72.9676,-95 99.476,-95 123.729,-95\" fill=\"none\" stroke=\"black\"/>\n",
       "<polygon fill=\"black\" points=\"123.956,-98.5001 133.956,-95 123.956,-91.5001 123.956,-98.5001\" stroke=\"black\"/>\n",
       "<text font-family=\"Times New Roman,serif\" font-size=\"14.00\" text-anchor=\"middle\" x=\"94\" y=\"-98.8\">A, B, C</text>\n",
       "</g>\n",
       "<!-- 5 -->\n",
       "<g class=\"node\" id=\"node5\"><title>5</title>\n",
       "<polygon fill=\"none\" points=\"496,-75 405,-75 405,-23 496,-23 496,-75\" stroke=\"black\"/>\n",
       "<polygon fill=\"none\" points=\"414.5,-49 414.5,-70 450.5,-70 450.5,-49 414.5,-49\" stroke=\"black\"/>\n",
       "<text font-family=\"Times New Roman,serif\" font-size=\"14.00\" font-weight=\"bold\" text-anchor=\"start\" x=\"417.5\" y=\"-56.8\">bad</text>\n",
       "<polygon fill=\"none\" points=\"450.5,-49 450.5,-70 487.5,-70 487.5,-49 450.5,-49\" stroke=\"black\"/>\n",
       "<text font-family=\"Times New Roman,serif\" font-size=\"14.00\" font-weight=\"bold\" text-anchor=\"start\" x=\"453.5\" y=\"-56.8\">Sigla</text>\n",
       "<polygon fill=\"none\" points=\"414.5,-28 414.5,-49 450.5,-49 450.5,-28 414.5,-28\" stroke=\"black\"/>\n",
       "<text font-family=\"Bukyvede\" font-size=\"14.00\" text-anchor=\"start\" x=\"417.5\" y=\"-34.8\">bad </text>\n",
       "<polygon fill=\"none\" points=\"450.5,-28 450.5,-49 487.5,-49 487.5,-28 450.5,-28\" stroke=\"black\"/>\n",
       "<text font-family=\"Times New Roman,serif\" font-size=\"14.00\" text-anchor=\"start\" x=\"453.5\" y=\"-34.8\">C</text>\n",
       "<polygon fill=\"none\" points=\"413,-27 413,-71 488,-71 488,-27 413,-27\" stroke=\"black\"/>\n",
       "</g>\n",
       "<!-- 5&#45;&gt;2 -->\n",
       "<g class=\"edge\" id=\"edge6\"><title>5-&gt;2</title>\n",
       "<path d=\"M496.198,-50.9691C531.035,-52.5915 580.614,-55.0928 624,-58 641.018,-59.1404 658.979,-60.471 676.609,-61.8498\" fill=\"none\" stroke=\"black\"/>\n",
       "<polygon fill=\"black\" points=\"676.696,-65.3675 686.941,-62.6661 677.248,-58.3893 676.696,-65.3675\" stroke=\"black\"/>\n",
       "<text font-family=\"Times New Roman,serif\" font-size=\"14.00\" text-anchor=\"middle\" x=\"569\" y=\"-61.8\">C</text>\n",
       "</g>\n",
       "<!-- 6&#45;&gt;1 -->\n",
       "<g class=\"edge\" id=\"edge9\"><title>6-&gt;1</title>\n",
       "<path d=\"M239.088,-115.635C250.757,-120.303 263.241,-125.296 275.215,-130.086\" fill=\"none\" stroke=\"black\"/>\n",
       "<polygon fill=\"black\" points=\"274.099,-133.409 284.684,-133.873 276.699,-126.91 274.099,-133.409\" stroke=\"black\"/>\n",
       "<text font-family=\"Times New Roman,serif\" font-size=\"14.00\" text-anchor=\"middle\" x=\"262\" y=\"-129.8\">A</text>\n",
       "</g>\n",
       "<!-- 6&#45;&gt;3 -->\n",
       "<g class=\"edge\" id=\"edge8\"><title>6-&gt;3</title>\n",
       "<path d=\"M239.212,-96.7668C307.912,-99.1139 429.251,-103.26 503.752,-105.805\" fill=\"none\" stroke=\"black\"/>\n",
       "<polygon fill=\"black\" points=\"503.829,-109.31 513.943,-106.153 504.068,-102.314 503.829,-109.31\" stroke=\"black\"/>\n",
       "<text font-family=\"Times New Roman,serif\" font-size=\"14.00\" text-anchor=\"middle\" x=\"336\" y=\"-104.8\">B</text>\n",
       "</g>\n",
       "<!-- 6&#45;&gt;5 -->\n",
       "<g class=\"edge\" id=\"edge7\"><title>6-&gt;5</title>\n",
       "<path d=\"M239.286,-71.3784C245.176,-69.298 251.161,-67.4395 257,-66 302.602,-54.7586 355.894,-50.7281 394.829,-49.3837\" fill=\"none\" stroke=\"black\"/>\n",
       "<polygon fill=\"black\" points=\"395.015,-52.8798 404.907,-49.0844 394.807,-45.8829 395.015,-52.8798\" stroke=\"black\"/>\n",
       "<text font-family=\"Times New Roman,serif\" font-size=\"14.00\" text-anchor=\"middle\" x=\"262\" y=\"-69.8\">C</text>\n",
       "</g>\n",
       "<!-- 7 -->\n",
       "<g class=\"node\" id=\"node7\"><title>7</title>\n",
       "<polygon fill=\"none\" points=\"1366,-83 1312,-83 1312,-47 1366,-47 1366,-83\" stroke=\"black\"/>\n",
       "<text font-family=\"Times New Roman,serif\" font-size=\"14.00\" text-anchor=\"middle\" x=\"1339\" y=\"-61.3\">7</text>\n",
       "</g>\n",
       "<!-- 8&#45;&gt;7 -->\n",
       "<g class=\"edge\" id=\"edge10\"><title>8-&gt;7</title>\n",
       "<path d=\"M1232.41,-65C1254.95,-65 1280.89,-65 1301.42,-65\" fill=\"none\" stroke=\"black\"/>\n",
       "<polygon fill=\"black\" points=\"1301.61,-68.5001 1311.61,-65 1301.61,-61.5001 1301.61,-68.5001\" stroke=\"black\"/>\n",
       "<text font-family=\"Times New Roman,serif\" font-size=\"14.00\" text-anchor=\"middle\" x=\"1272\" y=\"-68.8\">A, B, C</text>\n",
       "</g>\n",
       "<!-- 9&#45;&gt;8 -->\n",
       "<g class=\"edge\" id=\"edge11\"><title>9-&gt;8</title>\n",
       "<path d=\"M1064.21,-37.2804C1081.03,-41.3424 1100.27,-45.9869 1118.12,-50.2978\" fill=\"none\" stroke=\"black\"/>\n",
       "<polygon fill=\"black\" points=\"1117.33,-53.7074 1127.87,-52.6526 1118.97,-46.903 1117.33,-53.7074\" stroke=\"black\"/>\n",
       "<text font-family=\"Times New Roman,serif\" font-size=\"14.00\" text-anchor=\"middle\" x=\"1096\" y=\"-51.8\">A, C</text>\n",
       "</g>\n",
       "</g>\n",
       "</svg>"
      ],
      "text/plain": [
       "<IPython.core.display.SVG object>"
      ]
     },
     "metadata": {},
     "output_type": "display_data"
    }
   ],
   "source": [
    "graph = collate(collation, output='svg')"
   ]
  },
  {
   "cell_type": "markdown",
   "metadata": {},
   "source": [
    "Before moving to the other outputs, try to produce the simple HTML output changing your code above."
   ]
  },
  {
   "cell_type": "markdown",
   "metadata": {},
   "source": [
    "### Table: JSON, XML and TEI in separate scripts\n",
    "\n",
    ".. work in progress ..\n"
   ]
  },
  {
   "cell_type": "markdown",
   "metadata": {},
   "source": [
    "---\n",
    "## Biblio\n",
    "- Dearing, Vinton. 1970. ‘Computer Aids to Editing the Text of Dryden’. In *Art and Error: Modern Textual Editing*, edited by Ronald Gottesman and Scott Bennett, 254–78. Bloomington: Indiana University Press."
   ]
  }
 ],
 "metadata": {
  "kernelspec": {
   "display_name": "Python 3",
   "language": "python",
   "name": "python3"
  },
  "language_info": {
   "codemirror_mode": {
    "name": "ipython",
    "version": 3
   },
   "file_extension": ".py",
   "mimetype": "text/x-python",
   "name": "python",
   "nbconvert_exporter": "python",
   "pygments_lexer": "ipython3",
   "version": "3.4.3"
  }
 },
 "nbformat": 4,
 "nbformat_minor": 0
}
