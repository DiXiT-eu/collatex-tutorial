{
 "cells": [
  {
   "cell_type": "markdown",
   "metadata": {},
   "source": [
    "# Collation outputs\n",
    "\n",
    "\n",
    "- Introduction\n",
    "- In practice\n",
    "    - Table: HTML\n",
    "    - Table: JSON\n",
    "    - Table: XML and XML/TEI\n",
    "    - Graph: SVG\n",
    "- Exercise\n",
    "- What's next\n",
    "- Bibliography\n",
    "\n",
    "---\n",
    "\n",
    "\n",
    "## Introduction\n",
    "\n",
    "In this tutorial we will be trying different outputs for our collation, meaning different graphical representations, formats and visualizations of the result.\n",
    "\n",
    "The visualization of the collation result is an open discussion: several possibilities have been suggested and used and new ones are always being proposed. When the output of the collation is a printed format, such as a book, it is rare to see anything different from the traditional critical apparatus. Now that output formats are more frequently digital (or at least have a digital component), collation tools tend to offer more than one visualization option. This is the case for both Juxta and CollateX. The different visualizations are not incompatible; on the contrary, they can be complementary, highlighting different aspects of the result and suitable for different users or different stages of the workflow.\n",
    "\n",
    "The importance of the output of the collation result can be summarized in a sentence written by one of the pioneers of automatic collation: \"As I look back, our method of precedure was interesting. It is not as difficult to compare texts by computer as it is to record the results of the comparison in a way that will be easy and unambiguous to read. My desires as to the print-out determined how Mr. Bland [the programmer] chose to do the comparison\" (Dearing 1970, p. 257).\n",
    "\n",
    "In the previous tutorials we used the alignment table and the graph. The alignment table, in use since the 1960's, is the equivalent of the matrix of bioinformatic for sequence alignment (for example, strings of DNA). In contrast, the graph is meant to represent the fluidity of the text and its variation: you can refer to [this video](https://vimeo.com/114242362), for a presentation on *Apparatus vs. Graph – an Interface as Scholarly Argument* by Tara Andrews and Joris van Zundert.\n",
    "Other outputs, such as the histogram and the side-by-side visualization offered by Juxta, allow users to visualize the result of the comparison between two witnesses only. This reflects the way the algorithm is built and shows that the graphical representation is connected with the approach to collation that informs the software.\n",
    "\n",
    "CollateX has two main ways to conceive of the collation result: as a **table** (with many different formatting options) and as a **graph**:\n",
    "- table formats\n",
    "    - plain text table (no need to specify the output)\n",
    "    - HTML table (output='**html**')\n",
    "    - HTML vertical table with colors (output='**html2**')\n",
    "    - JSON (output='**json**')\n",
    "    - XML (output='**xml**')\n",
    "    - XML/TEI (output='**tei**')\n",
    "- graph format\n",
    "    - SVG (output='**svg**')"
   ]
  },
  {
   "cell_type": "markdown",
   "metadata": {},
   "source": [
    "## In practice\n",
    "\n",
    "Even though we have already encountered some of these outputs, it is worth going through them one more time focussing on part of the code that needs to change to produce the different formats. \n",
    "\n",
    "### Table: plain text\n",
    "\n",
    "In this tutorial we will use some simple texts already used in the previous tutorial: the *fox and dog* example.\n",
    "\n",
    "Let's start with the most simple output, for which we don't need to specify any output format (note that you can name the variable containing the output anything you like, but in this tutorial we call it *alignment_table*, *table* or *graph*)\n",
    "\n",
    "In the code cell below the lines starting with a hash (#) are comments and are not executed. They are there in this instance to help you remember what the different parts of the code do. You do not need to use them in your notebook (although sometimes it is helpful to add comments to your code so you remember what things do)."
   ]
  },
  {
   "cell_type": "code",
   "execution_count": 40,
   "metadata": {
    "collapsed": false
   },
   "outputs": [
    {
     "name": "stdout",
     "output_type": "stream",
     "text": [
      "+---+-----+-------+-------+---------------------+------+------+\n",
      "| A | The | quick | brown | fox jumped over the | lazy | dog. |\n",
      "| B | The | -     | brown | fox jumped over the | -    | dog. |\n",
      "| C | The | bad   | -     | fox jumped over the | lazy | dog. |\n",
      "+---+-----+-------+-------+---------------------+------+------+\n"
     ]
    }
   ],
   "source": [
    "#import the collatex library\n",
    "from collatex import *\n",
    "#create an instance of the collateX engine\n",
    "collation = Collation()\n",
    "#add witnesses to the collateX instance\n",
    "collation.add_plain_witness( \"A\", \"The quick brown fox jumped over the lazy dog.\")\n",
    "collation.add_plain_witness( \"B\", \"The brown fox jumped over the dog.\" )\n",
    "collation.add_plain_witness( \"C\", \"The bad fox jumped over the lazy dog.\" )\n",
    "#collate the witnesses and store the result in a vaiable called 'table'\n",
    "#as we have not specified an output this will be sored in plain text\n",
    "table = collate(collation)\n",
    "#print the collation result\n",
    "print(table)"
   ]
  },
  {
   "cell_type": "markdown",
   "metadata": {},
   "source": [
    "### Table: HTML\n",
    "\n",
    "Now let's try a different output. This time we still want a table format but instead of it being in plain text we would like it exported in HTML (the markup language used for web pages), and we would like it to be displayed vertically with nice colors to highlight the comparison. To achieve this all you need to do is add the keyword *output* to the *collate* command and give it that value *html2*."
   ]
  },
  {
   "cell_type": "code",
   "execution_count": 41,
   "metadata": {
    "collapsed": false
   },
   "outputs": [
    {
     "data": {
      "text/html": [
       "<TABLE style=\"border: 1px solid #000000; border-collapse: collapse;\" cellpadding=\"4\" border=\"1\">\n",
       " <TR>\n",
       "  <TH>A</TH>\n",
       "  <TH>B</TH>\n",
       "  <TH>C</TH>\n",
       " </TR>\n",
       " <TR>\n",
       "  <TD bgcolor=\"00FF00\">The</TD>\n",
       "  <TD bgcolor=\"00FF00\">The</TD>\n",
       "  <TD bgcolor=\"00FF00\">The</TD>\n",
       " </TR>\n",
       " <TR>\n",
       "  <TD bgcolor=\"FF0000\">quick</TD>\n",
       "  <TD bgcolor=\"FF0000\">-</TD>\n",
       "  <TD bgcolor=\"FF0000\">bad</TD>\n",
       " </TR>\n",
       " <TR>\n",
       "  <TD bgcolor=\"FF0000\">brown</TD>\n",
       "  <TD bgcolor=\"FF0000\">brown</TD>\n",
       "  <TD bgcolor=\"FF0000\">-</TD>\n",
       " </TR>\n",
       " <TR>\n",
       "  <TD bgcolor=\"00FF00\">fox jumped over the</TD>\n",
       "  <TD bgcolor=\"00FF00\">fox jumped over the</TD>\n",
       "  <TD bgcolor=\"00FF00\">fox jumped over the</TD>\n",
       " </TR>\n",
       " <TR>\n",
       "  <TD bgcolor=\"FF0000\">lazy</TD>\n",
       "  <TD bgcolor=\"FF0000\">-</TD>\n",
       "  <TD bgcolor=\"FF0000\">lazy</TD>\n",
       " </TR>\n",
       " <TR>\n",
       "  <TD bgcolor=\"00FF00\">dog.</TD>\n",
       "  <TD bgcolor=\"00FF00\">dog.</TD>\n",
       "  <TD bgcolor=\"00FF00\">dog.</TD>\n",
       " </TR>\n",
       "</TABLE>"
      ],
      "text/plain": [
       "<IPython.core.display.HTML object>"
      ]
     },
     "metadata": {},
     "output_type": "display_data"
    }
   ],
   "source": [
    "table = collate(collation, output='html2')\n",
    "print(table)"
   ]
  },
  {
   "cell_type": "markdown",
   "metadata": {},
   "source": [
    "Before moving to the other outputs, try to produce the simple HTML output by changing the code above. The value required in the *output* keyword should be *html*.\n",
    "\n",
    "### Table: JSON\n",
    "\n",
    "The same alignment table can be exported in a variety of formats, as we have seen, including JSON (Javascript Object Notation), a format widely used for storing and interchanging data nowadays. In order to produce JSON as output, we need to specify *json* as the output format."
   ]
  },
  {
   "cell_type": "code",
   "execution_count": 42,
   "metadata": {
    "collapsed": false
   },
   "outputs": [
    {
     "name": "stdout",
     "output_type": "stream",
     "text": [
      "{\"table\": [[[{\"n\": \"The\", \"t\": \"The \"}], [{\"n\": \"quick\", \"t\": \"quick \"}], [{\"n\": \"brown\", \"t\": \"brown \"}], [{\"n\": \"fox\", \"t\": \"fox \"}, {\"n\": \"jumped\", \"t\": \"jumped \"}, {\"n\": \"over\", \"t\": \"over \"}, {\"n\": \"the\", \"t\": \"the \"}], [{\"n\": \"lazy\", \"t\": \"lazy \"}], [{\"n\": \"dog\", \"t\": \"dog\"}, {\"n\": \".\", \"t\": \".\"}]], [[{\"n\": \"The\", \"t\": \"The \"}], null, [{\"n\": \"brown\", \"t\": \"brown \"}], [{\"n\": \"fox\", \"t\": \"fox \"}, {\"n\": \"jumped\", \"t\": \"jumped \"}, {\"n\": \"over\", \"t\": \"over \"}, {\"n\": \"the\", \"t\": \"the \"}], null, [{\"n\": \"dog\", \"t\": \"dog\"}, {\"n\": \".\", \"t\": \".\"}]], [[{\"n\": \"The\", \"t\": \"The \"}], [{\"n\": \"bad\", \"t\": \"bad \"}], null, [{\"n\": \"fox\", \"t\": \"fox \"}, {\"n\": \"jumped\", \"t\": \"jumped \"}, {\"n\": \"over\", \"t\": \"over \"}, {\"n\": \"the\", \"t\": \"the \"}], [{\"n\": \"lazy\", \"t\": \"lazy \"}], [{\"n\": \"dog\", \"t\": \"dog\"}, {\"n\": \".\", \"t\": \".\"}]]], \"witnesses\": [\"A\", \"B\", \"C\"]}\n"
     ]
    }
   ],
   "source": [
    "table = collate(collation, output='json')\n",
    "print(table)"
   ]
  },
  {
   "cell_type": "markdown",
   "metadata": {},
   "source": [
    "### Table: XML and XML/TEI\n",
    "\n",
    "We can use the same procedure in order to export the table in XML or XML/TEI (the latter produces a condensed version of the table only listing witnesses at points of divergence - also called a negative apparatus). To do this you just specify a different output format. Let's start with the XML output (that you can later post-process using XSLT or other tools)."
   ]
  },
  {
   "cell_type": "code",
   "execution_count": 43,
   "metadata": {
    "collapsed": false
   },
   "outputs": [
    {
     "name": "stdout",
     "output_type": "stream",
     "text": [
      "<root><app><rdg wit=\"#A\">The </rdg><rdg wit=\"#B\">The </rdg><rdg wit=\"#C\">The </rdg></app><app><rdg wit=\"#A\">quick </rdg><rdg wit=\"#C\">bad </rdg></app><app><rdg wit=\"#A\">brown </rdg><rdg wit=\"#B\">brown </rdg></app><app><rdg wit=\"#A\">fox jumped over the </rdg><rdg wit=\"#B\">fox jumped over the </rdg><rdg wit=\"#C\">fox jumped over the </rdg></app><app><rdg wit=\"#A\">lazy </rdg><rdg wit=\"#C\">lazy </rdg></app><app><rdg wit=\"#A\">dog.</rdg><rdg wit=\"#B\">dog.</rdg><rdg wit=\"#C\">dog.</rdg></app></root>\n"
     ]
    }
   ],
   "source": [
    "table = collate(collation, output='xml')\n",
    "print(table)"
   ]
  },
  {
   "cell_type": "markdown",
   "metadata": {},
   "source": [
    "And, finally, you can test the XML/TEI output that produces XML following the TEI parallel segmentation encoding guidelines."
   ]
  },
  {
   "cell_type": "code",
   "execution_count": 44,
   "metadata": {
    "collapsed": false
   },
   "outputs": [
    {
     "name": "stdout",
     "output_type": "stream",
     "text": [
      "<p>The <app><rdg wit=\"#A\">quick </rdg><rdg wit=\"#C\">bad </rdg></app><app><rdg wit=\"#A #B\">brown </rdg></app>fox jumped over the <app><rdg wit=\"#A #C\">lazy </rdg></app>dog.</p>\n"
     ]
    }
   ],
   "source": [
    "table = collate(collation, output='tei')\n",
    "print(table)"
   ]
  },
  {
   "cell_type": "markdown",
   "metadata": {},
   "source": [
    "\n",
    "### Graph: SVG\n",
    "\n",
    "And now for something different: try with the graph, exported in the SVG format"
   ]
  },
  {
   "cell_type": "code",
   "execution_count": 45,
   "metadata": {
    "collapsed": false
   },
   "outputs": [
    {
     "data": {
      "image/svg+xml": [
       "<svg height=\"165pt\" viewBox=\"0.00 0.00 1374.00 165.00\" width=\"1374pt\" xmlns=\"http://www.w3.org/2000/svg\" xmlns:xlink=\"http://www.w3.org/1999/xlink\">\n",
       "<g class=\"graph\" id=\"graph0\" transform=\"scale(1 1) rotate(0) translate(4 161)\">\n",
       "<title>%3</title>\n",
       "<polygon fill=\"white\" points=\"-4,4 -4,-161 1370,-161 1370,4 -4,4\" stroke=\"none\"/>\n",
       "<!-- 1 -->\n",
       "<g class=\"node\" id=\"node1\"><title>1</title>\n",
       "<polygon fill=\"none\" points=\"1064,-118 969,-118 969,-66 1064,-66 1064,-118\" stroke=\"black\"/>\n",
       "<polygon fill=\"none\" points=\"978.5,-92 978.5,-113 1018.5,-113 1018.5,-92 978.5,-92\" stroke=\"black\"/>\n",
       "<text font-family=\"Times New Roman,serif\" font-size=\"14.00\" font-weight=\"bold\" text-anchor=\"start\" x=\"981.5\" y=\"-99.8\">lazy</text>\n",
       "<polygon fill=\"none\" points=\"1018.5,-92 1018.5,-113 1055.5,-113 1055.5,-92 1018.5,-92\" stroke=\"black\"/>\n",
       "<text font-family=\"Times New Roman,serif\" font-size=\"14.00\" font-weight=\"bold\" text-anchor=\"start\" x=\"1021.5\" y=\"-99.8\">Sigla</text>\n",
       "<polygon fill=\"none\" points=\"978.5,-71 978.5,-92 1018.5,-92 1018.5,-71 978.5,-71\" stroke=\"black\"/>\n",
       "<text font-family=\"Bukyvede\" font-size=\"14.00\" text-anchor=\"start\" x=\"981.5\" y=\"-77.8\">lazy </text>\n",
       "<polygon fill=\"none\" points=\"1018.5,-71 1018.5,-92 1055.5,-92 1055.5,-71 1018.5,-71\" stroke=\"black\"/>\n",
       "<text font-family=\"Times New Roman,serif\" font-size=\"14.00\" text-anchor=\"start\" x=\"1021.5\" y=\"-77.8\">C, A</text>\n",
       "<polygon fill=\"none\" points=\"977,-70 977,-114 1056,-114 1056,-70 977,-70\" stroke=\"black\"/>\n",
       "</g>\n",
       "<!-- 7 -->\n",
       "<g class=\"node\" id=\"node7\"><title>7</title>\n",
       "<polygon fill=\"none\" points=\"1232,-82 1128,-82 1128,-30 1232,-30 1232,-82\" stroke=\"black\"/>\n",
       "<polygon fill=\"none\" points=\"1137,-56 1137,-77 1173,-77 1173,-56 1137,-56\" stroke=\"black\"/>\n",
       "<text font-family=\"Times New Roman,serif\" font-size=\"14.00\" font-weight=\"bold\" text-anchor=\"start\" x=\"1140\" y=\"-63.8\">dog.</text>\n",
       "<polygon fill=\"none\" points=\"1173,-56 1173,-77 1223,-77 1223,-56 1173,-56\" stroke=\"black\"/>\n",
       "<text font-family=\"Times New Roman,serif\" font-size=\"14.00\" font-weight=\"bold\" text-anchor=\"start\" x=\"1176\" y=\"-63.8\">Sigla</text>\n",
       "<polygon fill=\"none\" points=\"1137,-35 1137,-56 1173,-56 1173,-35 1137,-35\" stroke=\"black\"/>\n",
       "<text font-family=\"Bukyvede\" font-size=\"14.00\" text-anchor=\"start\" x=\"1140\" y=\"-41.8\">dog.</text>\n",
       "<polygon fill=\"none\" points=\"1173,-35 1173,-56 1223,-56 1223,-35 1173,-35\" stroke=\"black\"/>\n",
       "<text font-family=\"Times New Roman,serif\" font-size=\"14.00\" text-anchor=\"start\" x=\"1176\" y=\"-41.8\">C, A, B</text>\n",
       "<polygon fill=\"none\" points=\"1136,-34 1136,-78 1224,-78 1224,-34 1136,-34\" stroke=\"black\"/>\n",
       "</g>\n",
       "<!-- 1&#45;&gt;7 -->\n",
       "<g class=\"edge\" id=\"edge1\"><title>1-&gt;7</title>\n",
       "<path d=\"M1064.21,-81.5873C1080.88,-77.8725 1099.91,-73.6299 1117.62,-69.6819\" fill=\"none\" stroke=\"black\"/>\n",
       "<polygon fill=\"black\" points=\"1118.87,-72.9895 1127.87,-67.3976 1117.35,-66.1572 1118.87,-72.9895\" stroke=\"black\"/>\n",
       "<text font-family=\"Times New Roman,serif\" font-size=\"14.00\" text-anchor=\"middle\" x=\"1096\" y=\"-80.8\">A, C</text>\n",
       "</g>\n",
       "<!-- 2 -->\n",
       "<g class=\"node\" id=\"node2\"><title>2</title>\n",
       "<polygon fill=\"none\" points=\"1366,-74 1312,-74 1312,-38 1366,-38 1366,-74\" stroke=\"black\"/>\n",
       "<text font-family=\"Times New Roman,serif\" font-size=\"14.00\" text-anchor=\"middle\" x=\"1339\" y=\"-52.3\">2</text>\n",
       "</g>\n",
       "<!-- 3 -->\n",
       "<g class=\"node\" id=\"node3\"><title>3</title>\n",
       "<polygon fill=\"none\" points=\"54,-90 0,-90 0,-54 54,-54 54,-90\" stroke=\"black\"/>\n",
       "<text font-family=\"Times New Roman,serif\" font-size=\"14.00\" text-anchor=\"middle\" x=\"27\" y=\"-68.3\">3</text>\n",
       "</g>\n",
       "<!-- 4 -->\n",
       "<g class=\"node\" id=\"node4\"><title>4</title>\n",
       "<polygon fill=\"none\" points=\"239,-98 134,-98 134,-46 239,-46 239,-98\" stroke=\"black\"/>\n",
       "<polygon fill=\"none\" points=\"143.5,-72 143.5,-93 180.5,-93 180.5,-72 143.5,-72\" stroke=\"black\"/>\n",
       "<text font-family=\"Times New Roman,serif\" font-size=\"14.00\" font-weight=\"bold\" text-anchor=\"start\" x=\"146.5\" y=\"-79.8\">The</text>\n",
       "<polygon fill=\"none\" points=\"180.5,-72 180.5,-93 230.5,-93 230.5,-72 180.5,-72\" stroke=\"black\"/>\n",
       "<text font-family=\"Times New Roman,serif\" font-size=\"14.00\" font-weight=\"bold\" text-anchor=\"start\" x=\"183.5\" y=\"-79.8\">Sigla</text>\n",
       "<polygon fill=\"none\" points=\"143.5,-51 143.5,-72 180.5,-72 180.5,-51 143.5,-51\" stroke=\"black\"/>\n",
       "<text font-family=\"Bukyvede\" font-size=\"14.00\" text-anchor=\"start\" x=\"146.5\" y=\"-57.8\">The </text>\n",
       "<polygon fill=\"none\" points=\"180.5,-51 180.5,-72 230.5,-72 230.5,-51 180.5,-51\" stroke=\"black\"/>\n",
       "<text font-family=\"Times New Roman,serif\" font-size=\"14.00\" text-anchor=\"start\" x=\"183.5\" y=\"-57.8\">C, A, B</text>\n",
       "<polygon fill=\"none\" points=\"142,-50 142,-94 231,-94 231,-50 142,-50\" stroke=\"black\"/>\n",
       "</g>\n",
       "<!-- 3&#45;&gt;4 -->\n",
       "<g class=\"edge\" id=\"edge2\"><title>3-&gt;4</title>\n",
       "<path d=\"M54.0079,-72C72.9676,-72 99.476,-72 123.729,-72\" fill=\"none\" stroke=\"black\"/>\n",
       "<polygon fill=\"black\" points=\"123.956,-75.5001 133.956,-72 123.956,-68.5001 123.956,-75.5001\" stroke=\"black\"/>\n",
       "<text font-family=\"Times New Roman,serif\" font-size=\"14.00\" text-anchor=\"middle\" x=\"94\" y=\"-75.8\">A, B, C</text>\n",
       "</g>\n",
       "<!-- 6 -->\n",
       "<g class=\"node\" id=\"node6\"><title>6</title>\n",
       "<polygon fill=\"none\" points=\"624,-111 514,-111 514,-59 624,-59 624,-111\" stroke=\"black\"/>\n",
       "<polygon fill=\"none\" points=\"523,-85 523,-106 578,-106 578,-85 523,-85\" stroke=\"black\"/>\n",
       "<text font-family=\"Times New Roman,serif\" font-size=\"14.00\" font-weight=\"bold\" text-anchor=\"start\" x=\"526\" y=\"-92.8\">brown</text>\n",
       "<polygon fill=\"none\" points=\"578,-85 578,-106 615,-106 615,-85 578,-85\" stroke=\"black\"/>\n",
       "<text font-family=\"Times New Roman,serif\" font-size=\"14.00\" font-weight=\"bold\" text-anchor=\"start\" x=\"581\" y=\"-92.8\">Sigla</text>\n",
       "<polygon fill=\"none\" points=\"523,-64 523,-85 578,-85 578,-64 523,-64\" stroke=\"black\"/>\n",
       "<text font-family=\"Bukyvede\" font-size=\"14.00\" text-anchor=\"start\" x=\"526\" y=\"-70.8\">brown </text>\n",
       "<polygon fill=\"none\" points=\"578,-64 578,-85 615,-85 615,-64 578,-64\" stroke=\"black\"/>\n",
       "<text font-family=\"Times New Roman,serif\" font-size=\"14.00\" text-anchor=\"start\" x=\"581\" y=\"-70.8\">A, B</text>\n",
       "<polygon fill=\"none\" points=\"522,-63 522,-107 616,-107 616,-63 522,-63\" stroke=\"black\"/>\n",
       "</g>\n",
       "<!-- 4&#45;&gt;6 -->\n",
       "<g class=\"edge\" id=\"edge3\"><title>4-&gt;6</title>\n",
       "<path d=\"M239.212,-73.7668C307.912,-76.1139 429.251,-80.2596 503.752,-82.8049\" fill=\"none\" stroke=\"black\"/>\n",
       "<polygon fill=\"black\" points=\"503.829,-86.3095 513.943,-83.1531 504.068,-79.3136 503.829,-86.3095\" stroke=\"black\"/>\n",
       "<text font-family=\"Times New Roman,serif\" font-size=\"14.00\" text-anchor=\"middle\" x=\"336\" y=\"-81.8\">B</text>\n",
       "</g>\n",
       "<!-- 8 -->\n",
       "<g class=\"node\" id=\"node8\"><title>8</title>\n",
       "<polygon fill=\"none\" points=\"496,-52 405,-52 405,-0 496,-0 496,-52\" stroke=\"black\"/>\n",
       "<polygon fill=\"none\" points=\"414.5,-26 414.5,-47 450.5,-47 450.5,-26 414.5,-26\" stroke=\"black\"/>\n",
       "<text font-family=\"Times New Roman,serif\" font-size=\"14.00\" font-weight=\"bold\" text-anchor=\"start\" x=\"417.5\" y=\"-33.8\">bad</text>\n",
       "<polygon fill=\"none\" points=\"450.5,-26 450.5,-47 487.5,-47 487.5,-26 450.5,-26\" stroke=\"black\"/>\n",
       "<text font-family=\"Times New Roman,serif\" font-size=\"14.00\" font-weight=\"bold\" text-anchor=\"start\" x=\"453.5\" y=\"-33.8\">Sigla</text>\n",
       "<polygon fill=\"none\" points=\"414.5,-5 414.5,-26 450.5,-26 450.5,-5 414.5,-5\" stroke=\"black\"/>\n",
       "<text font-family=\"Bukyvede\" font-size=\"14.00\" text-anchor=\"start\" x=\"417.5\" y=\"-11.8\">bad </text>\n",
       "<polygon fill=\"none\" points=\"450.5,-5 450.5,-26 487.5,-26 487.5,-5 450.5,-5\" stroke=\"black\"/>\n",
       "<text font-family=\"Times New Roman,serif\" font-size=\"14.00\" text-anchor=\"start\" x=\"453.5\" y=\"-11.8\">C</text>\n",
       "<polygon fill=\"none\" points=\"413,-4 413,-48 488,-48 488,-4 413,-4\" stroke=\"black\"/>\n",
       "</g>\n",
       "<!-- 4&#45;&gt;8 -->\n",
       "<g class=\"edge\" id=\"edge5\"><title>4-&gt;8</title>\n",
       "<path d=\"M239.286,-48.3784C245.176,-46.298 251.161,-44.4395 257,-43 302.602,-31.7586 355.894,-27.7281 394.829,-26.3837\" fill=\"none\" stroke=\"black\"/>\n",
       "<polygon fill=\"black\" points=\"395.015,-29.8798 404.907,-26.0844 394.807,-22.8829 395.015,-29.8798\" stroke=\"black\"/>\n",
       "<text font-family=\"Times New Roman,serif\" font-size=\"14.00\" text-anchor=\"middle\" x=\"262\" y=\"-46.8\">C</text>\n",
       "</g>\n",
       "<!-- 9 -->\n",
       "<g class=\"node\" id=\"node9\"><title>9</title>\n",
       "<polygon fill=\"none\" points=\"387,-157 285,-157 285,-105 387,-105 387,-157\" stroke=\"black\"/>\n",
       "<polygon fill=\"none\" points=\"294,-131 294,-152 341,-152 341,-131 294,-131\" stroke=\"black\"/>\n",
       "<text font-family=\"Times New Roman,serif\" font-size=\"14.00\" font-weight=\"bold\" text-anchor=\"start\" x=\"297\" y=\"-138.8\">quick</text>\n",
       "<polygon fill=\"none\" points=\"341,-131 341,-152 378,-152 378,-131 341,-131\" stroke=\"black\"/>\n",
       "<text font-family=\"Times New Roman,serif\" font-size=\"14.00\" font-weight=\"bold\" text-anchor=\"start\" x=\"344\" y=\"-138.8\">Sigla</text>\n",
       "<polygon fill=\"none\" points=\"294,-110 294,-131 341,-131 341,-110 294,-110\" stroke=\"black\"/>\n",
       "<text font-family=\"Bukyvede\" font-size=\"14.00\" text-anchor=\"start\" x=\"297\" y=\"-116.8\">quick </text>\n",
       "<polygon fill=\"none\" points=\"341,-110 341,-131 378,-131 378,-110 341,-110\" stroke=\"black\"/>\n",
       "<text font-family=\"Times New Roman,serif\" font-size=\"14.00\" text-anchor=\"start\" x=\"344\" y=\"-116.8\">A</text>\n",
       "<polygon fill=\"none\" points=\"293,-109 293,-153 379,-153 379,-109 293,-109\" stroke=\"black\"/>\n",
       "</g>\n",
       "<!-- 4&#45;&gt;9 -->\n",
       "<g class=\"edge\" id=\"edge4\"><title>4-&gt;9</title>\n",
       "<path d=\"M239.088,-92.6353C250.757,-97.3026 263.241,-102.296 275.215,-107.086\" fill=\"none\" stroke=\"black\"/>\n",
       "<polygon fill=\"black\" points=\"274.099,-110.409 284.684,-110.873 276.699,-103.91 274.099,-110.409\" stroke=\"black\"/>\n",
       "<text font-family=\"Times New Roman,serif\" font-size=\"14.00\" text-anchor=\"middle\" x=\"262\" y=\"-106.8\">A</text>\n",
       "</g>\n",
       "<!-- 5 -->\n",
       "<g class=\"node\" id=\"node5\"><title>5</title>\n",
       "<polygon fill=\"none\" points=\"905,-75 687,-75 687,-23 905,-23 905,-75\" stroke=\"black\"/>\n",
       "<polygon fill=\"none\" points=\"696,-49 696,-70 846,-70 846,-49 696,-49\" stroke=\"black\"/>\n",
       "<text font-family=\"Times New Roman,serif\" font-size=\"14.00\" font-weight=\"bold\" text-anchor=\"start\" x=\"699\" y=\"-56.8\">fox jumped over the</text>\n",
       "<polygon fill=\"none\" points=\"846,-49 846,-70 896,-70 896,-49 846,-49\" stroke=\"black\"/>\n",
       "<text font-family=\"Times New Roman,serif\" font-size=\"14.00\" font-weight=\"bold\" text-anchor=\"start\" x=\"849\" y=\"-56.8\">Sigla</text>\n",
       "<polygon fill=\"none\" points=\"696,-28 696,-49 846,-49 846,-28 696,-28\" stroke=\"black\"/>\n",
       "<text font-family=\"Bukyvede\" font-size=\"14.00\" text-anchor=\"start\" x=\"699\" y=\"-34.8\">fox jumped over the </text>\n",
       "<polygon fill=\"none\" points=\"846,-28 846,-49 896,-49 896,-28 846,-28\" stroke=\"black\"/>\n",
       "<text font-family=\"Times New Roman,serif\" font-size=\"14.00\" text-anchor=\"start\" x=\"849\" y=\"-34.8\">C, A, B</text>\n",
       "<polygon fill=\"none\" points=\"695,-27 695,-71 897,-71 897,-27 695,-27\" stroke=\"black\"/>\n",
       "</g>\n",
       "<!-- 5&#45;&gt;1 -->\n",
       "<g class=\"edge\" id=\"edge7\"><title>5-&gt;1</title>\n",
       "<path d=\"M905.29,-70.311C923.863,-73.9662 942.473,-77.6286 958.973,-80.8757\" fill=\"none\" stroke=\"black\"/>\n",
       "<polygon fill=\"black\" points=\"958.467,-84.3431 968.954,-82.84 959.818,-77.4749 958.467,-84.3431\" stroke=\"black\"/>\n",
       "<text font-family=\"Times New Roman,serif\" font-size=\"14.00\" text-anchor=\"middle\" x=\"937\" y=\"-82.8\">A, C</text>\n",
       "</g>\n",
       "<!-- 5&#45;&gt;7 -->\n",
       "<g class=\"edge\" id=\"edge6\"><title>5-&gt;7</title>\n",
       "<path d=\"M905.223,-41.9045C953.804,-39.8159 1011.81,-38.8351 1064,-42 1081.54,-43.0636 1100.5,-45.0314 1117.87,-47.1626\" fill=\"none\" stroke=\"black\"/>\n",
       "<polygon fill=\"black\" points=\"1117.52,-50.6474 1127.89,-48.4307 1118.4,-43.7028 1117.52,-50.6474\" stroke=\"black\"/>\n",
       "<text font-family=\"Times New Roman,serif\" font-size=\"14.00\" text-anchor=\"middle\" x=\"1016.5\" y=\"-45.8\">B</text>\n",
       "</g>\n",
       "<!-- 6&#45;&gt;5 -->\n",
       "<g class=\"edge\" id=\"edge8\"><title>6-&gt;5</title>\n",
       "<path d=\"M624.179,-76.3313C640.162,-73.7741 658.315,-70.8696 676.676,-67.9319\" fill=\"none\" stroke=\"black\"/>\n",
       "<polygon fill=\"black\" points=\"677.262,-71.3826 686.584,-66.3466 676.156,-64.4706 677.262,-71.3826\" stroke=\"black\"/>\n",
       "<text font-family=\"Times New Roman,serif\" font-size=\"14.00\" text-anchor=\"middle\" x=\"655.5\" y=\"-76.8\">A, B</text>\n",
       "</g>\n",
       "<!-- 7&#45;&gt;2 -->\n",
       "<g class=\"edge\" id=\"edge9\"><title>7-&gt;2</title>\n",
       "<path d=\"M1232.41,-56C1254.95,-56 1280.89,-56 1301.42,-56\" fill=\"none\" stroke=\"black\"/>\n",
       "<polygon fill=\"black\" points=\"1301.61,-59.5001 1311.61,-56 1301.61,-52.5001 1301.61,-59.5001\" stroke=\"black\"/>\n",
       "<text font-family=\"Times New Roman,serif\" font-size=\"14.00\" text-anchor=\"middle\" x=\"1272\" y=\"-59.8\">A, B, C</text>\n",
       "</g>\n",
       "<!-- 8&#45;&gt;5 -->\n",
       "<g class=\"edge\" id=\"edge10\"><title>8-&gt;5</title>\n",
       "<path d=\"M496.198,-27.9691C531.035,-29.5915 580.614,-32.0928 624,-35 641.018,-36.1404 658.979,-37.471 676.609,-38.8498\" fill=\"none\" stroke=\"black\"/>\n",
       "<polygon fill=\"black\" points=\"676.696,-42.3675 686.941,-39.6661 677.248,-35.3893 676.696,-42.3675\" stroke=\"black\"/>\n",
       "<text font-family=\"Times New Roman,serif\" font-size=\"14.00\" text-anchor=\"middle\" x=\"569\" y=\"-38.8\">C</text>\n",
       "</g>\n",
       "<!-- 9&#45;&gt;6 -->\n",
       "<g class=\"edge\" id=\"edge11\"><title>9-&gt;6</title>\n",
       "<path d=\"M387.124,-121.019C421.327,-114.208 466.936,-105.125 503.798,-97.7849\" fill=\"none\" stroke=\"black\"/>\n",
       "<polygon fill=\"black\" points=\"504.822,-101.15 513.946,-95.7641 503.455,-94.2846 504.822,-101.15\" stroke=\"black\"/>\n",
       "<text font-family=\"Times New Roman,serif\" font-size=\"14.00\" text-anchor=\"middle\" x=\"450.5\" y=\"-120.8\">A</text>\n",
       "</g>\n",
       "</g>\n",
       "</svg>"
      ],
      "text/plain": [
       "<IPython.core.display.SVG object>"
      ]
     },
     "metadata": {},
     "output_type": "display_data"
    }
   ],
   "source": [
    "graph = collate(collation, output='svg')\n",
    "print(graph)"
   ]
  },
  {
   "cell_type": "markdown",
   "metadata": {},
   "source": [
    "## Exercise\n",
    "\n",
    "In this tutorial we have used the *fox and dog* example. Now try to produce a JSON or TEI output of the first paragraph of Darwin's *On the origin of species*, that we have already used in the [first tutorial](http://nbviewer.jupyter.org/github/DiXiT-eu/collatex-tutorial/blob/master/unit5/1_collate-plain-text.ipynb). You can find the data in *fixtures/Darwin/txt* (only the first paragraph: *xxxx\\_par1*).\n",
    "\n",
    "Alternatively, or if you still have time, you can use the data in *fixtures/Woolf/Lighthouse-1* and produce new outputs."
   ]
  },
  {
   "cell_type": "markdown",
   "metadata": {},
   "source": [
    "## What's next\n",
    "\n",
    "In the next tutorial, [Collate outside the notebook](http://nbviewer.jupyter.org/github/DiXiT-eu/collatex-tutorial/blob/master/unit5/4_collate-outside-the-notebook.ipynb), we will leave the notebook and learn how to create and run Python scripts using PyCharm and the terminal, and how to save the collation results in a new file.\n"
   ]
  },
  {
   "cell_type": "markdown",
   "metadata": {},
   "source": [
    "---\n",
    "## Bibliography\n",
    "- Dearing, Vinton. 1970. ‘Computer Aids to Editing the Text of Dryden’. In *Art and Error: Modern Textual Editing*, edited by Ronald Gottesman and Scott Bennett, 254–78. Bloomington: Indiana University Press."
   ]
  }
 ],
 "metadata": {
  "anaconda-cloud": {},
  "kernelspec": {
   "display_name": "Python 3",
   "language": "python",
   "name": "python3"
  },
  "language_info": {
   "codemirror_mode": {
    "name": "ipython",
    "version": 3
   },
   "file_extension": ".py",
   "mimetype": "text/x-python",
   "name": "python",
   "nbconvert_exporter": "python",
   "pygments_lexer": "ipython3",
   "version": "3.5.2"
  }
 },
 "nbformat": 4,
 "nbformat_minor": 0
}
