{
 "cells": [
  {
   "cell_type": "markdown",
   "metadata": {},
   "source": [
    "# Collation outputs\n",
    "\n",
    "\n",
    "- Introduction\n",
    "- In practice\n",
    "    - Table: HTML\n",
    "    - Table: JSON\n",
    "    - Table: XML and XML/TEI\n",
    "    - Graph: SVG\n",
    "- Exercise\n",
    "- What's next\n",
    "\n",
    "---\n",
    "\n",
    "\n",
    "## Introduction\n",
    "\n",
    "In this tutorial we will be trying different outputs for our collation, meaning different graphical representations, formats and visualizations of the result.\n",
    "\n",
    "The visualization of the collation result is an open discussion: several possibilities have been suggested and used and new ones are always being proposed. When the output of the collation is a printed format, such as a book, it is rare to see anything different from the traditional critical apparatus. Now that output formats are more frequently digital (or at least have a digital component), collation tools tend to offer more than one visualization option. This is the case for both Juxta and CollateX. The different visualizations are not incompatible; on the contrary, they can be complementary, highlighting different aspects of the result and suitable for different users or different stages of the workflow.\n",
    "\n",
    "In the previous tutorials we used the alignment table and the graph. The alignment table, in use since the 1960's, is the equivalent of the matrix of bioinformatic for sequence alignment (for example, strings of DNA). In contrast, the graph is meant to represent the fluidity of the text and its variation. The idea of a graph-oriented model for expressing textual variance has been originally developed by Desmond Schmidt [(2008)](http://multiversiondocs.blogspot.it/2008/03/whats-multi-version-document.html). You can refer to [this video](https://vimeo.com/114242362), for a presentation on *Apparatus vs. Graph – an Interface as Scholarly Argument* by Tara Andrews and Joris van Zundert.\n",
    "Other outputs, such as the histogram and the side-by-side visualization offered by Juxta, allow users to visualize the result of the comparison between two witnesses only. This reflects the way the algorithm is built and shows that the graphical representation is connected with the approach to collation that informs the software.\n",
    "\n",
    "CollateX has two main ways to conceive of the collation result: as a **table** (with many different formatting options) and as a **graph**:\n",
    "- table formats\n",
    "    - plain text table (no need to specify the output)\n",
    "    - HTML table (output='**html**')\n",
    "    - HTML vertical table with colors (output='**html2**')\n",
    "    - JSON (output='**json**')\n",
    "    - XML (output='**xml**')\n",
    "    - XML/TEI (output='**tei**')\n",
    "- graph format\n",
    "    - SVG (output='**svg**')"
   ]
  },
  {
   "cell_type": "markdown",
   "metadata": {},
   "source": [
    "## In practice\n",
    "\n",
    "Even though we have already encountered some of these outputs, it is worth going through them one more time focussing on part of the code that needs to change to produce the different formats. \n",
    "\n",
    "### Table: plain text\n",
    "\n",
    "In this tutorial we will use some simple texts already used in the previous tutorial: the *fox and dog* example.\n",
    "\n",
    "Let's start with the most simple output, for which we don't need to specify any output format (note that you can name the variable containing the output anything you like, but in this tutorial we call it *alignment_table*, *table* or *graph*)\n",
    "\n",
    "In the code cell below the lines starting with a hash (#) are comments and are not executed. They are there in this instance to help you remember what the different parts of the code do. You do not need to use them in your notebook (although sometimes it is helpful to add comments to your code so you remember what things do)."
   ]
  },
  {
   "cell_type": "code",
   "execution_count": 9,
   "metadata": {
    "collapsed": false
   },
   "outputs": [
    {
     "name": "stdout",
     "output_type": "stream",
     "text": [
      "+---+-----+-------+-------+---------------------+------+------+\n",
      "| A | The | quick | brown | fox jumped over the | lazy | dog. |\n",
      "| B | The | -     | brown | fox jumped over the | -    | dog. |\n",
      "| C | The | bad   | -     | fox jumped over the | lazy | dog. |\n",
      "+---+-----+-------+-------+---------------------+------+------+\n"
     ]
    }
   ],
   "source": [
    "#import the collatex library\n",
    "from collatex import *\n",
    "#create an instance of the collateX engine\n",
    "collation = Collation()\n",
    "#add witnesses to the collateX instance\n",
    "collation.add_plain_witness( \"A\", \"The quick brown fox jumped over the lazy dog.\")\n",
    "collation.add_plain_witness( \"B\", \"The brown fox jumped over the dog.\" )\n",
    "collation.add_plain_witness( \"C\", \"The bad fox jumped over the lazy dog.\" )\n",
    "#collate the witnesses and store the result in a vaiable called 'table'\n",
    "#as we have not specified an output this will be sored in plain text\n",
    "table = collate(collation)\n",
    "#print the collation result\n",
    "print(table)"
   ]
  },
  {
   "cell_type": "markdown",
   "metadata": {},
   "source": [
    "### Table: HTML\n",
    "\n",
    "Now let's try a different output. This time we still want a table format but instead of it being in plain text we would like it exported in HTML (the markup language used for web pages), and we would like it to be displayed vertically with nice colors to highlight the comparison. To achieve this all you need to do is add the keyword *output* to the *collate* command and give it that value *html2*."
   ]
  },
  {
   "cell_type": "code",
   "execution_count": 18,
   "metadata": {
    "collapsed": false
   },
   "outputs": [
    {
     "data": {
      "text/html": [
       "<TABLE style=\"border: 1px solid #000000; border-collapse: collapse;\" border=\"1\" cellpadding=\"4\">\n",
       " <TR>\n",
       "  <TH>A</TH>\n",
       "  <TH>B</TH>\n",
       "  <TH>C</TH>\n",
       " </TR>\n",
       " <TR>\n",
       "  <TD bgcolor=\"00FF00\">The</TD>\n",
       "  <TD bgcolor=\"00FF00\">The</TD>\n",
       "  <TD bgcolor=\"00FF00\">The</TD>\n",
       " </TR>\n",
       " <TR>\n",
       "  <TD bgcolor=\"FF0000\">quick</TD>\n",
       "  <TD bgcolor=\"FF0000\">-</TD>\n",
       "  <TD bgcolor=\"FF0000\">bad</TD>\n",
       " </TR>\n",
       " <TR>\n",
       "  <TD bgcolor=\"FF0000\">brown</TD>\n",
       "  <TD bgcolor=\"FF0000\">brown</TD>\n",
       "  <TD bgcolor=\"FF0000\">-</TD>\n",
       " </TR>\n",
       " <TR>\n",
       "  <TD bgcolor=\"00FF00\">fox jumped over the</TD>\n",
       "  <TD bgcolor=\"00FF00\">fox jumped over the</TD>\n",
       "  <TD bgcolor=\"00FF00\">fox jumped over the</TD>\n",
       " </TR>\n",
       " <TR>\n",
       "  <TD bgcolor=\"FF0000\">lazy</TD>\n",
       "  <TD bgcolor=\"FF0000\">-</TD>\n",
       "  <TD bgcolor=\"FF0000\">lazy</TD>\n",
       " </TR>\n",
       " <TR>\n",
       "  <TD bgcolor=\"00FF00\">dog.</TD>\n",
       "  <TD bgcolor=\"00FF00\">dog.</TD>\n",
       "  <TD bgcolor=\"00FF00\">dog.</TD>\n",
       " </TR>\n",
       "</TABLE>"
      ],
      "text/plain": [
       "<IPython.core.display.HTML object>"
      ]
     },
     "metadata": {},
     "output_type": "display_data"
    }
   ],
   "source": [
    "table = collate(collation, output='html2')"
   ]
  },
  {
   "cell_type": "markdown",
   "metadata": {},
   "source": [
    "Before moving to the other outputs, try to produce the simple HTML output by changing the code above. The value required in the *output* keyword should be *html*.\n",
    "\n",
    "### Table: JSON\n",
    "\n",
    "The same alignment table can be exported in a variety of formats, as we have seen, including JSON (Javascript Object Notation), a format widely used for storing and interchanging data nowadays. In order to produce JSON as output, we need to specify *json* as the output format."
   ]
  },
  {
   "cell_type": "code",
   "execution_count": 21,
   "metadata": {
    "collapsed": false,
    "scrolled": true
   },
   "outputs": [
    {
     "name": "stdout",
     "output_type": "stream",
     "text": [
      "{\"table\": [[[{\"n\": \"The\", \"t\": \"The \"}], [{\"n\": \"quick\", \"t\": \"quick \"}], [{\"n\": \"brown\", \"t\": \"brown \"}], [{\"n\": \"fox\", \"t\": \"fox \"}, {\"n\": \"jumped\", \"t\": \"jumped \"}, {\"n\": \"over\", \"t\": \"over \"}, {\"n\": \"the\", \"t\": \"the \"}], [{\"n\": \"lazy\", \"t\": \"lazy \"}], [{\"n\": \"dog\", \"t\": \"dog\"}, {\"n\": \".\", \"t\": \".\"}]], [[{\"n\": \"The\", \"t\": \"The \"}], null, [{\"n\": \"brown\", \"t\": \"brown \"}], [{\"n\": \"fox\", \"t\": \"fox \"}, {\"n\": \"jumped\", \"t\": \"jumped \"}, {\"n\": \"over\", \"t\": \"over \"}, {\"n\": \"the\", \"t\": \"the \"}], null, [{\"n\": \"dog\", \"t\": \"dog\"}, {\"n\": \".\", \"t\": \".\"}]], [[{\"n\": \"The\", \"t\": \"The \"}], [{\"n\": \"bad\", \"t\": \"bad \"}], null, [{\"n\": \"fox\", \"t\": \"fox \"}, {\"n\": \"jumped\", \"t\": \"jumped \"}, {\"n\": \"over\", \"t\": \"over \"}, {\"n\": \"the\", \"t\": \"the \"}], [{\"n\": \"lazy\", \"t\": \"lazy \"}], [{\"n\": \"dog\", \"t\": \"dog\"}, {\"n\": \".\", \"t\": \".\"}]]], \"witnesses\": [\"A\", \"B\", \"C\"]}\n"
     ]
    }
   ],
   "source": [
    "table = collate(collation, output='json')\n",
    "print(table)"
   ]
  },
  {
   "cell_type": "markdown",
   "metadata": {},
   "source": [
    "### Table: XML and XML/TEI\n",
    "\n",
    "We can use the same procedure in order to export the table in XML or XML/TEI (the latter produces a condensed version of the table only listing witnesses at points of divergence - also called a negative apparatus). To do this you just specify a different output format. Let's start with the XML output (that you can later post-process using XSLT or other tools)."
   ]
  },
  {
   "cell_type": "code",
   "execution_count": 15,
   "metadata": {
    "collapsed": false
   },
   "outputs": [
    {
     "name": "stdout",
     "output_type": "stream",
     "text": [
      "<root><app><rdg wit=\"#A\">The </rdg><rdg wit=\"#B\">The </rdg><rdg wit=\"#C\">The </rdg></app><app><rdg wit=\"#A\">quick </rdg><rdg wit=\"#C\">bad </rdg></app><app><rdg wit=\"#A\">brown </rdg><rdg wit=\"#B\">brown </rdg></app><app><rdg wit=\"#A\">fox jumped over the </rdg><rdg wit=\"#B\">fox jumped over the </rdg><rdg wit=\"#C\">fox jumped over the </rdg></app><app><rdg wit=\"#A\">lazy </rdg><rdg wit=\"#C\">lazy </rdg></app><app><rdg wit=\"#A\">dog.</rdg><rdg wit=\"#B\">dog.</rdg><rdg wit=\"#C\">dog.</rdg></app></root>\n"
     ]
    }
   ],
   "source": [
    "table = collate(collation, output='xml')\n",
    "print(table)"
   ]
  },
  {
   "cell_type": "markdown",
   "metadata": {},
   "source": [
    "And, finally, you can test the XML/TEI output that produces XML following the TEI parallel segmentation encoding guidelines."
   ]
  },
  {
   "cell_type": "code",
   "execution_count": 16,
   "metadata": {
    "collapsed": false
   },
   "outputs": [
    {
     "name": "stdout",
     "output_type": "stream",
     "text": [
      "<p>The <app><rdg wit=\"#A\">quick </rdg><rdg wit=\"#C\">bad </rdg></app><app><rdg wit=\"#A #B\">brown </rdg></app>fox jumped over the <app><rdg wit=\"#A #C\">lazy </rdg></app>dog.</p>\n"
     ]
    }
   ],
   "source": [
    "table = collate(collation, output='tei')\n",
    "print(table)"
   ]
  },
  {
   "cell_type": "markdown",
   "metadata": {},
   "source": [
    "\n",
    "### Graph: SVG\n",
    "\n",
    "And now for something different: try with the graph, exported in the SVG format"
   ]
  },
  {
   "cell_type": "code",
   "execution_count": 17,
   "metadata": {
    "collapsed": false
   },
   "outputs": [
    {
     "data": {
      "image/svg+xml": [
       "<svg height=\"165pt\" viewBox=\"0.00 0.00 1374.00 165.00\" width=\"1374pt\" xmlns=\"http://www.w3.org/2000/svg\" xmlns:xlink=\"http://www.w3.org/1999/xlink\">\n",
       "<g class=\"graph\" id=\"graph0\" transform=\"scale(1 1) rotate(0) translate(4 161)\">\n",
       "<title>%3</title>\n",
       "<polygon fill=\"white\" points=\"-4,4 -4,-161 1370,-161 1370,4 -4,4\" stroke=\"none\"/>\n",
       "<!-- 1 -->\n",
       "<g class=\"node\" id=\"node1\"><title>1</title>\n",
       "<polygon fill=\"none\" points=\"905,-134 687,-134 687,-82 905,-82 905,-134\" stroke=\"black\"/>\n",
       "<polygon fill=\"none\" points=\"696,-108 696,-129 846,-129 846,-108 696,-108\" stroke=\"black\"/>\n",
       "<text font-family=\"Times New Roman,serif\" font-size=\"14.00\" font-weight=\"bold\" text-anchor=\"start\" x=\"699\" y=\"-115.8\">fox jumped over the</text>\n",
       "<polygon fill=\"none\" points=\"846,-108 846,-129 896,-129 896,-108 846,-108\" stroke=\"black\"/>\n",
       "<text font-family=\"Times New Roman,serif\" font-size=\"14.00\" font-weight=\"bold\" text-anchor=\"start\" x=\"849\" y=\"-115.8\">Sigla</text>\n",
       "<polygon fill=\"none\" points=\"696,-87 696,-108 846,-108 846,-87 696,-87\" stroke=\"black\"/>\n",
       "<text font-family=\"Bukyvede\" font-size=\"14.00\" text-anchor=\"start\" x=\"699\" y=\"-93.8\">fox jumped over the </text>\n",
       "<polygon fill=\"none\" points=\"846,-87 846,-108 896,-108 896,-87 846,-87\" stroke=\"black\"/>\n",
       "<text font-family=\"Times New Roman,serif\" font-size=\"14.00\" text-anchor=\"start\" x=\"849\" y=\"-93.8\">C, B, A</text>\n",
       "<polygon fill=\"none\" points=\"695,-86 695,-130 897,-130 897,-86 695,-86\" stroke=\"black\"/>\n",
       "</g>\n",
       "<!-- 8 -->\n",
       "<g class=\"node\" id=\"node8\"><title>8</title>\n",
       "<polygon fill=\"none\" points=\"1232,-127 1128,-127 1128,-75 1232,-75 1232,-127\" stroke=\"black\"/>\n",
       "<polygon fill=\"none\" points=\"1137,-101 1137,-122 1173,-122 1173,-101 1137,-101\" stroke=\"black\"/>\n",
       "<text font-family=\"Times New Roman,serif\" font-size=\"14.00\" font-weight=\"bold\" text-anchor=\"start\" x=\"1140\" y=\"-108.8\">dog.</text>\n",
       "<polygon fill=\"none\" points=\"1173,-101 1173,-122 1223,-122 1223,-101 1173,-101\" stroke=\"black\"/>\n",
       "<text font-family=\"Times New Roman,serif\" font-size=\"14.00\" font-weight=\"bold\" text-anchor=\"start\" x=\"1176\" y=\"-108.8\">Sigla</text>\n",
       "<polygon fill=\"none\" points=\"1137,-80 1137,-101 1173,-101 1173,-80 1137,-80\" stroke=\"black\"/>\n",
       "<text font-family=\"Bukyvede\" font-size=\"14.00\" text-anchor=\"start\" x=\"1140\" y=\"-86.8\">dog.</text>\n",
       "<polygon fill=\"none\" points=\"1173,-80 1173,-101 1223,-101 1223,-80 1173,-80\" stroke=\"black\"/>\n",
       "<text font-family=\"Times New Roman,serif\" font-size=\"14.00\" text-anchor=\"start\" x=\"1176\" y=\"-86.8\">C, B, A</text>\n",
       "<polygon fill=\"none\" points=\"1136,-79 1136,-123 1224,-123 1224,-79 1136,-79\" stroke=\"black\"/>\n",
       "</g>\n",
       "<!-- 1&#45;&gt;8 -->\n",
       "<g class=\"edge\" id=\"edge1\"><title>1-&gt;8</title>\n",
       "<path d=\"M905.287,-106.617C965.561,-105.759 1041.95,-104.53 1110,-103 1112.52,-102.943 1115.08,-102.883 1117.68,-102.819\" fill=\"none\" stroke=\"black\"/>\n",
       "<polygon fill=\"black\" points=\"1117.85,-106.316 1127.76,-102.559 1117.67,-99.318 1117.85,-106.316\" stroke=\"black\"/>\n",
       "<text font-family=\"Times New Roman,serif\" font-size=\"14.00\" text-anchor=\"middle\" x=\"1016.5\" y=\"-108.8\">B</text>\n",
       "</g>\n",
       "<!-- 9 -->\n",
       "<g class=\"node\" id=\"node9\"><title>9</title>\n",
       "<polygon fill=\"none\" points=\"1064,-88 969,-88 969,-36 1064,-36 1064,-88\" stroke=\"black\"/>\n",
       "<polygon fill=\"none\" points=\"978.5,-62 978.5,-83 1018.5,-83 1018.5,-62 978.5,-62\" stroke=\"black\"/>\n",
       "<text font-family=\"Times New Roman,serif\" font-size=\"14.00\" font-weight=\"bold\" text-anchor=\"start\" x=\"981.5\" y=\"-69.8\">lazy</text>\n",
       "<polygon fill=\"none\" points=\"1018.5,-62 1018.5,-83 1055.5,-83 1055.5,-62 1018.5,-62\" stroke=\"black\"/>\n",
       "<text font-family=\"Times New Roman,serif\" font-size=\"14.00\" font-weight=\"bold\" text-anchor=\"start\" x=\"1021.5\" y=\"-69.8\">Sigla</text>\n",
       "<polygon fill=\"none\" points=\"978.5,-41 978.5,-62 1018.5,-62 1018.5,-41 978.5,-41\" stroke=\"black\"/>\n",
       "<text font-family=\"Bukyvede\" font-size=\"14.00\" text-anchor=\"start\" x=\"981.5\" y=\"-47.8\">lazy </text>\n",
       "<polygon fill=\"none\" points=\"1018.5,-41 1018.5,-62 1055.5,-62 1055.5,-41 1018.5,-41\" stroke=\"black\"/>\n",
       "<text font-family=\"Times New Roman,serif\" font-size=\"14.00\" text-anchor=\"start\" x=\"1021.5\" y=\"-47.8\">C, A</text>\n",
       "<polygon fill=\"none\" points=\"977,-40 977,-84 1056,-84 1056,-40 977,-40\" stroke=\"black\"/>\n",
       "</g>\n",
       "<!-- 1&#45;&gt;9 -->\n",
       "<g class=\"edge\" id=\"edge2\"><title>1-&gt;9</title>\n",
       "<path d=\"M905.29,-85.2021C923.863,-81.292 942.473,-77.3741 958.973,-73.9004\" fill=\"none\" stroke=\"black\"/>\n",
       "<polygon fill=\"black\" points=\"959.89,-77.2842 968.954,-71.7991 958.448,-70.4343 959.89,-77.2842\" stroke=\"black\"/>\n",
       "<text font-family=\"Times New Roman,serif\" font-size=\"14.00\" text-anchor=\"middle\" x=\"937\" y=\"-84.8\">A, C</text>\n",
       "</g>\n",
       "<!-- 2 -->\n",
       "<g class=\"node\" id=\"node2\"><title>2</title>\n",
       "<polygon fill=\"none\" points=\"496,-157 405,-157 405,-105 496,-105 496,-157\" stroke=\"black\"/>\n",
       "<polygon fill=\"none\" points=\"414.5,-131 414.5,-152 450.5,-152 450.5,-131 414.5,-131\" stroke=\"black\"/>\n",
       "<text font-family=\"Times New Roman,serif\" font-size=\"14.00\" font-weight=\"bold\" text-anchor=\"start\" x=\"417.5\" y=\"-138.8\">bad</text>\n",
       "<polygon fill=\"none\" points=\"450.5,-131 450.5,-152 487.5,-152 487.5,-131 450.5,-131\" stroke=\"black\"/>\n",
       "<text font-family=\"Times New Roman,serif\" font-size=\"14.00\" font-weight=\"bold\" text-anchor=\"start\" x=\"453.5\" y=\"-138.8\">Sigla</text>\n",
       "<polygon fill=\"none\" points=\"414.5,-110 414.5,-131 450.5,-131 450.5,-110 414.5,-110\" stroke=\"black\"/>\n",
       "<text font-family=\"Bukyvede\" font-size=\"14.00\" text-anchor=\"start\" x=\"417.5\" y=\"-116.8\">bad </text>\n",
       "<polygon fill=\"none\" points=\"450.5,-110 450.5,-131 487.5,-131 487.5,-110 450.5,-110\" stroke=\"black\"/>\n",
       "<text font-family=\"Times New Roman,serif\" font-size=\"14.00\" text-anchor=\"start\" x=\"453.5\" y=\"-116.8\">C</text>\n",
       "<polygon fill=\"none\" points=\"413,-109 413,-153 488,-153 488,-109 413,-109\" stroke=\"black\"/>\n",
       "</g>\n",
       "<!-- 2&#45;&gt;1 -->\n",
       "<g class=\"edge\" id=\"edge3\"><title>2-&gt;1</title>\n",
       "<path d=\"M496.054,-128.017C541.623,-124.966 614.368,-120.095 676.688,-115.922\" fill=\"none\" stroke=\"black\"/>\n",
       "<polygon fill=\"black\" points=\"677.249,-119.392 686.993,-115.232 676.781,-112.408 677.249,-119.392\" stroke=\"black\"/>\n",
       "<text font-family=\"Times New Roman,serif\" font-size=\"14.00\" text-anchor=\"middle\" x=\"569\" y=\"-129.8\">C</text>\n",
       "</g>\n",
       "<!-- 3 -->\n",
       "<g class=\"node\" id=\"node3\"><title>3</title>\n",
       "<polygon fill=\"none\" points=\"54,-106 0,-106 0,-70 54,-70 54,-106\" stroke=\"black\"/>\n",
       "<text font-family=\"Times New Roman,serif\" font-size=\"14.00\" text-anchor=\"middle\" x=\"27\" y=\"-84.3\">3</text>\n",
       "</g>\n",
       "<!-- 5 -->\n",
       "<g class=\"node\" id=\"node5\"><title>5</title>\n",
       "<polygon fill=\"none\" points=\"239,-114 134,-114 134,-62 239,-62 239,-114\" stroke=\"black\"/>\n",
       "<polygon fill=\"none\" points=\"143.5,-88 143.5,-109 180.5,-109 180.5,-88 143.5,-88\" stroke=\"black\"/>\n",
       "<text font-family=\"Times New Roman,serif\" font-size=\"14.00\" font-weight=\"bold\" text-anchor=\"start\" x=\"146.5\" y=\"-95.8\">The</text>\n",
       "<polygon fill=\"none\" points=\"180.5,-88 180.5,-109 230.5,-109 230.5,-88 180.5,-88\" stroke=\"black\"/>\n",
       "<text font-family=\"Times New Roman,serif\" font-size=\"14.00\" font-weight=\"bold\" text-anchor=\"start\" x=\"183.5\" y=\"-95.8\">Sigla</text>\n",
       "<polygon fill=\"none\" points=\"143.5,-67 143.5,-88 180.5,-88 180.5,-67 143.5,-67\" stroke=\"black\"/>\n",
       "<text font-family=\"Bukyvede\" font-size=\"14.00\" text-anchor=\"start\" x=\"146.5\" y=\"-73.8\">The </text>\n",
       "<polygon fill=\"none\" points=\"180.5,-67 180.5,-88 230.5,-88 230.5,-67 180.5,-67\" stroke=\"black\"/>\n",
       "<text font-family=\"Times New Roman,serif\" font-size=\"14.00\" text-anchor=\"start\" x=\"183.5\" y=\"-73.8\">C, B, A</text>\n",
       "<polygon fill=\"none\" points=\"142,-66 142,-110 231,-110 231,-66 142,-66\" stroke=\"black\"/>\n",
       "</g>\n",
       "<!-- 3&#45;&gt;5 -->\n",
       "<g class=\"edge\" id=\"edge4\"><title>3-&gt;5</title>\n",
       "<path d=\"M54.0079,-88C72.9676,-88 99.476,-88 123.729,-88\" fill=\"none\" stroke=\"black\"/>\n",
       "<polygon fill=\"black\" points=\"123.956,-91.5001 133.956,-88 123.956,-84.5001 123.956,-91.5001\" stroke=\"black\"/>\n",
       "<text font-family=\"Times New Roman,serif\" font-size=\"14.00\" text-anchor=\"middle\" x=\"94\" y=\"-91.8\">A, B, C</text>\n",
       "</g>\n",
       "<!-- 4 -->\n",
       "<g class=\"node\" id=\"node4\"><title>4</title>\n",
       "<polygon fill=\"none\" points=\"624,-95 514,-95 514,-43 624,-43 624,-95\" stroke=\"black\"/>\n",
       "<polygon fill=\"none\" points=\"523,-69 523,-90 578,-90 578,-69 523,-69\" stroke=\"black\"/>\n",
       "<text font-family=\"Times New Roman,serif\" font-size=\"14.00\" font-weight=\"bold\" text-anchor=\"start\" x=\"526\" y=\"-76.8\">brown</text>\n",
       "<polygon fill=\"none\" points=\"578,-69 578,-90 615,-90 615,-69 578,-69\" stroke=\"black\"/>\n",
       "<text font-family=\"Times New Roman,serif\" font-size=\"14.00\" font-weight=\"bold\" text-anchor=\"start\" x=\"581\" y=\"-76.8\">Sigla</text>\n",
       "<polygon fill=\"none\" points=\"523,-48 523,-69 578,-69 578,-48 523,-48\" stroke=\"black\"/>\n",
       "<text font-family=\"Bukyvede\" font-size=\"14.00\" text-anchor=\"start\" x=\"526\" y=\"-54.8\">brown </text>\n",
       "<polygon fill=\"none\" points=\"578,-48 578,-69 615,-69 615,-48 578,-48\" stroke=\"black\"/>\n",
       "<text font-family=\"Times New Roman,serif\" font-size=\"14.00\" text-anchor=\"start\" x=\"581\" y=\"-54.8\">B, A</text>\n",
       "<polygon fill=\"none\" points=\"522,-47 522,-91 616,-91 616,-47 522,-47\" stroke=\"black\"/>\n",
       "</g>\n",
       "<!-- 4&#45;&gt;1 -->\n",
       "<g class=\"edge\" id=\"edge5\"><title>4-&gt;1</title>\n",
       "<path d=\"M624.179,-78.3911C640.162,-81.1614 658.315,-84.3079 676.676,-87.4904\" fill=\"none\" stroke=\"black\"/>\n",
       "<polygon fill=\"black\" points=\"676.133,-90.9485 686.584,-89.2078 677.328,-84.0513 676.133,-90.9485\" stroke=\"black\"/>\n",
       "<text font-family=\"Times New Roman,serif\" font-size=\"14.00\" text-anchor=\"middle\" x=\"655.5\" y=\"-89.8\">A, B</text>\n",
       "</g>\n",
       "<!-- 5&#45;&gt;2 -->\n",
       "<g class=\"edge\" id=\"edge8\"><title>5-&gt;2</title>\n",
       "<path d=\"M239.091,-98.5242C245.125,-99.7159 251.196,-100.897 257,-102 303.329,-110.802 356.342,-118.624 394.99,-123.92\" fill=\"none\" stroke=\"black\"/>\n",
       "<polygon fill=\"black\" points=\"394.611,-127.4 404.991,-125.278 395.553,-120.464 394.611,-127.4\" stroke=\"black\"/>\n",
       "<text font-family=\"Times New Roman,serif\" font-size=\"14.00\" text-anchor=\"middle\" x=\"262\" y=\"-106.8\">C</text>\n",
       "</g>\n",
       "<!-- 5&#45;&gt;4 -->\n",
       "<g class=\"edge\" id=\"edge7\"><title>5-&gt;4</title>\n",
       "<path d=\"M239.102,-86.0367C300.382,-83.6176 405.675,-79.1851 496,-74 498.518,-73.8555 501.084,-73.7028 503.677,-73.5441\" fill=\"none\" stroke=\"black\"/>\n",
       "<polygon fill=\"black\" points=\"503.996,-77.031 513.755,-72.9069 503.554,-70.0449 503.996,-77.031\" stroke=\"black\"/>\n",
       "<text font-family=\"Times New Roman,serif\" font-size=\"14.00\" text-anchor=\"middle\" x=\"336\" y=\"-88.8\">B</text>\n",
       "</g>\n",
       "<!-- 7 -->\n",
       "<g class=\"node\" id=\"node7\"><title>7</title>\n",
       "<polygon fill=\"none\" points=\"387,-52 285,-52 285,-0 387,-0 387,-52\" stroke=\"black\"/>\n",
       "<polygon fill=\"none\" points=\"294,-26 294,-47 341,-47 341,-26 294,-26\" stroke=\"black\"/>\n",
       "<text font-family=\"Times New Roman,serif\" font-size=\"14.00\" font-weight=\"bold\" text-anchor=\"start\" x=\"297\" y=\"-33.8\">quick</text>\n",
       "<polygon fill=\"none\" points=\"341,-26 341,-47 378,-47 378,-26 341,-26\" stroke=\"black\"/>\n",
       "<text font-family=\"Times New Roman,serif\" font-size=\"14.00\" font-weight=\"bold\" text-anchor=\"start\" x=\"344\" y=\"-33.8\">Sigla</text>\n",
       "<polygon fill=\"none\" points=\"294,-5 294,-26 341,-26 341,-5 294,-5\" stroke=\"black\"/>\n",
       "<text font-family=\"Bukyvede\" font-size=\"14.00\" text-anchor=\"start\" x=\"297\" y=\"-11.8\">quick </text>\n",
       "<polygon fill=\"none\" points=\"341,-5 341,-26 378,-26 378,-5 341,-5\" stroke=\"black\"/>\n",
       "<text font-family=\"Times New Roman,serif\" font-size=\"14.00\" text-anchor=\"start\" x=\"344\" y=\"-11.8\">A</text>\n",
       "<polygon fill=\"none\" points=\"293,-4 293,-48 379,-48 379,-4 293,-4\" stroke=\"black\"/>\n",
       "</g>\n",
       "<!-- 5&#45;&gt;7 -->\n",
       "<g class=\"edge\" id=\"edge6\"><title>5-&gt;7</title>\n",
       "<path d=\"M239.088,-66.3154C250.757,-61.4108 263.241,-56.1632 275.215,-51.1299\" fill=\"none\" stroke=\"black\"/>\n",
       "<polygon fill=\"black\" points=\"276.821,-54.2515 284.684,-47.1499 274.109,-47.7984 276.821,-54.2515\" stroke=\"black\"/>\n",
       "<text font-family=\"Times New Roman,serif\" font-size=\"14.00\" text-anchor=\"middle\" x=\"262\" y=\"-60.8\">A</text>\n",
       "</g>\n",
       "<!-- 6 -->\n",
       "<g class=\"node\" id=\"node6\"><title>6</title>\n",
       "<polygon fill=\"none\" points=\"1366,-119 1312,-119 1312,-83 1366,-83 1366,-119\" stroke=\"black\"/>\n",
       "<text font-family=\"Times New Roman,serif\" font-size=\"14.00\" text-anchor=\"middle\" x=\"1339\" y=\"-97.3\">6</text>\n",
       "</g>\n",
       "<!-- 7&#45;&gt;4 -->\n",
       "<g class=\"edge\" id=\"edge9\"><title>7-&gt;4</title>\n",
       "<path d=\"M387.124,-35.3304C421.327,-41.6973 466.936,-50.1873 503.798,-57.0489\" fill=\"none\" stroke=\"black\"/>\n",
       "<polygon fill=\"black\" points=\"503.474,-60.5487 513.946,-58.9379 504.755,-53.6669 503.474,-60.5487\" stroke=\"black\"/>\n",
       "<text font-family=\"Times New Roman,serif\" font-size=\"14.00\" text-anchor=\"middle\" x=\"450.5\" y=\"-59.8\">A</text>\n",
       "</g>\n",
       "<!-- 8&#45;&gt;6 -->\n",
       "<g class=\"edge\" id=\"edge10\"><title>8-&gt;6</title>\n",
       "<path d=\"M1232.41,-101C1254.95,-101 1280.89,-101 1301.42,-101\" fill=\"none\" stroke=\"black\"/>\n",
       "<polygon fill=\"black\" points=\"1301.61,-104.5 1311.61,-101 1301.61,-97.5001 1301.61,-104.5\" stroke=\"black\"/>\n",
       "<text font-family=\"Times New Roman,serif\" font-size=\"14.00\" text-anchor=\"middle\" x=\"1272\" y=\"-104.8\">A, B, C</text>\n",
       "</g>\n",
       "<!-- 9&#45;&gt;8 -->\n",
       "<g class=\"edge\" id=\"edge11\"><title>9-&gt;8</title>\n",
       "<path d=\"M1064.21,-73.2804C1081.03,-77.3424 1100.27,-81.9869 1118.12,-86.2978\" fill=\"none\" stroke=\"black\"/>\n",
       "<polygon fill=\"black\" points=\"1117.33,-89.7074 1127.87,-88.6526 1118.97,-82.903 1117.33,-89.7074\" stroke=\"black\"/>\n",
       "<text font-family=\"Times New Roman,serif\" font-size=\"14.00\" text-anchor=\"middle\" x=\"1096\" y=\"-87.8\">A, C</text>\n",
       "</g>\n",
       "</g>\n",
       "</svg>"
      ],
      "text/plain": [
       "<IPython.core.display.SVG object>"
      ]
     },
     "metadata": {},
     "output_type": "display_data"
    }
   ],
   "source": [
    "graph = collate(collation, output='svg')"
   ]
  },
  {
   "cell_type": "markdown",
   "metadata": {},
   "source": [
    "## Exercise\n",
    "\n",
    "In this tutorial we have used the *fox and dog* example. Now try to produce a JSON or TEI output of the first paragraph of Darwin's *On the origin of species*, that we have already used in the [first tutorial](http://nbviewer.jupyter.org/github/DiXiT-eu/collatex-tutorial/blob/master/unit5/1_collate-plain-text.ipynb). You can find the data in *fixtures/Darwin/txt* (only the first paragraph: *xxxx\\_par1*).\n",
    "\n",
    "Alternatively, or if you still have time, you can use the data in *fixtures/Woolf/Lighthouse-1* and produce new outputs."
   ]
  },
  {
   "cell_type": "markdown",
   "metadata": {},
   "source": [
    "## What's next\n",
    "\n",
    "In the next tutorial, [Collate outside the notebook](http://nbviewer.jupyter.org/github/DiXiT-eu/collatex-tutorial/blob/master/unit5/4_collate-outside-the-notebook.ipynb), we will leave the notebook and learn how to create and run Python scripts using PyCharm and the terminal, and how to save the collation results in a new file.\n"
   ]
  },
  {
   "cell_type": "code",
   "execution_count": null,
   "metadata": {
    "collapsed": true
   },
   "outputs": [],
   "source": []
  }
 ],
 "metadata": {
  "anaconda-cloud": {},
  "kernelspec": {
   "display_name": "Python 3",
   "language": "python",
   "name": "python3"
  },
  "language_info": {
   "codemirror_mode": {
    "name": "ipython",
    "version": 3
   },
   "file_extension": ".py",
   "mimetype": "text/x-python",
   "name": "python",
   "nbconvert_exporter": "python",
   "pygments_lexer": "ipython3",
   "version": "3.5.2"
  }
 },
 "nbformat": 4,
 "nbformat_minor": 0
}
