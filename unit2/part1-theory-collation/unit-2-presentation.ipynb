{
 "cells": [
  {
   "cell_type": "markdown",
   "metadata": {},
   "source": [
    "# Unit 2\n",
    "## Editorial theory and collation [in the West]\n",
    "[note: this notebook is still in the process of being written]"
   ]
  },
  {
   "cell_type": "markdown",
   "metadata": {},
   "source": [
    "Elena Spadini and Elli Bleeker"
   ]
  },
  {
   "cell_type": "markdown",
   "metadata": {
    "collapsed": true
   },
   "source": [
    "Collation at its most basic level means the comparison of two or more texts (literally: \"placing/laying side by side\"). Over the centuries, textual scholars have collated texts with different goals in mind. As a consequence, they have not always had a similar understanding of \"collation\". In the following paragraphs we will go over the various objectives of collation and see how these were affected by the editor's orientation.\n",
    "\n",
    "In general, texts are collated for three reasons: \n",
    "1. to track the transmission of a text;\n",
    "2. to get as close as possible to the original text; \n",
    "3. to establish a critical or final text. This could also mean the generation of a list of variants and/or a critical apparatus.\n",
    "\n",
    "Before diving any further into the theory (and practice!) of automated collation, we will take a look at the source of collation practice: the history of textual scholarship. This provides a framework in which we can place the different uses and approaches to collation that are discussed in the workshop."
   ]
  },
  {
   "cell_type": "markdown",
   "metadata": {},
   "source": [
    "## Origins of collation\n",
    "\n",
    "The origins of collation lie in ancient Greece where the librarians of the Library of Alexandria set out to collect multiple copies of manuscripts of the same work. They were primarily interested in copies that were different and used collation to list the variant readings. Based on the study of these copies, the librarians than tried to establish an \"ideal\" text that was not present in any individual copy. Conversely, textual scholars in Pergamum used collation and textual analysis to select a \"best\" text out of existing manuscript copies. At least an existing copy represents \"an actual historical moment\" in the transmission of the text, they argued.\n",
    "\n"
   ]
  },
  {
   "cell_type": "markdown",
   "metadata": {},
   "source": [
    "<img src=\"images/Ancientlibraryalex.jpg\"/>"
   ]
  },
  {
   "cell_type": "markdown",
   "metadata": {},
   "source": [
    "This dichotomy is an interesting one because it continues to exist in the centuries that followed. On the one side, we have the Alexandrian scholars that compared copies of a text to arrive to a Platonical, *ideal* text. On the other side, their colleagues in Pergamum that collated texts to find out the *best* existing copy. A similar distinction can be found with present day Anglo-American edition theory that dfifferentiates between reconstructing the ideal text and examining copies to find the best text. For instance, the copy-text editing theory of W.W. Greg is grounded on very similar principles to those of the Pergamum scholars.\n",
    "\n",
    "The methods of textual scholarship developed throughout the Middle Ages and the Renaissance, where the tradition of the Old Testament and the New Greek Testament pose a particularly difficult case that captivates textual scholars to this day. The search for the *origins of a text*, the establishment of an archetype and a family tree, is described as the \"genealogical\" method and forms the basis of stemmatology. "
   ]
  },
  {
   "cell_type": "markdown",
   "metadata": {},
   "source": [
    "## Modern editorial theory"
   ]
  },
  {
   "cell_type": "markdown",
   "metadata": {},
   "source": [
    "### Copy-text (W.W. Greg) \n",
    "The copy-text theory does not have textual criticism but bibliography as main point of inquiry. In other words, its studies \"the physical evidence and the facts of transmission\". Sometimes this method is disregarded as too subjective, because it differentiates between substantials (the author's words) and accidentals (the formal presentation, such as punctuation and spelling). The editor selects one text, often the first complete text, against which all other versions of that text are collated. When encountering substantial variants in other versions, the editor can decide to adjust the copy-text. In the end, the critical text is thus an ecclectic result of collating witnesses. In that sense the copy-text method is subjective, but contrary to the Pergamum method the selection here is grounded on close examination and not a personal preference of the editor. Although that is, arguably, a thin borderline.  \n",
    "\n",
    "### New bibliography (Fredson Bowers)\n",
    "Closely related to the theory of copy-text editing is the approach of *new bibliography*, of which Fredson Bowers is the most prominent figurehead. Bowers expanded upon Greg's theory of copy-text: he too stressed the importance of studying holographs to get closer to the author's intention. However, according to New Bibliography, the editor can go so far as to deduce the text as the author intended it. This approach has later been contested as being too eclectic,  based on subjective principles and -- again -- the editor's preconceptions.\n",
    "\n",
    "Although the copy-text method remained widely practiced in Anglo-American countries, we can see a methodological shift in focus during the 1970s and 1980s, when the transmission of a text was increasingly considered important as well. \n",
    "\n",
    "### Stemmatology\n",
    "The field of stemmatology is concerned with the reconstruction of the transmission of texts. Karl Lachmann and his pupil Paul Maas are most famously associated with this method. Through systematic study of existing copies of a text, focusing especially on scribal errors, stemmatologists build a family tree (\"stemma\") that can represent the relationships between these copies: the textual tradition. Additionally, the stemma's demonstrate which manuscript copies are closest related to the archetype text. Some have argued that the focus on scribal errors is too narrow, that it is better to focus instead on variance and speak of first hand and second hand variation.\n",
    "\n",
    "[INSERT IMAGE OF TREE]\n",
    "Fig. Stemma graph where letters represent manuscripts as nodes and the lines are the edges.\n",
    "\n",
    "### Phylogenetic analysis\n",
    "The technology of phylogenetics is originally used in the discipline of evolutionary biolology. Scholars found that the Darwinian 'tree of life' model as used in biology shares common features with the 'stemma codicum' model used by stemmatologists. First, both models start from a single unique origin. Secondly, the -- sometimes arbitrairy -- evolution of life forms is similar to the random changes a text undergoes by the hands of multiple scribes and copyists. The programs used for phylogenetic analysis can therefore be useful to study the transmission history of texts.\n",
    "\n",
    "[INSERT IMAGE OF TREE USED IN EVOLUTIONARY BIOLOGY]\n",
    "\n",
    "An additional advantage of this merging of disciplines is that stemmatologists are compelled to question some methods and concepts that have existed for centuries. \n",
    "\n",
    "### Historical-critical editing\n",
    "The German tradition of scholarly editing is often associated with the historical-critical edition (\"Historisch-kritische Ausgabe\" in German). In this approach, the edited text is presented as a unique moment or \"stage\" in the text's history. The editor is supposed to keep her interventions in the edited text to a bare minimum, only correcting obvious textual faults -- a concept which is, of course, also open for discussion. The entire textual history (that is, the other states of the text as can be derived from the extant documents) is presented as well, but in the form of an apparatus. The edition uses an often complicated system of diacritical signs to refer to the apparatus, the facsimiles and other additional commentary. Because of this complex structure and lay out, the historical-critical edition is often a hallmark for the inaccessibility of print scholarly editions. \n",
    "\n",
    "<img src=\"images/h-k ausgabe hoelderlin.jpg\"/>\n",
    "Historical-critical edition of the works of Friedrich Hölderlin, edited by D.E. Sattler (\"Historisch Kritische Gesammtausgabe Hoelderlin\")\n",
    "\n",
    "In its endeveour to present the entire history of the text, the historical-critical edition includes draft materials such as manuscripts and revised typescripts. This sparked a further concern in the genesis of a literary work, leading to a mutual interest between German editors and certain French geneticists.\n",
    "\n",
    "### Genetic editing [cf. genetic criticism]\n",
    "Genetic criticism (or \"critique génétique\") originates in France in the 1970s. French geneticists are primarily concerned with the origins and development of a text as can be deferred from authorial draft material such as notes, writing schemes and revised manuscripts. All these documents are assembled in a so-called \"dossier génétique\". The focus point of genetic criticism is not to find out the author's original intention but rather to examine the processes of writing -- or, more broadly, the process of creation. \n",
    "\n",
    "Just as the German editors of the historical-critical edition, geneticists aim to comprehend the entire history of a work, so they consider each version of equal importance. In principle, editing or producing an edited text is not part of genetic criticim. Genetic editing is based on the principles of genetic cricism. It has been suggested that the act of editing can actually assist the study of the writing process.\n",
    "\n",
    "To this goal, collation can be highly useful. At the same time, the use of collation to examine the creative writing process poses some original problems. Some of these will be discussed later this week. This regards the difference between textual variation on the page of the source document and the textual variation that occurs over document borders (for instance, from a manuscript to a typescript). Another challenge for collating in genetic editing is the definition of \"version\" or witness. If a sentence appears first on a note and is later incorporated in the running text of a manuscript, can we speak of two different versions of that sentence? Can a note constitute an individual witness?\n",
    "\n",
    "<img src=\"images/brulez-note.jpg\">\n",
    "Note of Raymond Brulez' Sheherazade (1932)\n"
   ]
  },
  {
   "cell_type": "markdown",
   "metadata": {},
   "source": [
    "<img src=\"images/brulez-ms-02.jpg\">\n",
    "Page of draft manuscript of *Sheherazade* (1932)"
   ]
  },
  {
   "cell_type": "markdown",
   "metadata": {},
   "source": [
    "### Conclusion\n",
    "In these present days of globalisation we notice that not one approach to scholarly editing prevails. Instead, the current methodologies is best described as a range of different perspectives on text. In \"Orientations to Text, Revisited\" (2015) Dirk van Hulle and Peter Shillingsburg outline six different editorial orientations to text, each with its own focus point and appertaining methodology. For this reason, it is all the more important to clearly state how you define the different concepts of collation. Why do you want to collate in the first place? What is your understanding of a version? Do you use a base-text? Do you wish to present an edited text and/or a critical apparatus? With these questions (and their answers) in mind, it is easier to select the collation method that suits your approach, your \"orientation to text\". A second point to keep in mind is that all editorial methods involve to a certain extent the editor's critical judgement. The same goes for the use of collation software programs. All they do is process the input data. The responsibility and interpretation is still a task of the editor."
   ]
  }
 ],
 "metadata": {
  "anaconda-cloud": {},
  "celltoolbar": "Raw Cell Format",
  "kernelspec": {
   "display_name": "Python [Root]",
   "language": "python",
   "name": "Python [Root]"
  },
  "language_info": {
   "codemirror_mode": {
    "name": "ipython",
    "version": 3
   },
   "file_extension": ".py",
   "mimetype": "text/x-python",
   "name": "python",
   "nbconvert_exporter": "python",
   "pygments_lexer": "ipython3",
   "version": "3.5.2"
  }
 },
 "nbformat": 4,
 "nbformat_minor": 0
}
